{
  "nbformat": 4,
  "nbformat_minor": 0,
  "metadata": {
    "colab": {
      "name": "Assignment_12.ipynb",
      "version": "0.3.2",
      "provenance": []
    },
    "kernelspec": {
      "name": "python3",
      "display_name": "Python 3"
    },
    "accelerator": "GPU"
  },
  "cells": [
    {
      "cell_type": "markdown",
      "metadata": {
        "id": "gUfpyl902b2Z",
        "colab_type": "text"
      },
      "source": [
        "# Assignment 12\n",
        "------------------------------------------------------------------------------------------------------------------------------------------------------------------------------------------------------------------------------------------\n",
        "\n",
        "\n",
        "### In this Assignment we are going to implement CIFAR10 model using the reference code given for the assignment and also we will try to impliment OneCycleLR. For this puspose we are going to use model architecture as the best Session 6 model architecture.\n",
        "\n",
        "### So to achieve this goal lets first import keras library and  import all pakages and functions from keras with which we are going to build the CNN model"
      ]
    },
    {
      "cell_type": "code",
      "metadata": {
        "id": "Y85AmrNSrzhk",
        "colab_type": "code",
        "colab": {
          "base_uri": "https://localhost:8080/",
          "height": 136
        },
        "outputId": "3defc212-e313-4bd4-d916-5bf08a69533e"
      },
      "source": [
        "!git clone https://github.com/santuhazra1/keras-one-cycle.git /tmp/keras_one_cycle\n",
        "!mv /tmp/keras_one_cycle/clr.py clr.py \n",
        "!rm -r /tmp/keras_one_cycle\n",
        "from keras import backend as K\n",
        "import time\n",
        "import matplotlib.pyplot as plt\n",
        "import numpy as np\n",
        "% matplotlib inline\n",
        "np.random.seed(2017) \n",
        "from keras.preprocessing import image\n",
        "from keras import regularizers\n",
        "from keras.models import Sequential\n",
        "from keras.layers.convolutional import Convolution2D, MaxPooling2D, AveragePooling2D\n",
        "from keras.layers import Activation, Flatten, Dense, Dropout\n",
        "from keras.layers.normalization import BatchNormalization\n",
        "from keras.utils import np_utils\n",
        "import cv2\n",
        "\n",
        "from clr import LRFinder, OneCycleLR"
      ],
      "execution_count": 142,
      "outputs": [
        {
          "output_type": "stream",
          "text": [
            "Cloning into '/tmp/keras_one_cycle'...\n",
            "remote: Enumerating objects: 3, done.\u001b[K\n",
            "remote: Counting objects: 100% (3/3), done.\u001b[K\n",
            "remote: Compressing objects: 100% (3/3), done.\u001b[K\n",
            "remote: Total 211 (delta 0), reused 0 (delta 0), pack-reused 208\u001b[K\n",
            "Receiving objects: 100% (211/211), 3.19 MiB | 2.46 MiB/s, done.\n",
            "Resolving deltas: 100% (82/82), done.\n"
          ],
          "name": "stdout"
        }
      ]
    },
    {
      "cell_type": "markdown",
      "metadata": {
        "id": "JQEkpOQgLG6e",
        "colab_type": "text"
      },
      "source": [
        "### Now we are going to load the pre-shuffled CIFAR10 data from keras. Out of total 60k data we have 50k different class image as train data and 10k image as test data which is autometically predefined in mnist dataset. So here we have total 10 different classes of images as: airplane, automobile, bird, cat, deer, dog, frog, horse, ship, truck."
      ]
    },
    {
      "cell_type": "code",
      "metadata": {
        "id": "Psx1-G6rL9Ch",
        "colab_type": "code",
        "outputId": "4d29722b-59cb-4fda-abfd-d8e91b8d04c3",
        "colab": {
          "base_uri": "https://localhost:8080/",
          "height": 51
        }
      },
      "source": [
        "from keras.datasets import cifar10\n",
        "(train_features, train_labels), (test_features, test_labels) = cifar10.load_data()\n",
        "num_train, img_rows, img_cols, img_channels =  train_features.shape\n",
        "num_test, _, _, _ =  test_features.shape\n",
        "num_classes = len(np.unique(train_labels))\n",
        "print(train_features.shape)\n",
        "print(test_features.shape)"
      ],
      "execution_count": 126,
      "outputs": [
        {
          "output_type": "stream",
          "text": [
            "(50000, 32, 32, 3)\n",
            "(10000, 32, 32, 3)\n"
          ],
          "name": "stdout"
        }
      ]
    },
    {
      "cell_type": "markdown",
      "metadata": {
        "id": "YLVpJEoeMBoR",
        "colab_type": "text"
      },
      "source": [
        "### Now let's look into some images. Here we are going to pick one image from each class randomly to see how it looks:"
      ]
    },
    {
      "cell_type": "code",
      "metadata": {
        "id": "lKkn4emyME79",
        "colab_type": "code",
        "outputId": "d38faf91-fe14-4214-eba0-4fb9f67ebaee",
        "colab": {
          "base_uri": "https://localhost:8080/",
          "height": 268
        }
      },
      "source": [
        "class_names = ['airplane','automobile','bird','cat','deer',\n",
        "               'dog','frog','horse','ship','truck']\n",
        "fig = plt.figure(figsize=(12,4))\n",
        "for i in range(num_classes):\n",
        "    ax = fig.add_subplot(2, 5, 1 + i, xticks=[], yticks=[])\n",
        "    idx = np.where(train_labels[:]==i)[0]\n",
        "    features_idx = train_features[idx,::]\n",
        "    img_num = np.random.randint(features_idx.shape[0])\n",
        "    im = features_idx[img_num]\n",
        "    ax.set_title(class_names[i])\n",
        "    plt.imshow(im)\n",
        "plt.show()"
      ],
      "execution_count": 127,
      "outputs": [
        {
          "output_type": "display_data",
          "data": {
            "image/png": "[encoded data removed]",
            "text/plain": [
              "<Figure size 864x288 with 10 Axes>"
            ]
          },
          "metadata": {
            "tags": []
          }
        }
      ]
    },
    {
      "cell_type": "markdown",
      "metadata": {
        "id": "IVQZIrtFMH39",
        "colab_type": "text"
      },
      "source": [
        "### Now here we are going to create a function which is going to plot our train and test model accuracy and losses with respect epochs."
      ]
    },
    {
      "cell_type": "code",
      "metadata": {
        "id": "2WiIsAOAMMwn",
        "colab_type": "code",
        "colab": {}
      },
      "source": [
        "def plot_model_history(model_history):\n",
        "    fig, axs = plt.subplots(1,2,figsize=(15,5))\n",
        "    # summarize history for accuracy\n",
        "    axs[0].plot(range(1,len(model_history.history['acc'])+1),model_history.history['acc'])\n",
        "    axs[0].plot(range(1,len(model_history.history['val_acc'])+1),model_history.history['val_acc'])\n",
        "    axs[0].set_title('Model Accuracy')\n",
        "    axs[0].set_ylabel('Accuracy')\n",
        "    axs[0].set_xlabel('Epoch')\n",
        "    axs[0].set_xticks(np.arange(1,len(model_history.history['acc'])+1),len(model_history.history['acc'])/10)\n",
        "    axs[0].legend(['train', 'val'], loc='best')\n",
        "    # summarize history for loss\n",
        "    axs[1].plot(range(1,len(model_history.history['loss'])+1),model_history.history['loss'])\n",
        "    axs[1].plot(range(1,len(model_history.history['val_loss'])+1),model_history.history['val_loss'])\n",
        "    axs[1].set_title('Model Loss')\n",
        "    axs[1].set_ylabel('Loss')\n",
        "    axs[1].set_xlabel('Epoch')\n",
        "    axs[1].set_xticks(np.arange(1,len(model_history.history['loss'])+1),len(model_history.history['loss'])/10)\n",
        "    axs[1].legend(['train', 'val'], loc='best')\n",
        "    plt.show()"
      ],
      "execution_count": 0,
      "outputs": []
    },
    {
      "cell_type": "markdown",
      "metadata": {
        "id": "J2Hiesm7MQCw",
        "colab_type": "text"
      },
      "source": [
        "### Also, here we have created one more function which is going to give us actual  test accuracy from model and test data:"
      ]
    },
    {
      "cell_type": "code",
      "metadata": {
        "id": "798C8QacMSvY",
        "colab_type": "code",
        "colab": {}
      },
      "source": [
        "def accuracy(test_x, test_y, model):\n",
        "    result = model.predict(test_x)\n",
        "    predicted_class = np.argmax(result, axis=1)\n",
        "    true_class = np.argmax(test_y, axis=1)\n",
        "    num_correct = np.sum(predicted_class == true_class) \n",
        "    accuracy = float(num_correct)/result.shape[0]\n",
        "    return (accuracy * 100)"
      ],
      "execution_count": 0,
      "outputs": []
    },
    {
      "cell_type": "markdown",
      "metadata": {
        "id": "tfxmaZs3OpAl",
        "colab_type": "text"
      },
      "source": [
        "### Now let's create a Random Crop function for image augmentation:"
      ]
    },
    {
      "cell_type": "code",
      "metadata": {
        "id": "hpeagGXYRdJQ",
        "colab_type": "code",
        "colab": {}
      },
      "source": [
        "def RandomCrop(img,crop_size,padding=None):\n",
        "  if padding==None:\n",
        "    img\n",
        "  else:\n",
        "    img = np.pad(img,((padding,padding),(padding,padding),(0,0)), mode='constant')\n",
        "    \n",
        "  height, width = img.shape[0], img.shape[1]\n",
        "  dy, dx = crop_size\n",
        "  x = np.random.randint(0, width - dx + 1)\n",
        "  y = np.random.randint(0, height - dy + 1)\n",
        "  return img[y:(y+dy), x:(x+dx), :]\n",
        "\n",
        "#x_train = train_features        \n",
        "train_crops = np.zeros_like(train_features)\n",
        "for i in range(train_features.shape[0]):\n",
        "    train_crops[i] = RandomCrop(train_features[i], (32, 32),4)\n",
        "train_features= train_crops"
      ],
      "execution_count": 0,
      "outputs": []
    },
    {
      "cell_type": "markdown",
      "metadata": {
        "id": "Pe0n3Gh5MfoZ",
        "colab_type": "text"
      },
      "source": [
        "### Now, lets scale the test and train data and change labels from 1-dimentional class matrix to 10 dimentional class matrix so that we can predict out of 10 class."
      ]
    },
    {
      "cell_type": "code",
      "metadata": {
        "id": "ooJKFGmWMgaW",
        "colab_type": "code",
        "colab": {}
      },
      "source": [
        "train_features = train_features.astype('float32')/255\n",
        "test_features = test_features.astype('float32')/255\n",
        "# convert class labels to binary class labels\n",
        "train_labels = np_utils.to_categorical(train_labels, num_classes)\n",
        "test_labels = np_utils.to_categorical(test_labels, num_classes)"
      ],
      "execution_count": 0,
      "outputs": []
    },
    {
      "cell_type": "markdown",
      "metadata": {
        "id": "fSWtCG2bMpcm",
        "colab_type": "text"
      },
      "source": [
        "### In the below model we have used batch normalization and learning rate optimization technique and we have also changed the amount of droupout in each layer. Now, let's see how this model is going to perform:"
      ]
    },
    {
      "cell_type": "code",
      "metadata": {
        "id": "WlgsdkjBMrZx",
        "colab_type": "code",
        "outputId": "f0a67f41-5e17-4ffa-da93-8c1134b3bf2a",
        "colab": {
          "base_uri": "https://localhost:8080/",
          "height": 238
        }
      },
      "source": [
        "# Define the model\n",
        "model = Sequential()\n",
        "model.add(Convolution2D(32, 3, 3, border_mode='same',kernel_regularizer=regularizers.l2(0.0001), input_shape=(32, 32, 3)))\n",
        "model.add(Activation('relu'))\n",
        "model.add(BatchNormalization())\n",
        "\n",
        "model.add(Convolution2D(64, 3, 3,kernel_regularizer=regularizers.l2(0.0001),border_mode='same'))\n",
        "model.add(Activation('relu'))\n",
        "model.add(BatchNormalization())\n",
        "\n",
        "model.add(MaxPooling2D(pool_size=(2, 2)))\n",
        "model.add(Dropout(0.2))\n",
        "\n",
        "model.add(Convolution2D(32, 1, 1))\n",
        "\n",
        "\n",
        "model.add(Convolution2D(64, 3, 3,kernel_regularizer=regularizers.l2(0.0001),border_mode='same'))\n",
        "model.add(Activation('relu'))\n",
        "model.add(BatchNormalization())\n",
        "\n",
        "model.add(Convolution2D(128, 3, 3,kernel_regularizer=regularizers.l2(0.0001),border_mode='same'))\n",
        "model.add(Activation('relu'))\n",
        "model.add(BatchNormalization())\n",
        "\n",
        "model.add(MaxPooling2D(pool_size=(2, 2)))\n",
        "model.add(Dropout(0.3))\n",
        "\n",
        "model.add(Convolution2D(32, 1, 1))\n",
        "\n",
        "\n",
        "model.add(Convolution2D(128, 3, 3,kernel_regularizer=regularizers.l2(0.0001), border_mode='same'))\n",
        "model.add(Activation('relu'))\n",
        "model.add(BatchNormalization())\n",
        "\n",
        "model.add(Convolution2D(256, 3, 3,kernel_regularizer=regularizers.l2(0.0001), border_mode='same'))\n",
        "model.add(Activation('relu'))\n",
        "model.add(BatchNormalization())\n",
        "\n",
        "model.add(MaxPooling2D(pool_size=(2, 2)))\n",
        "model.add(Dropout(0.5))\n",
        "\n",
        "model.add(Convolution2D(10, 1, 1))\n",
        "\n",
        "model.add(AveragePooling2D(pool_size = (4,4)))\n",
        "model.add(Flatten())\n",
        "\n",
        "\n",
        "model.add(Activation('softmax'))"
      ],
      "execution_count": 133,
      "outputs": [
        {
          "output_type": "stream",
          "text": [
            "/usr/local/lib/python3.6/dist-packages/ipykernel_launcher.py:2: UserWarning: Update your `Conv2D` call to the Keras 2 API: `Conv2D(32, (3, 3), kernel_regularizer=<keras.reg..., input_shape=(32, 32, 3..., padding=\"same\")`\n",
            "  \n",
            "/usr/local/lib/python3.6/dist-packages/ipykernel_launcher.py:6: UserWarning: Update your `Conv2D` call to the Keras 2 API: `Conv2D(64, (3, 3), kernel_regularizer=<keras.reg..., padding=\"same\")`\n",
            "  \n",
            "/usr/local/lib/python3.6/dist-packages/ipykernel_launcher.py:13: UserWarning: Update your `Conv2D` call to the Keras 2 API: `Conv2D(32, (1, 1))`\n",
            "  del sys.path[0]\n",
            "/usr/local/lib/python3.6/dist-packages/ipykernel_launcher.py:16: UserWarning: Update your `Conv2D` call to the Keras 2 API: `Conv2D(64, (3, 3), kernel_regularizer=<keras.reg..., padding=\"same\")`\n",
            "  app.launch_new_instance()\n",
            "/usr/local/lib/python3.6/dist-packages/ipykernel_launcher.py:20: UserWarning: Update your `Conv2D` call to the Keras 2 API: `Conv2D(128, (3, 3), kernel_regularizer=<keras.reg..., padding=\"same\")`\n",
            "/usr/local/lib/python3.6/dist-packages/ipykernel_launcher.py:27: UserWarning: Update your `Conv2D` call to the Keras 2 API: `Conv2D(32, (1, 1))`\n",
            "/usr/local/lib/python3.6/dist-packages/ipykernel_launcher.py:30: UserWarning: Update your `Conv2D` call to the Keras 2 API: `Conv2D(128, (3, 3), kernel_regularizer=<keras.reg..., padding=\"same\")`\n",
            "/usr/local/lib/python3.6/dist-packages/ipykernel_launcher.py:34: UserWarning: Update your `Conv2D` call to the Keras 2 API: `Conv2D(256, (3, 3), kernel_regularizer=<keras.reg..., padding=\"same\")`\n",
            "/usr/local/lib/python3.6/dist-packages/ipykernel_launcher.py:41: UserWarning: Update your `Conv2D` call to the Keras 2 API: `Conv2D(10, (1, 1))`\n"
          ],
          "name": "stderr"
        }
      ]
    },
    {
      "cell_type": "markdown",
      "metadata": {
        "id": "yXpmOeMnY4NB",
        "colab_type": "text"
      },
      "source": [
        "### Now let's look at the model summary:"
      ]
    },
    {
      "cell_type": "code",
      "metadata": {
        "id": "iwxd9U48Y5YC",
        "colab_type": "code",
        "outputId": "9883775a-c1b8-48b7-d30f-0cfab2d62c49",
        "colab": {
          "base_uri": "https://localhost:8080/",
          "height": 1000
        }
      },
      "source": [
        "model.summary()"
      ],
      "execution_count": 134,
      "outputs": [
        {
          "output_type": "stream",
          "text": [
            "_________________________________________________________________\n",
            "Layer (type)                 Output Shape              Param #   \n",
            "=================================================================\n",
            "conv2d_41 (Conv2D)           (None, 32, 32, 32)        896       \n",
            "_________________________________________________________________\n",
            "activation_29 (Activation)   (None, 32, 32, 32)        0         \n",
            "_________________________________________________________________\n",
            "batch_normalization_34 (Batc (None, 32, 32, 32)        128       \n",
            "_________________________________________________________________\n",
            "conv2d_42 (Conv2D)           (None, 32, 32, 64)        18496     \n",
            "_________________________________________________________________\n",
            "activation_30 (Activation)   (None, 32, 32, 64)        0         \n",
            "_________________________________________________________________\n",
            "batch_normalization_35 (Batc (None, 32, 32, 64)        256       \n",
            "_________________________________________________________________\n",
            "max_pooling2d_15 (MaxPooling (None, 16, 16, 64)        0         \n",
            "_________________________________________________________________\n",
            "dropout_22 (Dropout)         (None, 16, 16, 64)        0         \n",
            "_________________________________________________________________\n",
            "conv2d_43 (Conv2D)           (None, 16, 16, 32)        2080      \n",
            "_________________________________________________________________\n",
            "conv2d_44 (Conv2D)           (None, 16, 16, 64)        18496     \n",
            "_________________________________________________________________\n",
            "activation_31 (Activation)   (None, 16, 16, 64)        0         \n",
            "_________________________________________________________________\n",
            "batch_normalization_36 (Batc (None, 16, 16, 64)        256       \n",
            "_________________________________________________________________\n",
            "conv2d_45 (Conv2D)           (None, 16, 16, 128)       73856     \n",
            "_________________________________________________________________\n",
            "activation_32 (Activation)   (None, 16, 16, 128)       0         \n",
            "_________________________________________________________________\n",
            "batch_normalization_37 (Batc (None, 16, 16, 128)       512       \n",
            "_________________________________________________________________\n",
            "max_pooling2d_16 (MaxPooling (None, 8, 8, 128)         0         \n",
            "_________________________________________________________________\n",
            "dropout_23 (Dropout)         (None, 8, 8, 128)         0         \n",
            "_________________________________________________________________\n",
            "conv2d_46 (Conv2D)           (None, 8, 8, 32)          4128      \n",
            "_________________________________________________________________\n",
            "conv2d_47 (Conv2D)           (None, 8, 8, 128)         36992     \n",
            "_________________________________________________________________\n",
            "activation_33 (Activation)   (None, 8, 8, 128)         0         \n",
            "_________________________________________________________________\n",
            "batch_normalization_38 (Batc (None, 8, 8, 128)         512       \n",
            "_________________________________________________________________\n",
            "conv2d_48 (Conv2D)           (None, 8, 8, 256)         295168    \n",
            "_________________________________________________________________\n",
            "activation_34 (Activation)   (None, 8, 8, 256)         0         \n",
            "_________________________________________________________________\n",
            "batch_normalization_39 (Batc (None, 8, 8, 256)         1024      \n",
            "_________________________________________________________________\n",
            "max_pooling2d_17 (MaxPooling (None, 4, 4, 256)         0         \n",
            "_________________________________________________________________\n",
            "dropout_24 (Dropout)         (None, 4, 4, 256)         0         \n",
            "_________________________________________________________________\n",
            "conv2d_49 (Conv2D)           (None, 4, 4, 10)          2570      \n",
            "_________________________________________________________________\n",
            "average_pooling2d_4 (Average (None, 1, 1, 10)          0         \n",
            "_________________________________________________________________\n",
            "flatten_5 (Flatten)          (None, 10)                0         \n",
            "_________________________________________________________________\n",
            "activation_35 (Activation)   (None, 10)                0         \n",
            "=================================================================\n",
            "Total params: 455,370\n",
            "Trainable params: 454,026\n",
            "Non-trainable params: 1,344\n",
            "_________________________________________________________________\n"
          ],
          "name": "stdout"
        }
      ]
    },
    {
      "cell_type": "markdown",
      "metadata": {
        "id": "tGyoOdus4OGu",
        "colab_type": "text"
      },
      "source": [
        "### Now, lets implement cutout augmentation technique in our CFIAR10 dataset and train the model with augmented data:"
      ]
    },
    {
      "cell_type": "code",
      "metadata": {
        "id": "HM61E86f4PZ3",
        "colab_type": "code",
        "colab": {}
      },
      "source": [
        "def get_random_eraser(p=0.5, s_l=0.02, s_h=0.4, r_1=0.3, r_2=1/0.3, v_l=0, v_h=255, pixel_level=False):\n",
        "    def eraser(input_img):\n",
        "        img_h, img_w, img_c = input_img.shape\n",
        "        p_1 = np.random.rand()\n",
        "\n",
        "        if p_1 > p:\n",
        "            return input_img\n",
        "\n",
        "        while True:\n",
        "            s = np.random.uniform(s_l, s_h) * img_h * img_w\n",
        "            r = np.random.uniform(r_1, r_2)\n",
        "            w = int(np.sqrt(s / r))\n",
        "            h = int(np.sqrt(s * r))\n",
        "            left = np.random.randint(0, img_w)\n",
        "            top = np.random.randint(0, img_h)\n",
        "\n",
        "            if left + w <= img_w and top + h <= img_h:\n",
        "                break\n",
        "\n",
        "        if pixel_level:\n",
        "            c = np.random.uniform(v_l, v_h, (h, w, img_c))\n",
        "        else:\n",
        "            c = np.random.uniform(v_l, v_h)\n",
        "\n",
        "        input_img[top:top + h, left:left + w, :] = c\n",
        "\n",
        "        return input_img\n",
        "\n",
        "    return eraser"
      ],
      "execution_count": 0,
      "outputs": []
    },
    {
      "cell_type": "markdown",
      "metadata": {
        "id": "cmJbbF6HaNW1",
        "colab_type": "text"
      },
      "source": [
        "### Now, As we have to implement OneCycleLR for that purpose first we have to find optimum learning rate, momentum and weight decay. So, let's first try to find optimum learning rate through LRFinder:"
      ]
    },
    {
      "cell_type": "code",
      "metadata": {
        "id": "Rik5q9eNa6OX",
        "colab_type": "code",
        "outputId": "3db20692-8009-4ca5-f20a-df91df5a2710",
        "colab": {
          "base_uri": "https://localhost:8080/",
          "height": 291
        }
      },
      "source": [
        "import os\n",
        "if not os.path.exists('weights/'):\n",
        "    os.makedirs('weights/')\n",
        "\n",
        "weights_file = 'weights/LR_schedule.h5'\n",
        "model_checkpoint = ModelCheckpoint(weights_file, monitor='val_acc', save_best_only=True,\n",
        "                                   save_weights_only=True, mode='max')\n",
        "model_LR_Finder = model\n",
        "\n",
        "mean = np.mean(train_features, axis=(0, 1, 2), keepdims=True).astype('float32')\n",
        "std = np.mean(train_features, axis=(0, 1, 2), keepdims=True).astype('float32')\n",
        "\n",
        "X_train = (train_features - mean) / (std)\n",
        "X_test = (test_features - mean) / (std)\n",
        "\n",
        "num_samples = X_train.shape[0]\n",
        "batch_size = 128\n",
        "\n",
        "lr_finder = LRFinder(num_samples, batch_size, minimum_lr=1e-3, maximum_lr=10.,\n",
        "                     lr_scale='exp',\n",
        "                     validation_data=(X_test, test_labels),  # use the validation data for losses\n",
        "                     validation_sample_rate=5,\n",
        "                     save_dir='weights/', verbose=0)\n",
        "\n",
        "optimizer = SGD(lr=0.1, momentum=0.9, nesterov=True)\n",
        "model_LR_Finder.compile(loss='categorical_crossentropy', optimizer=optimizer, metrics=['accuracy'])\n",
        "\n",
        "model_LR_Finder.fit(X_train, train_labels,\n",
        "          batch_size=batch_size,\n",
        "          epochs=1,\n",
        "          validation_data=(X_test, test_labels),\n",
        "          shuffle=True,\n",
        "          verbose=0,\n",
        "          callbacks=[lr_finder, model_checkpoint])\n",
        "\n",
        "lr_finder.plot_schedule(clip_beginning=10, clip_endding=5)"
      ],
      "execution_count": 0,
      "outputs": [
        {
          "output_type": "display_data",
          "data": {
            "image/png": "[encoded data removed]",
            "text/plain": [
              "<Figure size 432x288 with 1 Axes>"
            ]
          },
          "metadata": {
            "tags": []
          }
        }
      ]
    },
    {
      "cell_type": "markdown",
      "metadata": {
        "id": "TzdTMkF7VxdJ",
        "colab_type": "text"
      },
      "source": [
        "### From the above curve we can see that after -1.8 loss became unstable and if we further increase learning rate loss is increasing. So, we we can take maximum learning rate as -1.8. Now, since this is in log scale so actual learning rate is going to be 10^-1.8 i.e. 0.015. \n",
        "\n",
        "### Next we are going to use this optimim learning rate to find optimum momentum in the below using LRFinder:"
      ]
    },
    {
      "cell_type": "code",
      "metadata": {
        "id": "gQAQMpeaXG02",
        "colab_type": "code",
        "outputId": "b9891a9e-987e-44b9-9613-f6e57131bbdf",
        "colab": {
          "base_uri": "https://localhost:8080/",
          "height": 291
        }
      },
      "source": [
        "MOMENTUMS = [0.9, 0.95, 0.99]\n",
        "\n",
        "for momentum in MOMENTUMS:\n",
        "  lr_finder2 = LRFinder(num_samples, batch_size, minimum_lr=0.0015, maximum_lr=0.015,\n",
        "                     validation_data=(X_test, test_labels),\n",
        "                     validation_sample_rate=5,\n",
        "                     lr_scale='linear', save_dir='weights/momentum/momentum-%s/' % str(momentum),\n",
        "                     verbose=0)\n",
        "\n",
        "\n",
        "  model_Momentum = model\n",
        "\n",
        "  optimizer2 = SGD(lr=0.002, momentum=momentum, nesterov=True)\n",
        "  model_Momentum.compile(loss='categorical_crossentropy', optimizer=optimizer2, metrics=['accuracy'])\n",
        "\n",
        "  model_Momentum.fit(X_train, train_labels,\n",
        "          batch_size=batch_size,\n",
        "          epochs=1,\n",
        "          validation_data=(X_test, test_labels),\n",
        "          shuffle=True,\n",
        "          verbose=0,\n",
        "          callbacks=[lr_finder2])\n",
        "\n",
        "\n",
        "\n",
        "for momentum in MOMENTUMS:\n",
        "    directory = 'weights/momentum/momentum-%s/' % str(momentum)\n",
        "\n",
        "    losses, lrs = LRFinder.restore_schedule_from_dir(directory, 10, 5)\n",
        "    plt.plot(lrs, losses, label='momentum=%0.2f' % momentum)\n",
        "\n",
        "plt.title(\"Momentum\")\n",
        "plt.xlabel(\"Learning rate\")\n",
        "plt.ylabel(\"Validation Loss\")\n",
        "plt.legend()\n",
        "plt.show()"
      ],
      "execution_count": 0,
      "outputs": [
        {
          "output_type": "display_data",
          "data": {
            "image/png": "[encoded data removed]",
            "text/plain": [
              "<Figure size 432x288 with 1 Axes>"
            ]
          },
          "metadata": {
            "tags": []
          }
        }
      ]
    },
    {
      "cell_type": "markdown",
      "metadata": {
        "id": "WcIQOGw2gqPv",
        "colab_type": "text"
      },
      "source": [
        "### So, from the above graph we can see that out 3 momentum yellow curve corrosponding to 0.95 is performing better overall. So, in this case we are going to take our optimim momentum as 0.95\n"
      ]
    },
    {
      "cell_type": "markdown",
      "metadata": {
        "id": "CaOV9Z8334e1",
        "colab_type": "text"
      },
      "source": [
        "### Now let's try to define some hyper parameter which we are going to use later on."
      ]
    },
    {
      "cell_type": "code",
      "metadata": {
        "id": "iAxjPwgz35Vc",
        "colab_type": "code",
        "colab": {}
      },
      "source": [
        "BATCH_SIZE = 512 #@param [\"512\", \"256\", \"128\", \"64\"] {type:\"raw\"}\n",
        "MOMENTUM = 0.95 #@param [\"0.9\", \"0.95\", \"0.975\"] {type:\"raw\"}\n",
        "WEIGHT_DECAY = 0.000125 #@param [\"0.000125\",\"1e-7\", \"3e-7\", \"3e-6\", \"5e-4\"] {type:\"raw\"}\n",
        "LEARNING_RATE = 0.015 #@param [\"0.4\", \"0.2\", \"0.1\", 0.015] {type:\"raw\"}\n",
        "EPOCHS = 100 #@param {type:\"slider\", min:0, max:300, step:1}"
      ],
      "execution_count": 0,
      "outputs": []
    },
    {
      "cell_type": "markdown",
      "metadata": {
        "id": "1tHR6xZQ3w0j",
        "colab_type": "text"
      },
      "source": [
        "\n",
        "### Now, Let's implement One Cycle CLR using maximum learning rate and momentum:"
      ]
    },
    {
      "cell_type": "code",
      "metadata": {
        "id": "MUSu1V_Dl0-D",
        "colab_type": "code",
        "colab": {}
      },
      "source": [
        "lr_manager_model = OneCycleLR(num_samples = train_features.shape[0], batchsize= BATCH_SIZE, max_lr=LEARNING_RATE,\n",
        "                        end_percentage=0.1, scale_percentage=None,\n",
        "                        maximum_momentum=MOMENTUM, minimum_momentum=MOMENTUM)"
      ],
      "execution_count": 0,
      "outputs": []
    },
    {
      "cell_type": "markdown",
      "metadata": {
        "id": "51hf5LWfao3p",
        "colab_type": "text"
      },
      "source": [
        "### Now we are going to run this model for 100 epochs and let's check what training accuracy we are going to get:"
      ]
    },
    {
      "cell_type": "code",
      "metadata": {
        "id": "NBxaWQ8NaqnD",
        "colab_type": "code",
        "colab": {}
      },
      "source": [
        "from keras.optimizers import SGD\n",
        "from keras.callbacks import LearningRateScheduler\n",
        "from keras.callbacks import ModelCheckpoint\n",
        "\n",
        "model.compile(loss='categorical_crossentropy', optimizer=SGD(lr=LEARNING_RATE, momentum=MOMENTUM, nesterov=True), metrics=['accuracy'])"
      ],
      "execution_count": 0,
      "outputs": []
    },
    {
      "cell_type": "code",
      "metadata": {
        "id": "xQrI3p5ia4z3",
        "colab_type": "code",
        "outputId": "fa0c802b-0756-45eb-cdf0-6cc77d5ae0e0",
        "colab": {
          "base_uri": "https://localhost:8080/",
          "height": 1000
        }
      },
      "source": [
        "# checkpoint\n",
        "filepath=\"best_model.hdf5\"\n",
        "checkpoint = ModelCheckpoint(filepath, monitor='val_acc', verbose=1, save_best_only=True, mode='max')\n",
        "\n",
        "from keras.preprocessing.image import ImageDataGenerator\n",
        "\n",
        "datagen_train = ImageDataGenerator(zoom_range=0.0,horizontal_flip=True,\n",
        "                             featurewise_center=True, featurewise_std_normalization=True,preprocessing_function=get_random_eraser(v_l=0, v_h=1,pixel_level=True))\n",
        "\n",
        "datagen_test = ImageDataGenerator(featurewise_center=True, featurewise_std_normalization=True)\n",
        "iterator_test = datagen_test.flow(test_features, test_labels, batch_size=len(test_features), shuffle=False)\n",
        "test_features_2, test_labels_2 = iterator_test.next()\n",
        "\n",
        "# train the model\n",
        "start = time.time()\n",
        "# Train the model\n",
        "model_info = model.fit_generator(datagen_train.flow(train_features, train_labels, batch_size = BATCH_SIZE),\n",
        "                                 samples_per_epoch = train_features.shape[0], nb_epoch = EPOCHS, \n",
        "                                 validation_data = (test_features_2, test_labels_2), verbose=1,\n",
        "                                 callbacks=[checkpoint,lr_manager_model])\n",
        "end = time.time()\n",
        "print (\"Model took %0.2f seconds to train\"%(end - start))\n",
        "# plot model history\n",
        "plot_model_history(model_info)\n",
        "# compute test accuracy\n",
        "model.load_weights('best_model.hdf5')\n",
        "print (\"Accuracy on test data is: %0.2f\"%accuracy(test_features, test_labels, model))"
      ],
      "execution_count": 140,
      "outputs": [
        {
          "output_type": "stream",
          "text": [
            "/usr/local/lib/python3.6/dist-packages/keras_preprocessing/image/image_data_generator.py:716: UserWarning: This ImageDataGenerator specifies `featurewise_center`, but it hasn't been fit on any training data. Fit it first by calling `.fit(numpy_data)`.\n",
            "  warnings.warn('This ImageDataGenerator specifies '\n",
            "/usr/local/lib/python3.6/dist-packages/keras_preprocessing/image/image_data_generator.py:724: UserWarning: This ImageDataGenerator specifies `featurewise_std_normalization`, but it hasn't been fit on any training data. Fit it first by calling `.fit(numpy_data)`.\n",
            "  warnings.warn('This ImageDataGenerator specifies '\n",
            "/usr/local/lib/python3.6/dist-packages/ipykernel_launcher.py:19: UserWarning: The semantics of the Keras 2 argument `steps_per_epoch` is not the same as the Keras 1 argument `samples_per_epoch`. `steps_per_epoch` is the number of batches to draw from the generator at each epoch. Basically steps_per_epoch = samples_per_epoch/batch_size. Similarly `nb_val_samples`->`validation_steps` and `val_samples`->`steps` arguments have changed. Update your method calls accordingly.\n",
            "/usr/local/lib/python3.6/dist-packages/ipykernel_launcher.py:19: UserWarning: Update your `fit_generator` call to the Keras 2 API: `fit_generator(<keras_pre..., validation_data=(array([[[..., verbose=1, callbacks=[<keras.ca..., steps_per_epoch=97, epochs=100)`\n"
          ],
          "name": "stderr"
        },
        {
          "output_type": "stream",
          "text": [
            "Class: <clr.OneCycleLR object at 0x7f8a948deb38>\n",
            "Values: {'validation_data': None, 'model': <keras.engine.sequential.Sequential object at 0x7f8a95762358>, 'initial_lr': 0.015, 'end_percentage': 0.1, 'scale': 0.1, 'max_momentum': 0.95, 'min_momentum': 0.95, 'verbose': True, '_update_momentum': True, 'clr_iterations': 0.0, 'history': {}, 'epochs': None, 'batch_size': 512, 'samples': 50000, 'steps': None, 'num_iterations': None, 'mid_cycle_id': None, 'params': {'epochs': 100, 'steps': 97, 'verbose': 1, 'do_validation': True, 'metrics': ['loss', 'acc', 'val_loss', 'val_acc']}}\n",
            "Epoch 1/100\n"
          ],
          "name": "stdout"
        },
        {
          "output_type": "stream",
          "text": [
            "/usr/local/lib/python3.6/dist-packages/keras_preprocessing/image/image_data_generator.py:716: UserWarning: This ImageDataGenerator specifies `featurewise_center`, but it hasn't been fit on any training data. Fit it first by calling `.fit(numpy_data)`.\n",
            "  warnings.warn('This ImageDataGenerator specifies '\n",
            "/usr/local/lib/python3.6/dist-packages/keras_preprocessing/image/image_data_generator.py:724: UserWarning: This ImageDataGenerator specifies `featurewise_std_normalization`, but it hasn't been fit on any training data. Fit it first by calling `.fit(numpy_data)`.\n",
            "  warnings.warn('This ImageDataGenerator specifies '\n"
          ],
          "name": "stderr"
        },
        {
          "output_type": "stream",
          "text": [
            " 3/97 [..............................] - ETA: 1:08 - loss: 3.5004 - acc: 0.1048"
          ],
          "name": "stdout"
        },
        {
          "output_type": "stream",
          "text": [
            "/usr/local/lib/python3.6/dist-packages/keras/callbacks.py:122: UserWarning: Method on_batch_end() is slow compared to the batch update (0.220828). Check your callbacks.\n",
            "  % delta_t_median)\n"
          ],
          "name": "stderr"
        },
        {
          "output_type": "stream",
          "text": [
            "97/97 [==============================] - 21s 220ms/step - loss: 2.0937 - acc: 0.2738 - val_loss: 1.7902 - val_acc: 0.3679\n",
            "\n",
            "Epoch 00001: val_acc improved from -inf to 0.36790, saving model to best_model.hdf5\n",
            " - lr: 0.00179 - momentum: 0.95 \n",
            "Epoch 2/100\n",
            "97/97 [==============================] - 19s 200ms/step - loss: 1.6625 - acc: 0.4034 - val_loss: 2.0774 - val_acc: 0.3694\n",
            "\n",
            "Epoch 00002: val_acc improved from 0.36790 to 0.36940, saving model to best_model.hdf5\n",
            " - lr: 0.00209 - momentum: 0.95 \n",
            "Epoch 3/100\n",
            "97/97 [==============================] - 19s 199ms/step - loss: 1.4941 - acc: 0.4745 - val_loss: 1.5039 - val_acc: 0.5140\n",
            "\n",
            "Epoch 00003: val_acc improved from 0.36940 to 0.51400, saving model to best_model.hdf5\n",
            " - lr: 0.00238 - momentum: 0.95 \n",
            "Epoch 4/100\n",
            "97/97 [==============================] - 19s 199ms/step - loss: 1.3760 - acc: 0.5188 - val_loss: 1.2976 - val_acc: 0.5642\n",
            "\n",
            "Epoch 00004: val_acc improved from 0.51400 to 0.56420, saving model to best_model.hdf5\n",
            " - lr: 0.00268 - momentum: 0.95 \n",
            "Epoch 5/100\n",
            "97/97 [==============================] - 19s 199ms/step - loss: 1.2856 - acc: 0.5534 - val_loss: 1.4998 - val_acc: 0.5373\n",
            "\n",
            "Epoch 00005: val_acc did not improve from 0.56420\n",
            " - lr: 0.00297 - momentum: 0.95 \n",
            "Epoch 6/100\n",
            "97/97 [==============================] - 19s 199ms/step - loss: 1.2127 - acc: 0.5800 - val_loss: 1.2756 - val_acc: 0.5853\n",
            "\n",
            "Epoch 00006: val_acc improved from 0.56420 to 0.58530, saving model to best_model.hdf5\n",
            " - lr: 0.00327 - momentum: 0.95 \n",
            "Epoch 7/100\n",
            "97/97 [==============================] - 19s 199ms/step - loss: 1.1499 - acc: 0.6022 - val_loss: 1.2195 - val_acc: 0.5966\n",
            "\n",
            "Epoch 00007: val_acc improved from 0.58530 to 0.59660, saving model to best_model.hdf5\n",
            " - lr: 0.00356 - momentum: 0.95 \n",
            "Epoch 8/100\n",
            "97/97 [==============================] - 19s 199ms/step - loss: 1.1088 - acc: 0.6179 - val_loss: 1.5313 - val_acc: 0.5428\n",
            "\n",
            "Epoch 00008: val_acc did not improve from 0.59660\n",
            " - lr: 0.00386 - momentum: 0.95 \n",
            "Epoch 9/100\n",
            "97/97 [==============================] - 19s 199ms/step - loss: 1.0527 - acc: 0.6369 - val_loss: 1.0592 - val_acc: 0.6522\n",
            "\n",
            "Epoch 00009: val_acc improved from 0.59660 to 0.65220, saving model to best_model.hdf5\n",
            " - lr: 0.00415 - momentum: 0.95 \n",
            "Epoch 10/100\n",
            "97/97 [==============================] - 19s 199ms/step - loss: 1.0192 - acc: 0.6516 - val_loss: 0.9736 - val_acc: 0.6779\n",
            "\n",
            "Epoch 00010: val_acc improved from 0.65220 to 0.67790, saving model to best_model.hdf5\n",
            " - lr: 0.00445 - momentum: 0.95 \n",
            "Epoch 11/100\n",
            "97/97 [==============================] - 19s 199ms/step - loss: 0.9836 - acc: 0.6639 - val_loss: 0.9359 - val_acc: 0.6891\n",
            "\n",
            "Epoch 00011: val_acc improved from 0.67790 to 0.68910, saving model to best_model.hdf5\n",
            " - lr: 0.00474 - momentum: 0.95 \n",
            "Epoch 12/100\n",
            "97/97 [==============================] - 19s 198ms/step - loss: 0.9428 - acc: 0.6778 - val_loss: 1.0592 - val_acc: 0.6579\n",
            "\n",
            "Epoch 00012: val_acc did not improve from 0.68910\n",
            " - lr: 0.00504 - momentum: 0.95 \n",
            "Epoch 13/100\n",
            "97/97 [==============================] - 19s 199ms/step - loss: 0.9118 - acc: 0.6884 - val_loss: 1.0397 - val_acc: 0.6625\n",
            "\n",
            "Epoch 00013: val_acc did not improve from 0.68910\n",
            " - lr: 0.00533 - momentum: 0.95 \n",
            "Epoch 14/100\n",
            "97/97 [==============================] - 19s 199ms/step - loss: 0.8793 - acc: 0.7031 - val_loss: 1.0131 - val_acc: 0.6710\n",
            "\n",
            "Epoch 00014: val_acc did not improve from 0.68910\n",
            " - lr: 0.00563 - momentum: 0.95 \n",
            "Epoch 15/100\n",
            "97/97 [==============================] - 19s 199ms/step - loss: 0.8533 - acc: 0.7122 - val_loss: 0.9636 - val_acc: 0.6870\n",
            "\n",
            "Epoch 00015: val_acc did not improve from 0.68910\n",
            " - lr: 0.00592 - momentum: 0.95 \n",
            "Epoch 16/100\n",
            "97/97 [==============================] - 19s 199ms/step - loss: 0.8384 - acc: 0.7201 - val_loss: 0.7981 - val_acc: 0.7372\n",
            "\n",
            "Epoch 00016: val_acc improved from 0.68910 to 0.73720, saving model to best_model.hdf5\n",
            " - lr: 0.00622 - momentum: 0.95 \n",
            "Epoch 17/100\n",
            "97/97 [==============================] - 19s 198ms/step - loss: 0.8047 - acc: 0.7297 - val_loss: 0.9315 - val_acc: 0.7024\n",
            "\n",
            "Epoch 00017: val_acc did not improve from 0.73720\n",
            " - lr: 0.00651 - momentum: 0.95 \n",
            "Epoch 18/100\n",
            "97/97 [==============================] - 19s 198ms/step - loss: 0.7880 - acc: 0.7365 - val_loss: 0.7476 - val_acc: 0.7587\n",
            "\n",
            "Epoch 00018: val_acc improved from 0.73720 to 0.75870, saving model to best_model.hdf5\n",
            " - lr: 0.00681 - momentum: 0.95 \n",
            "Epoch 19/100\n",
            "97/97 [==============================] - 19s 199ms/step - loss: 0.7631 - acc: 0.7447 - val_loss: 0.7136 - val_acc: 0.7743\n",
            "\n",
            "Epoch 00019: val_acc improved from 0.75870 to 0.77430, saving model to best_model.hdf5\n",
            " - lr: 0.00710 - momentum: 0.95 \n",
            "Epoch 20/100\n",
            "97/97 [==============================] - 19s 199ms/step - loss: 0.7482 - acc: 0.7522 - val_loss: 0.7384 - val_acc: 0.7688\n",
            "\n",
            "Epoch 00020: val_acc did not improve from 0.77430\n",
            " - lr: 0.00740 - momentum: 0.95 \n",
            "Epoch 21/100\n",
            "97/97 [==============================] - 19s 199ms/step - loss: 0.7319 - acc: 0.7534 - val_loss: 0.6634 - val_acc: 0.7951\n",
            "\n",
            "Epoch 00021: val_acc improved from 0.77430 to 0.79510, saving model to best_model.hdf5\n",
            " - lr: 0.00769 - momentum: 0.95 \n",
            "Epoch 22/100\n",
            "97/97 [==============================] - 19s 199ms/step - loss: 0.7181 - acc: 0.7616 - val_loss: 0.7475 - val_acc: 0.7662\n",
            "\n",
            "Epoch 00022: val_acc did not improve from 0.79510\n",
            " - lr: 0.00799 - momentum: 0.95 \n",
            "Epoch 23/100\n",
            "97/97 [==============================] - 19s 198ms/step - loss: 0.6988 - acc: 0.7704 - val_loss: 0.6787 - val_acc: 0.7838\n",
            "\n",
            "Epoch 00023: val_acc did not improve from 0.79510\n",
            " - lr: 0.00828 - momentum: 0.95 \n",
            "Epoch 24/100\n",
            "97/97 [==============================] - 19s 198ms/step - loss: 0.7009 - acc: 0.7699 - val_loss: 0.7484 - val_acc: 0.7759\n",
            "\n",
            "Epoch 00024: val_acc did not improve from 0.79510\n",
            " - lr: 0.00858 - momentum: 0.95 \n",
            "Epoch 25/100\n",
            "97/97 [==============================] - 19s 199ms/step - loss: 0.6798 - acc: 0.7788 - val_loss: 0.6869 - val_acc: 0.7792\n",
            "\n",
            "Epoch 00025: val_acc did not improve from 0.79510\n",
            " - lr: 0.00887 - momentum: 0.95 \n",
            "Epoch 26/100\n",
            "97/97 [==============================] - 19s 199ms/step - loss: 0.6638 - acc: 0.7844 - val_loss: 0.5956 - val_acc: 0.8096\n",
            "\n",
            "Epoch 00026: val_acc improved from 0.79510 to 0.80960, saving model to best_model.hdf5\n",
            " - lr: 0.00917 - momentum: 0.95 \n",
            "Epoch 27/100\n",
            "97/97 [==============================] - 19s 199ms/step - loss: 0.6549 - acc: 0.7854 - val_loss: 0.6796 - val_acc: 0.7927\n",
            "\n",
            "Epoch 00027: val_acc did not improve from 0.80960\n",
            " - lr: 0.00946 - momentum: 0.95 \n",
            "Epoch 28/100\n",
            "97/97 [==============================] - 19s 199ms/step - loss: 0.6393 - acc: 0.7920 - val_loss: 0.6789 - val_acc: 0.7949\n",
            "\n",
            "Epoch 00028: val_acc did not improve from 0.80960\n",
            " - lr: 0.00976 - momentum: 0.95 \n",
            "Epoch 29/100\n",
            "97/97 [==============================] - 19s 199ms/step - loss: 0.6381 - acc: 0.7927 - val_loss: 0.6044 - val_acc: 0.8097\n",
            "\n",
            "Epoch 00029: val_acc improved from 0.80960 to 0.80970, saving model to best_model.hdf5\n",
            " - lr: 0.01005 - momentum: 0.95 \n",
            "Epoch 30/100\n",
            "97/97 [==============================] - 19s 198ms/step - loss: 0.6271 - acc: 0.7968 - val_loss: 0.5986 - val_acc: 0.8139\n",
            "\n",
            "Epoch 00030: val_acc improved from 0.80970 to 0.81390, saving model to best_model.hdf5\n",
            " - lr: 0.01035 - momentum: 0.95 \n",
            "Epoch 31/100\n",
            "97/97 [==============================] - 19s 198ms/step - loss: 0.6044 - acc: 0.8046 - val_loss: 0.6620 - val_acc: 0.7923\n",
            "\n",
            "Epoch 00031: val_acc did not improve from 0.81390\n",
            " - lr: 0.01064 - momentum: 0.95 \n",
            "Epoch 32/100\n",
            "97/97 [==============================] - 19s 198ms/step - loss: 0.6075 - acc: 0.8020 - val_loss: 0.6302 - val_acc: 0.8094\n",
            "\n",
            "Epoch 00032: val_acc did not improve from 0.81390\n",
            " - lr: 0.01094 - momentum: 0.95 \n",
            "Epoch 33/100\n",
            "97/97 [==============================] - 19s 198ms/step - loss: 0.6000 - acc: 0.8059 - val_loss: 0.6736 - val_acc: 0.7940\n",
            "\n",
            "Epoch 00033: val_acc did not improve from 0.81390\n",
            " - lr: 0.01123 - momentum: 0.95 \n",
            "Epoch 34/100\n",
            "97/97 [==============================] - 19s 199ms/step - loss: 0.5923 - acc: 0.8083 - val_loss: 0.7116 - val_acc: 0.7843\n",
            "\n",
            "Epoch 00034: val_acc did not improve from 0.81390\n",
            " - lr: 0.01153 - momentum: 0.95 \n",
            "Epoch 35/100\n",
            "97/97 [==============================] - 19s 199ms/step - loss: 0.5823 - acc: 0.8133 - val_loss: 0.8120 - val_acc: 0.7612\n",
            "\n",
            "Epoch 00035: val_acc did not improve from 0.81390\n",
            " - lr: 0.01182 - momentum: 0.95 \n",
            "Epoch 36/100\n",
            "97/97 [==============================] - 19s 198ms/step - loss: 0.5851 - acc: 0.8132 - val_loss: 0.5760 - val_acc: 0.8200\n",
            "\n",
            "Epoch 00036: val_acc improved from 0.81390 to 0.82000, saving model to best_model.hdf5\n",
            " - lr: 0.01212 - momentum: 0.95 \n",
            "Epoch 37/100\n",
            "97/97 [==============================] - 19s 198ms/step - loss: 0.5696 - acc: 0.8187 - val_loss: 0.6299 - val_acc: 0.8120\n",
            "\n",
            "Epoch 00037: val_acc did not improve from 0.82000\n",
            " - lr: 0.01241 - momentum: 0.95 \n",
            "Epoch 38/100\n",
            "97/97 [==============================] - 19s 199ms/step - loss: 0.5616 - acc: 0.8207 - val_loss: 0.6609 - val_acc: 0.8036\n",
            "\n",
            "Epoch 00038: val_acc did not improve from 0.82000\n",
            " - lr: 0.01271 - momentum: 0.95 \n",
            "Epoch 39/100\n",
            "97/97 [==============================] - 19s 199ms/step - loss: 0.5551 - acc: 0.8214 - val_loss: 0.6719 - val_acc: 0.7968\n",
            "\n",
            "Epoch 00039: val_acc did not improve from 0.82000\n",
            " - lr: 0.01300 - momentum: 0.95 \n",
            "Epoch 40/100\n",
            "97/97 [==============================] - 19s 199ms/step - loss: 0.5449 - acc: 0.8263 - val_loss: 0.5719 - val_acc: 0.8297\n",
            "\n",
            "Epoch 00040: val_acc improved from 0.82000 to 0.82970, saving model to best_model.hdf5\n",
            " - lr: 0.01330 - momentum: 0.95 \n",
            "Epoch 41/100\n",
            "97/97 [==============================] - 19s 198ms/step - loss: 0.5411 - acc: 0.8255 - val_loss: 0.7113 - val_acc: 0.7924\n",
            "\n",
            "Epoch 00041: val_acc did not improve from 0.82970\n",
            " - lr: 0.01359 - momentum: 0.95 \n",
            "Epoch 42/100\n",
            "97/97 [==============================] - 19s 199ms/step - loss: 0.5297 - acc: 0.8328 - val_loss: 0.5742 - val_acc: 0.8267\n",
            "\n",
            "Epoch 00042: val_acc did not improve from 0.82970\n",
            " - lr: 0.01389 - momentum: 0.95 \n",
            "Epoch 43/100\n",
            "97/97 [==============================] - 19s 199ms/step - loss: 0.5309 - acc: 0.8333 - val_loss: 0.6293 - val_acc: 0.8136\n",
            "\n",
            "Epoch 00043: val_acc did not improve from 0.82970\n",
            " - lr: 0.01418 - momentum: 0.95 \n",
            "Epoch 44/100\n",
            "97/97 [==============================] - 19s 199ms/step - loss: 0.5296 - acc: 0.8322 - val_loss: 0.5699 - val_acc: 0.8312\n",
            "\n",
            "Epoch 00044: val_acc improved from 0.82970 to 0.83120, saving model to best_model.hdf5\n",
            " - lr: 0.01448 - momentum: 0.95 \n",
            "Epoch 45/100\n",
            "97/97 [==============================] - 19s 198ms/step - loss: 0.5203 - acc: 0.8355 - val_loss: 0.6402 - val_acc: 0.8217\n",
            "\n",
            "Epoch 00045: val_acc did not improve from 0.83120\n",
            " - lr: 0.01477 - momentum: 0.95 \n",
            "Epoch 46/100\n",
            "97/97 [==============================] - 19s 198ms/step - loss: 0.5105 - acc: 0.8380 - val_loss: 0.6528 - val_acc: 0.8148\n",
            "\n",
            "Epoch 00046: val_acc did not improve from 0.83120\n",
            " - lr: 0.01493 - momentum: 0.95 \n",
            "Epoch 47/100\n",
            "97/97 [==============================] - 19s 199ms/step - loss: 0.5123 - acc: 0.8393 - val_loss: 0.5386 - val_acc: 0.8475\n",
            "\n",
            "Epoch 00047: val_acc improved from 0.83120 to 0.84750, saving model to best_model.hdf5\n",
            " - lr: 0.01463 - momentum: 0.95 \n",
            "Epoch 48/100\n",
            "97/97 [==============================] - 19s 199ms/step - loss: 0.5028 - acc: 0.8426 - val_loss: 0.5579 - val_acc: 0.8382\n",
            "\n",
            "Epoch 00048: val_acc did not improve from 0.84750\n",
            " - lr: 0.01434 - momentum: 0.95 \n",
            "Epoch 49/100\n",
            "97/97 [==============================] - 19s 199ms/step - loss: 0.4911 - acc: 0.8447 - val_loss: 0.5657 - val_acc: 0.8408\n",
            "\n",
            "Epoch 00049: val_acc did not improve from 0.84750\n",
            " - lr: 0.01404 - momentum: 0.95 \n",
            "Epoch 50/100\n",
            "97/97 [==============================] - 19s 198ms/step - loss: 0.4830 - acc: 0.8507 - val_loss: 0.5731 - val_acc: 0.8429\n",
            "\n",
            "Epoch 00050: val_acc did not improve from 0.84750\n",
            " - lr: 0.01375 - momentum: 0.95 \n",
            "Epoch 51/100\n",
            "97/97 [==============================] - 19s 199ms/step - loss: 0.4806 - acc: 0.8504 - val_loss: 0.5530 - val_acc: 0.8405\n",
            "\n",
            "Epoch 00051: val_acc did not improve from 0.84750\n",
            " - lr: 0.01345 - momentum: 0.95 \n",
            "Epoch 52/100\n",
            "97/97 [==============================] - 19s 199ms/step - loss: 0.4699 - acc: 0.8542 - val_loss: 0.5185 - val_acc: 0.8468\n",
            "\n",
            "Epoch 00052: val_acc did not improve from 0.84750\n",
            " - lr: 0.01316 - momentum: 0.95 \n",
            "Epoch 53/100\n",
            "97/97 [==============================] - 19s 199ms/step - loss: 0.4656 - acc: 0.8559 - val_loss: 0.4934 - val_acc: 0.8606\n",
            "\n",
            "Epoch 00053: val_acc improved from 0.84750 to 0.86060, saving model to best_model.hdf5\n",
            " - lr: 0.01286 - momentum: 0.95 \n",
            "Epoch 54/100\n",
            "97/97 [==============================] - 19s 199ms/step - loss: 0.4637 - acc: 0.8565 - val_loss: 0.4909 - val_acc: 0.8599\n",
            "\n",
            "Epoch 00054: val_acc did not improve from 0.86060\n",
            " - lr: 0.01257 - momentum: 0.95 \n",
            "Epoch 55/100\n",
            "97/97 [==============================] - 19s 199ms/step - loss: 0.4529 - acc: 0.8602 - val_loss: 0.5354 - val_acc: 0.8532\n",
            "\n",
            "Epoch 00055: val_acc did not improve from 0.86060\n",
            " - lr: 0.01227 - momentum: 0.95 \n",
            "Epoch 56/100\n",
            "97/97 [==============================] - 19s 199ms/step - loss: 0.4564 - acc: 0.8612 - val_loss: 0.5225 - val_acc: 0.8474\n",
            "\n",
            "Epoch 00056: val_acc did not improve from 0.86060\n",
            " - lr: 0.01198 - momentum: 0.95 \n",
            "Epoch 57/100\n",
            "97/97 [==============================] - 19s 199ms/step - loss: 0.4451 - acc: 0.8660 - val_loss: 0.5398 - val_acc: 0.8532\n",
            "\n",
            "Epoch 00057: val_acc did not improve from 0.86060\n",
            " - lr: 0.01168 - momentum: 0.95 \n",
            "Epoch 58/100\n",
            "97/97 [==============================] - 19s 198ms/step - loss: 0.4385 - acc: 0.8665 - val_loss: 0.5024 - val_acc: 0.8585\n",
            "\n",
            "Epoch 00058: val_acc did not improve from 0.86060\n",
            " - lr: 0.01139 - momentum: 0.95 \n",
            "Epoch 59/100\n",
            "97/97 [==============================] - 19s 199ms/step - loss: 0.4334 - acc: 0.8692 - val_loss: 0.5225 - val_acc: 0.8559\n",
            "\n",
            "Epoch 00059: val_acc did not improve from 0.86060\n",
            " - lr: 0.01109 - momentum: 0.95 \n",
            "Epoch 60/100\n",
            "97/97 [==============================] - 19s 199ms/step - loss: 0.4318 - acc: 0.8682 - val_loss: 0.5087 - val_acc: 0.8629\n",
            "\n",
            "Epoch 00060: val_acc improved from 0.86060 to 0.86290, saving model to best_model.hdf5\n",
            " - lr: 0.01080 - momentum: 0.95 \n",
            "Epoch 61/100\n",
            "97/97 [==============================] - 19s 199ms/step - loss: 0.4262 - acc: 0.8706 - val_loss: 0.4656 - val_acc: 0.8697\n",
            "\n",
            "Epoch 00061: val_acc improved from 0.86290 to 0.86970, saving model to best_model.hdf5\n",
            " - lr: 0.01050 - momentum: 0.95 \n",
            "Epoch 62/100\n",
            "97/97 [==============================] - 19s 198ms/step - loss: 0.4115 - acc: 0.8759 - val_loss: 0.4840 - val_acc: 0.8697\n",
            "\n",
            "Epoch 00062: val_acc did not improve from 0.86970\n",
            " - lr: 0.01021 - momentum: 0.95 \n",
            "Epoch 63/100\n",
            "97/97 [==============================] - 19s 198ms/step - loss: 0.4123 - acc: 0.8753 - val_loss: 0.4823 - val_acc: 0.8687\n",
            "\n",
            "Epoch 00063: val_acc did not improve from 0.86970\n",
            " - lr: 0.00991 - momentum: 0.95 \n",
            "Epoch 64/100\n",
            "97/97 [==============================] - 19s 199ms/step - loss: 0.4095 - acc: 0.8761 - val_loss: 0.5205 - val_acc: 0.8576\n",
            "\n",
            "Epoch 00064: val_acc did not improve from 0.86970\n",
            " - lr: 0.00962 - momentum: 0.95 \n",
            "Epoch 65/100\n",
            "97/97 [==============================] - 19s 199ms/step - loss: 0.4015 - acc: 0.8802 - val_loss: 0.5524 - val_acc: 0.8513\n",
            "\n",
            "Epoch 00065: val_acc did not improve from 0.86970\n",
            " - lr: 0.00932 - momentum: 0.95 \n",
            "Epoch 66/100\n",
            "97/97 [==============================] - 19s 198ms/step - loss: 0.4040 - acc: 0.8792 - val_loss: 0.5991 - val_acc: 0.8466\n",
            "\n",
            "Epoch 00066: val_acc did not improve from 0.86970\n",
            " - lr: 0.00903 - momentum: 0.95 \n",
            "Epoch 67/100\n",
            "97/97 [==============================] - 19s 197ms/step - loss: 0.4035 - acc: 0.8776 - val_loss: 0.5364 - val_acc: 0.8551\n",
            "\n",
            "Epoch 00067: val_acc did not improve from 0.86970\n",
            " - lr: 0.00873 - momentum: 0.95 \n",
            "Epoch 68/100\n",
            "97/97 [==============================] - 19s 198ms/step - loss: 0.3957 - acc: 0.8809 - val_loss: 0.4972 - val_acc: 0.8648\n",
            "\n",
            "Epoch 00068: val_acc did not improve from 0.86970\n",
            " - lr: 0.00844 - momentum: 0.95 \n",
            "Epoch 69/100\n",
            "97/97 [==============================] - 19s 197ms/step - loss: 0.3871 - acc: 0.8851 - val_loss: 0.4894 - val_acc: 0.8702\n",
            "\n",
            "Epoch 00069: val_acc improved from 0.86970 to 0.87020, saving model to best_model.hdf5\n",
            " - lr: 0.00814 - momentum: 0.95 \n",
            "Epoch 70/100\n",
            "97/97 [==============================] - 19s 198ms/step - loss: 0.3858 - acc: 0.8852 - val_loss: 0.4683 - val_acc: 0.8754\n",
            "\n",
            "Epoch 00070: val_acc improved from 0.87020 to 0.87540, saving model to best_model.hdf5\n",
            " - lr: 0.00785 - momentum: 0.95 \n",
            "Epoch 71/100\n",
            "97/97 [==============================] - 19s 198ms/step - loss: 0.3796 - acc: 0.8856 - val_loss: 0.4599 - val_acc: 0.8785\n",
            "\n",
            "Epoch 00071: val_acc improved from 0.87540 to 0.87850, saving model to best_model.hdf5\n",
            " - lr: 0.00755 - momentum: 0.95 \n",
            "Epoch 72/100\n",
            "97/97 [==============================] - 19s 198ms/step - loss: 0.3703 - acc: 0.8897 - val_loss: 0.4659 - val_acc: 0.8726\n",
            "\n",
            "Epoch 00072: val_acc did not improve from 0.87850\n",
            " - lr: 0.00726 - momentum: 0.95 \n",
            "Epoch 73/100\n",
            "97/97 [==============================] - 19s 198ms/step - loss: 0.3740 - acc: 0.8880 - val_loss: 0.4828 - val_acc: 0.8713\n",
            "\n",
            "Epoch 00073: val_acc did not improve from 0.87850\n",
            " - lr: 0.00696 - momentum: 0.95 \n",
            "Epoch 74/100\n",
            "97/97 [==============================] - 19s 198ms/step - loss: 0.3586 - acc: 0.8959 - val_loss: 0.5329 - val_acc: 0.8632\n",
            "\n",
            "Epoch 00074: val_acc did not improve from 0.87850\n",
            " - lr: 0.00667 - momentum: 0.95 \n",
            "Epoch 75/100\n",
            "97/97 [==============================] - 19s 198ms/step - loss: 0.3616 - acc: 0.8928 - val_loss: 0.4641 - val_acc: 0.8757\n",
            "\n",
            "Epoch 00075: val_acc did not improve from 0.87850\n",
            " - lr: 0.00637 - momentum: 0.95 \n",
            "Epoch 76/100\n",
            "97/97 [==============================] - 19s 198ms/step - loss: 0.3519 - acc: 0.8963 - val_loss: 0.4525 - val_acc: 0.8798\n",
            "\n",
            "Epoch 00076: val_acc improved from 0.87850 to 0.87980, saving model to best_model.hdf5\n",
            " - lr: 0.00608 - momentum: 0.95 \n",
            "Epoch 77/100\n",
            "97/97 [==============================] - 19s 199ms/step - loss: 0.3591 - acc: 0.8932 - val_loss: 0.4439 - val_acc: 0.8835\n",
            "\n",
            "Epoch 00077: val_acc improved from 0.87980 to 0.88350, saving model to best_model.hdf5\n",
            " - lr: 0.00578 - momentum: 0.95 \n",
            "Epoch 78/100\n",
            "97/97 [==============================] - 19s 199ms/step - loss: 0.3494 - acc: 0.8966 - val_loss: 0.4530 - val_acc: 0.8814\n",
            "\n",
            "Epoch 00078: val_acc did not improve from 0.88350\n",
            " - lr: 0.00549 - momentum: 0.95 \n",
            "Epoch 79/100\n",
            "97/97 [==============================] - 19s 198ms/step - loss: 0.3522 - acc: 0.8969 - val_loss: 0.4900 - val_acc: 0.8731\n",
            "\n",
            "Epoch 00079: val_acc did not improve from 0.88350\n",
            " - lr: 0.00519 - momentum: 0.95 \n",
            "Epoch 80/100\n",
            "97/97 [==============================] - 19s 198ms/step - loss: 0.3431 - acc: 0.9010 - val_loss: 0.4607 - val_acc: 0.8789\n",
            "\n",
            "Epoch 00080: val_acc did not improve from 0.88350\n",
            " - lr: 0.00490 - momentum: 0.95 \n",
            "Epoch 81/100\n",
            "97/97 [==============================] - 19s 199ms/step - loss: 0.3462 - acc: 0.8998 - val_loss: 0.4587 - val_acc: 0.8780\n",
            "\n",
            "Epoch 00081: val_acc did not improve from 0.88350\n",
            " - lr: 0.00460 - momentum: 0.95 \n",
            "Epoch 82/100\n",
            "97/97 [==============================] - 19s 198ms/step - loss: 0.3382 - acc: 0.9013 - val_loss: 0.4277 - val_acc: 0.8901\n",
            "\n",
            "Epoch 00082: val_acc improved from 0.88350 to 0.89010, saving model to best_model.hdf5\n",
            " - lr: 0.00431 - momentum: 0.95 \n",
            "Epoch 83/100\n",
            "97/97 [==============================] - 19s 198ms/step - loss: 0.3352 - acc: 0.9028 - val_loss: 0.4616 - val_acc: 0.8819\n",
            "\n",
            "Epoch 00083: val_acc did not improve from 0.89010\n",
            " - lr: 0.00401 - momentum: 0.95 \n",
            "Epoch 84/100\n",
            "97/97 [==============================] - 19s 199ms/step - loss: 0.3342 - acc: 0.9040 - val_loss: 0.4717 - val_acc: 0.8795\n",
            "\n",
            "Epoch 00084: val_acc did not improve from 0.89010\n",
            " - lr: 0.00372 - momentum: 0.95 \n",
            "Epoch 85/100\n",
            "97/97 [==============================] - 19s 198ms/step - loss: 0.3321 - acc: 0.9042 - val_loss: 0.4538 - val_acc: 0.8839\n",
            "\n",
            "Epoch 00085: val_acc did not improve from 0.89010\n",
            " - lr: 0.00342 - momentum: 0.95 \n",
            "Epoch 86/100\n",
            "97/97 [==============================] - 19s 198ms/step - loss: 0.3281 - acc: 0.9051 - val_loss: 0.4431 - val_acc: 0.8839\n",
            "\n",
            "Epoch 00086: val_acc did not improve from 0.89010\n",
            " - lr: 0.00313 - momentum: 0.95 \n",
            "Epoch 87/100\n",
            "97/97 [==============================] - 19s 198ms/step - loss: 0.3187 - acc: 0.9093 - val_loss: 0.4383 - val_acc: 0.8873\n",
            "\n",
            "Epoch 00087: val_acc did not improve from 0.89010\n",
            " - lr: 0.00283 - momentum: 0.95 \n",
            "Epoch 88/100\n",
            "97/97 [==============================] - 19s 199ms/step - loss: 0.3195 - acc: 0.9096 - val_loss: 0.4490 - val_acc: 0.8839\n",
            "\n",
            "Epoch 00088: val_acc did not improve from 0.89010\n",
            " - lr: 0.00254 - momentum: 0.95 \n",
            "Epoch 89/100\n",
            "97/97 [==============================] - 19s 198ms/step - loss: 0.3122 - acc: 0.9106 - val_loss: 0.4434 - val_acc: 0.8855\n",
            "\n",
            "Epoch 00089: val_acc did not improve from 0.89010\n",
            " - lr: 0.00224 - momentum: 0.95 \n",
            "Epoch 90/100\n",
            "97/97 [==============================] - 19s 198ms/step - loss: 0.3088 - acc: 0.9135 - val_loss: 0.4472 - val_acc: 0.8858\n",
            "\n",
            "Epoch 00090: val_acc did not improve from 0.89010\n",
            " - lr: 0.00195 - momentum: 0.95 \n",
            "Epoch 91/100\n",
            "97/97 [==============================] - 19s 199ms/step - loss: 0.3131 - acc: 0.9110 - val_loss: 0.4409 - val_acc: 0.8863\n",
            "\n",
            "Epoch 00091: val_acc did not improve from 0.89010\n",
            " - lr: 0.00165 - momentum: 0.95 \n",
            "Epoch 92/100\n",
            "97/97 [==============================] - 19s 198ms/step - loss: 0.3054 - acc: 0.9124 - val_loss: 0.4492 - val_acc: 0.8837\n",
            "\n",
            "Epoch 00092: val_acc did not improve from 0.89010\n",
            " - lr: 0.00143 - momentum: 0.95 \n",
            "Epoch 93/100\n",
            "97/97 [==============================] - 19s 197ms/step - loss: 0.3058 - acc: 0.9134 - val_loss: 0.4406 - val_acc: 0.8887\n",
            "\n",
            "Epoch 00093: val_acc did not improve from 0.89010\n",
            " - lr: 0.00128 - momentum: 0.95 \n",
            "Epoch 94/100\n",
            "97/97 [==============================] - 19s 198ms/step - loss: 0.2967 - acc: 0.9154 - val_loss: 0.4352 - val_acc: 0.8859\n",
            "\n",
            "Epoch 00094: val_acc did not improve from 0.89010\n",
            " - lr: 0.00114 - momentum: 0.95 \n",
            "Epoch 95/100\n",
            "97/97 [==============================] - 19s 198ms/step - loss: 0.2998 - acc: 0.9145 - val_loss: 0.4376 - val_acc: 0.8884\n",
            "\n",
            "Epoch 00095: val_acc did not improve from 0.89010\n",
            " - lr: 0.00099 - momentum: 0.95 \n",
            "Epoch 96/100\n",
            "97/97 [==============================] - 19s 197ms/step - loss: 0.3007 - acc: 0.9156 - val_loss: 0.4332 - val_acc: 0.8889\n",
            "\n",
            "Epoch 00096: val_acc did not improve from 0.89010\n",
            " - lr: 0.00085 - momentum: 0.95 \n",
            "Epoch 97/100\n",
            "97/97 [==============================] - 19s 198ms/step - loss: 0.2982 - acc: 0.9174 - val_loss: 0.4417 - val_acc: 0.8881\n",
            "\n",
            "Epoch 00097: val_acc did not improve from 0.89010\n",
            " - lr: 0.00070 - momentum: 0.95 \n",
            "Epoch 98/100\n",
            "97/97 [==============================] - 19s 200ms/step - loss: 0.2928 - acc: 0.9176 - val_loss: 0.4343 - val_acc: 0.8882\n",
            "\n",
            "Epoch 00098: val_acc did not improve from 0.89010\n",
            " - lr: 0.00055 - momentum: 0.95 \n",
            "Epoch 99/100\n",
            "97/97 [==============================] - 19s 197ms/step - loss: 0.2911 - acc: 0.9194 - val_loss: 0.4275 - val_acc: 0.8897\n",
            "\n",
            "Epoch 00099: val_acc did not improve from 0.89010\n",
            " - lr: 0.00041 - momentum: 0.95 \n",
            "Epoch 100/100\n",
            "97/97 [==============================] - 19s 198ms/step - loss: 0.2927 - acc: 0.9163 - val_loss: 0.4331 - val_acc: 0.8900\n",
            "\n",
            "Epoch 00100: val_acc did not improve from 0.89010\n",
            " - lr: 0.00026 - momentum: 0.95 \n",
            "Model took 1938.07 seconds to train\n"
          ],
          "name": "stdout"
        },
        {
          "output_type": "display_data",
          "data": {
            "image/png": "[encoded data removed]",
            "text/plain": [
              "<Figure size 1080x360 with 2 Axes>"
            ]
          },
          "metadata": {
            "tags": []
          }
        },
        {
          "output_type": "stream",
          "text": [
            "Accuracy on test data is: 89.01\n"
          ],
          "name": "stdout"
        }
      ]
    },
    {
      "cell_type": "markdown",
      "metadata": {
        "id": "djfOeeyFPcmo",
        "colab_type": "text"
      },
      "source": [
        "### From the above we can see we have reached maximum validation accuracy of 89.01%"
      ]
    }
  ]
}
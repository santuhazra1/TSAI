{
  "nbformat": 4,
  "nbformat_minor": 0,
  "metadata": {
    "colab": {
      "name": "1st DNN.ipynb",
      "version": "0.3.2",
      "provenance": [],
      "collapsed_sections": []
    },
    "kernelspec": {
      "name": "python3",
      "display_name": "Python 3"
    },
    "accelerator": "GPU"
  },
  "cells": [
    {
      "cell_type": "markdown",
      "metadata": {
        "id": "aNyZv-Ec52ot",
        "colab_type": "text"
      },
      "source": [
        "# **Assignment 3**"
      ]
    },
    {
      "cell_type": "markdown",
      "metadata": {
        "id": "aJH_jaxOwDuK",
        "colab_type": "text"
      },
      "source": [
        "### In this Assignment we are going to run a CNN model on top of MNIST data to reach an accuracy of 99.4% and we are going to analyze the result. \n",
        "#### NOTE: We can only use 3 × 3 conv, 1 × 1 conv, maxpooling layer, dropout and batch normalization using at most 20k parameter \n",
        "\n",
        "### So to achieve the goal lets fist install keras library with which we are goinf to build the model."
      ]
    },
    {
      "cell_type": "code",
      "metadata": {
        "id": "3m3w1Cw49Zkt",
        "colab_type": "code",
        "colab": {
          "base_uri": "https://localhost:8080/",
          "height": 34
        },
        "outputId": "db30975e-7c96-43c0-a07d-f3d87b0e8644"
      },
      "source": [
        "# https://keras.io/\n",
        "!pip install -q keras\n",
        "import keras"
      ],
      "execution_count": 2,
      "outputs": [
        {
          "output_type": "stream",
          "text": [
            "Using TensorFlow backend.\n"
          ],
          "name": "stderr"
        }
      ]
    },
    {
      "cell_type": "markdown",
      "metadata": {
        "id": "uQTqIho3yMkI",
        "colab_type": "text"
      },
      "source": [
        "### Let's import all importent pakages from keras with which we are going to build the CNN model"
      ]
    },
    {
      "cell_type": "code",
      "metadata": {
        "id": "Eso6UHE080D4",
        "colab_type": "code",
        "colab": {}
      },
      "source": [
        "import numpy as np\n",
        "\n",
        "from keras.models import Sequential\n",
        "from keras.layers import Dense, Dropout, Activation, Flatten, Add\n",
        "from keras.layers import Convolution2D, MaxPooling2D\n",
        "from keras.utils import np_utils\n",
        "from keras.layers.normalization import BatchNormalization\n",
        "\n",
        "from keras.datasets import mnist"
      ],
      "execution_count": 0,
      "outputs": []
    },
    {
      "cell_type": "markdown",
      "metadata": {
        "id": "zByEi95J86RD",
        "colab_type": "text"
      },
      "source": [
        "### Now we are going to load the pre-shuffled MNIST data. Out of total 70k data we have 60k hand written image as train data and 10k hand written image as test data which is autometically predefined in mnist dataset."
      ]
    },
    {
      "cell_type": "code",
      "metadata": {
        "id": "7eRM0QWN83PV",
        "colab_type": "code",
        "colab": {}
      },
      "source": [
        "(X_train, y_train), (X_test, y_test) = mnist.load_data()"
      ],
      "execution_count": 0,
      "outputs": []
    },
    {
      "cell_type": "markdown",
      "metadata": {
        "id": "QaiSk1usy3wp",
        "colab_type": "text"
      },
      "source": [
        "### Let's see how our MNIST data looks like in below. Here we can see the 5th hand written digit in X_train as 2 in the displayed image."
      ]
    },
    {
      "cell_type": "code",
      "metadata": {
        "id": "4a4Be72j8-ZC",
        "colab_type": "code",
        "outputId": "16aaafb2-df9a-429b-a169-642b3b3b20cc",
        "colab": {
          "base_uri": "https://localhost:8080/",
          "height": 303
        }
      },
      "source": [
        "print (X_train.shape)\n",
        "from matplotlib import pyplot as plt\n",
        "%matplotlib inline\n",
        "plt.imshow(X_train[5])"
      ],
      "execution_count": 31,
      "outputs": [
        {
          "output_type": "stream",
          "text": [
            "(60000, 28, 28)\n"
          ],
          "name": "stdout"
        },
        {
          "output_type": "execute_result",
          "data": {
            "text/plain": [
              "<matplotlib.image.AxesImage at 0x7f0ddd337080>"
            ]
          },
          "metadata": {
            "tags": []
          },
          "execution_count": 31
        },
        {
          "output_type": "display_data",
          "data": {
            "image/png": "[encoded data removed]",
            "text/plain": [
              "<Figure size 432x288 with 1 Axes>"
            ]
          },
          "metadata": {
            "tags": []
          }
        }
      ]
    },
    {
      "cell_type": "markdown",
      "metadata": {
        "id": "xDzqcaCrzZHs",
        "colab_type": "text"
      },
      "source": [
        "### Now we have to shape all the image size in test and train so that we can apply out CNN model based on the input image shape and we will not have any problem while testing with test images with same shape. Let's shape train and test data to (28 , 28 , 1) which is going to be the input dimension of our model."
      ]
    },
    {
      "cell_type": "code",
      "metadata": {
        "id": "dkmprriw9AnZ",
        "colab_type": "code",
        "colab": {}
      },
      "source": [
        "X_train = X_train.reshape(X_train.shape[0], 28, 28,1)\n",
        "X_test = X_test.reshape(X_test.shape[0], 28, 28,1)"
      ],
      "execution_count": 0,
      "outputs": []
    },
    {
      "cell_type": "markdown",
      "metadata": {
        "id": "BNvLydPMzf3p",
        "colab_type": "text"
      },
      "source": [
        "### Here in the below section we are going to scale our pixel values to 0-1 as grey scale pixel lies between 0-255. So to train a robust we must scale the pixcel values."
      ]
    },
    {
      "cell_type": "code",
      "metadata": {
        "id": "X2m4YS4E9CRh",
        "colab_type": "code",
        "colab": {}
      },
      "source": [
        "X_train = X_train.astype('float32')\n",
        "X_test = X_test.astype('float32')\n",
        "X_train /= 255\n",
        "X_test /= 255"
      ],
      "execution_count": 0,
      "outputs": []
    },
    {
      "cell_type": "markdown",
      "metadata": {
        "id": "vfCsH8D7z5ss",
        "colab_type": "text"
      },
      "source": [
        "### Let's see how Y looks like as Y values are the actual no corrosponding to an hand written image."
      ]
    },
    {
      "cell_type": "code",
      "metadata": {
        "id": "0Mn0vAYD9DvB",
        "colab_type": "code",
        "outputId": "cd243a37-b951-4a9d-e62b-e77f4e376865",
        "colab": {
          "base_uri": "https://localhost:8080/",
          "height": 34
        }
      },
      "source": [
        "y_train[:10]"
      ],
      "execution_count": 8,
      "outputs": [
        {
          "output_type": "execute_result",
          "data": {
            "text/plain": [
              "array([5, 0, 4, 1, 9, 2, 1, 3, 1, 4], dtype=uint8)"
            ]
          },
          "metadata": {
            "tags": []
          },
          "execution_count": 8
        }
      ]
    },
    {
      "cell_type": "markdown",
      "metadata": {
        "id": "_YCWyU3iz6_T",
        "colab_type": "text"
      },
      "source": [
        "### Now we have to convert Y values from 1-dimentional class matrix to 10 dimentional class matrix so that we can predict out of 10 class which class it is predicting."
      ]
    },
    {
      "cell_type": "code",
      "metadata": {
        "id": "ZG8JiXR39FHC",
        "colab_type": "code",
        "colab": {
          "base_uri": "https://localhost:8080/",
          "height": 187
        },
        "outputId": "09d30170-a2d9-4ce9-f4fb-b442ca7803b6"
      },
      "source": [
        "# Convert 1-dimensional class arrays to 10-dimensional class matrices\n",
        "Y_train = np_utils.to_categorical(y_train, 10)\n",
        "Y_test = np_utils.to_categorical(y_test, 10)\n",
        "Y_train[:10]"
      ],
      "execution_count": 34,
      "outputs": [
        {
          "output_type": "execute_result",
          "data": {
            "text/plain": [
              "array([[0., 0., 0., 0., 0., 1., 0., 0., 0., 0.],\n",
              "       [1., 0., 0., 0., 0., 0., 0., 0., 0., 0.],\n",
              "       [0., 0., 0., 0., 1., 0., 0., 0., 0., 0.],\n",
              "       [0., 1., 0., 0., 0., 0., 0., 0., 0., 0.],\n",
              "       [0., 0., 0., 0., 0., 0., 0., 0., 0., 1.],\n",
              "       [0., 0., 1., 0., 0., 0., 0., 0., 0., 0.],\n",
              "       [0., 1., 0., 0., 0., 0., 0., 0., 0., 0.],\n",
              "       [0., 0., 0., 1., 0., 0., 0., 0., 0., 0.],\n",
              "       [0., 1., 0., 0., 0., 0., 0., 0., 0., 0.],\n",
              "       [0., 0., 0., 0., 1., 0., 0., 0., 0., 0.]], dtype=float32)"
            ]
          },
          "metadata": {
            "tags": []
          },
          "execution_count": 34
        }
      ]
    },
    {
      "cell_type": "markdown",
      "metadata": {
        "id": "_mzTUR4F0F3-",
        "colab_type": "text"
      },
      "source": [
        "### Now let's build our CNN model which we are going to apply on our train data for training the model later. Here we are using 2-D convolution, maxpooling, dropout and batch normalization layers and softmax activation function to get output."
      ]
    },
    {
      "cell_type": "code",
      "metadata": {
        "id": "osKqT73Q9JJB",
        "colab_type": "code",
        "outputId": "c3aded0c-f3f9-4cab-de8f-68073cfef5b5",
        "colab": {
          "base_uri": "https://localhost:8080/",
          "height": 238
        }
      },
      "source": [
        "from keras.layers import Activation\n",
        "model = Sequential()\n",
        "\n",
        " \n",
        "model.add(Convolution2D(16, 3, 3, activation='relu', input_shape=(28,28,1)))\n",
        "model.add(BatchNormalization())\n",
        "model.add(Dropout(0.2))\n",
        "model.add(Convolution2D(16, 3, 3, activation='relu'))\n",
        "model.add(BatchNormalization())\n",
        "model.add(Dropout(0.2))\n",
        "model.add(Convolution2D(16, 3, 3, activation='relu'))\n",
        "model.add(BatchNormalization())\n",
        "model.add(Dropout(0.2))\n",
        "model.add(Convolution2D(16, 3, 3, activation='relu'))\n",
        "model.add(BatchNormalization())\n",
        "model.add(Dropout(0.2))\n",
        "model.add(Convolution2D(16, 3, 3, activation='relu'))\n",
        "model.add(BatchNormalization())\n",
        "model.add(Dropout(0.2))\n",
        "model.add(MaxPooling2D(pool_size=(2, 2)))\n",
        "model.add(Convolution2D(16, 3, 3, activation='relu'))\n",
        "model.add(BatchNormalization())\n",
        "model.add(Dropout(0.2))\n",
        "model.add(Convolution2D(16, 3, 3, activation='relu'))\n",
        "model.add(BatchNormalization())\n",
        "model.add(Dropout(0.2))\n",
        "model.add(Convolution2D(16, 3, 3, activation='relu'))\n",
        "model.add(BatchNormalization())\n",
        "model.add(Dropout(0.2))\n",
        "model.add(Convolution2D(16, 3, 3, activation='relu'))\n",
        "model.add(BatchNormalization())\n",
        "#model.add(Dropout(0.2))\n",
        "\n",
        "model.add(Convolution2D(10, 1, activation='relu'))\n",
        "model.add(Flatten())\n",
        "model.add(Activation('softmax'))"
      ],
      "execution_count": 21,
      "outputs": [
        {
          "output_type": "stream",
          "text": [
            "/usr/local/lib/python3.6/dist-packages/ipykernel_launcher.py:5: UserWarning: Update your `Conv2D` call to the Keras 2 API: `Conv2D(16, (3, 3), activation=\"relu\", input_shape=(28, 28, 1...)`\n",
            "  \"\"\"\n",
            "/usr/local/lib/python3.6/dist-packages/ipykernel_launcher.py:8: UserWarning: Update your `Conv2D` call to the Keras 2 API: `Conv2D(16, (3, 3), activation=\"relu\")`\n",
            "  \n",
            "/usr/local/lib/python3.6/dist-packages/ipykernel_launcher.py:11: UserWarning: Update your `Conv2D` call to the Keras 2 API: `Conv2D(16, (3, 3), activation=\"relu\")`\n",
            "  # This is added back by InteractiveShellApp.init_path()\n",
            "/usr/local/lib/python3.6/dist-packages/ipykernel_launcher.py:14: UserWarning: Update your `Conv2D` call to the Keras 2 API: `Conv2D(16, (3, 3), activation=\"relu\")`\n",
            "  \n",
            "/usr/local/lib/python3.6/dist-packages/ipykernel_launcher.py:17: UserWarning: Update your `Conv2D` call to the Keras 2 API: `Conv2D(16, (3, 3), activation=\"relu\")`\n",
            "/usr/local/lib/python3.6/dist-packages/ipykernel_launcher.py:21: UserWarning: Update your `Conv2D` call to the Keras 2 API: `Conv2D(16, (3, 3), activation=\"relu\")`\n",
            "/usr/local/lib/python3.6/dist-packages/ipykernel_launcher.py:24: UserWarning: Update your `Conv2D` call to the Keras 2 API: `Conv2D(16, (3, 3), activation=\"relu\")`\n",
            "/usr/local/lib/python3.6/dist-packages/ipykernel_launcher.py:27: UserWarning: Update your `Conv2D` call to the Keras 2 API: `Conv2D(16, (3, 3), activation=\"relu\")`\n",
            "/usr/local/lib/python3.6/dist-packages/ipykernel_launcher.py:30: UserWarning: Update your `Conv2D` call to the Keras 2 API: `Conv2D(16, (3, 3), activation=\"relu\")`\n"
          ],
          "name": "stderr"
        }
      ]
    },
    {
      "cell_type": "markdown",
      "metadata": {
        "id": "0Rd6TgB_0X1E",
        "colab_type": "text"
      },
      "source": [
        "### Here in the model summary we can see that out total no of model parameter is 19.6k which is less than 20k. So, we are good to go from no of parameters point of view."
      ]
    },
    {
      "cell_type": "code",
      "metadata": {
        "id": "TzdAYg1k9K7Z",
        "colab_type": "code",
        "outputId": "82e8974b-c8b4-4982-e9bc-165d8241d476",
        "colab": {
          "base_uri": "https://localhost:8080/",
          "height": 1156
        }
      },
      "source": [
        "model.summary()"
      ],
      "execution_count": 22,
      "outputs": [
        {
          "output_type": "stream",
          "text": [
            "_________________________________________________________________\n",
            "Layer (type)                 Output Shape              Param #   \n",
            "=================================================================\n",
            "conv2d_12 (Conv2D)           (None, 26, 26, 16)        160       \n",
            "_________________________________________________________________\n",
            "batch_normalization_10 (Batc (None, 26, 26, 16)        64        \n",
            "_________________________________________________________________\n",
            "dropout_9 (Dropout)          (None, 26, 26, 16)        0         \n",
            "_________________________________________________________________\n",
            "conv2d_13 (Conv2D)           (None, 24, 24, 16)        2320      \n",
            "_________________________________________________________________\n",
            "batch_normalization_11 (Batc (None, 24, 24, 16)        64        \n",
            "_________________________________________________________________\n",
            "dropout_10 (Dropout)         (None, 24, 24, 16)        0         \n",
            "_________________________________________________________________\n",
            "conv2d_14 (Conv2D)           (None, 22, 22, 16)        2320      \n",
            "_________________________________________________________________\n",
            "batch_normalization_12 (Batc (None, 22, 22, 16)        64        \n",
            "_________________________________________________________________\n",
            "dropout_11 (Dropout)         (None, 22, 22, 16)        0         \n",
            "_________________________________________________________________\n",
            "conv2d_15 (Conv2D)           (None, 20, 20, 16)        2320      \n",
            "_________________________________________________________________\n",
            "batch_normalization_13 (Batc (None, 20, 20, 16)        64        \n",
            "_________________________________________________________________\n",
            "dropout_12 (Dropout)         (None, 20, 20, 16)        0         \n",
            "_________________________________________________________________\n",
            "conv2d_16 (Conv2D)           (None, 18, 18, 16)        2320      \n",
            "_________________________________________________________________\n",
            "batch_normalization_14 (Batc (None, 18, 18, 16)        64        \n",
            "_________________________________________________________________\n",
            "dropout_13 (Dropout)         (None, 18, 18, 16)        0         \n",
            "_________________________________________________________________\n",
            "max_pooling2d_2 (MaxPooling2 (None, 9, 9, 16)          0         \n",
            "_________________________________________________________________\n",
            "conv2d_17 (Conv2D)           (None, 7, 7, 16)          2320      \n",
            "_________________________________________________________________\n",
            "batch_normalization_15 (Batc (None, 7, 7, 16)          64        \n",
            "_________________________________________________________________\n",
            "dropout_14 (Dropout)         (None, 7, 7, 16)          0         \n",
            "_________________________________________________________________\n",
            "conv2d_18 (Conv2D)           (None, 5, 5, 16)          2320      \n",
            "_________________________________________________________________\n",
            "batch_normalization_16 (Batc (None, 5, 5, 16)          64        \n",
            "_________________________________________________________________\n",
            "dropout_15 (Dropout)         (None, 5, 5, 16)          0         \n",
            "_________________________________________________________________\n",
            "conv2d_19 (Conv2D)           (None, 3, 3, 16)          2320      \n",
            "_________________________________________________________________\n",
            "batch_normalization_17 (Batc (None, 3, 3, 16)          64        \n",
            "_________________________________________________________________\n",
            "dropout_16 (Dropout)         (None, 3, 3, 16)          0         \n",
            "_________________________________________________________________\n",
            "conv2d_20 (Conv2D)           (None, 1, 1, 16)          2320      \n",
            "_________________________________________________________________\n",
            "batch_normalization_18 (Batc (None, 1, 1, 16)          64        \n",
            "_________________________________________________________________\n",
            "conv2d_21 (Conv2D)           (None, 1, 1, 10)          170       \n",
            "_________________________________________________________________\n",
            "flatten_2 (Flatten)          (None, 10)                0         \n",
            "_________________________________________________________________\n",
            "activation_2 (Activation)    (None, 10)                0         \n",
            "=================================================================\n",
            "Total params: 19,466\n",
            "Trainable params: 19,178\n",
            "Non-trainable params: 288\n",
            "_________________________________________________________________\n"
          ],
          "name": "stdout"
        }
      ]
    },
    {
      "cell_type": "markdown",
      "metadata": {
        "id": "mM8fEhTP01ZK",
        "colab_type": "text"
      },
      "source": [
        "### Lets's compile the model with adam optimizer ,loss as cross entropy and validation matrix as accuracy:"
      ]
    },
    {
      "cell_type": "code",
      "metadata": {
        "id": "Zp6SuGrL9M3h",
        "colab_type": "code",
        "colab": {}
      },
      "source": [
        "model.compile(loss='categorical_crossentropy',\n",
        "             optimizer='adam',\n",
        "             metrics=['accuracy'])"
      ],
      "execution_count": 0,
      "outputs": []
    },
    {
      "cell_type": "markdown",
      "metadata": {
        "id": "yB4jAFTY06mP",
        "colab_type": "text"
      },
      "source": [
        "### Let's train the model with training data and let's see how much training accuracy we get after training completion. Here we have used batch size as 64 and total no of epoch 55 to train the model."
      ]
    },
    {
      "cell_type": "code",
      "metadata": {
        "id": "4xWoKhPY9Of5",
        "colab_type": "code",
        "outputId": "3a817fcc-9c4b-4a2d-93ed-909467645d49",
        "colab": {
          "base_uri": "https://localhost:8080/",
          "height": 1938
        }
      },
      "source": [
        "model.fit(X_train, Y_train, batch_size=64, nb_epoch=55, verbose=1)"
      ],
      "execution_count": 24,
      "outputs": [
        {
          "output_type": "stream",
          "text": [
            "/usr/local/lib/python3.6/dist-packages/ipykernel_launcher.py:1: UserWarning: The `nb_epoch` argument in `fit` has been renamed `epochs`.\n",
            "  \"\"\"Entry point for launching an IPython kernel.\n"
          ],
          "name": "stderr"
        },
        {
          "output_type": "stream",
          "text": [
            "Epoch 1/55\n",
            "60000/60000 [==============================] - 15s 254us/step - loss: 0.6355 - acc: 0.8101\n",
            "Epoch 2/55\n",
            "60000/60000 [==============================] - 14s 226us/step - loss: 0.1342 - acc: 0.9616\n",
            "Epoch 3/55\n",
            "60000/60000 [==============================] - 13s 219us/step - loss: 0.0936 - acc: 0.9722\n",
            "Epoch 4/55\n",
            "60000/60000 [==============================] - 13s 218us/step - loss: 0.0784 - acc: 0.9762\n",
            "Epoch 5/55\n",
            "60000/60000 [==============================] - 13s 218us/step - loss: 0.0708 - acc: 0.9786\n",
            "Epoch 6/55\n",
            "60000/60000 [==============================] - 13s 218us/step - loss: 0.0657 - acc: 0.9800\n",
            "Epoch 7/55\n",
            "60000/60000 [==============================] - 14s 225us/step - loss: 0.0599 - acc: 0.9826\n",
            "Epoch 8/55\n",
            "60000/60000 [==============================] - 14s 229us/step - loss: 0.0583 - acc: 0.9821\n",
            "Epoch 9/55\n",
            "60000/60000 [==============================] - 14s 230us/step - loss: 0.0543 - acc: 0.9837\n",
            "Epoch 10/55\n",
            "60000/60000 [==============================] - 14s 229us/step - loss: 0.0498 - acc: 0.9849\n",
            "Epoch 11/55\n",
            "60000/60000 [==============================] - 13s 218us/step - loss: 0.0492 - acc: 0.9855\n",
            "Epoch 12/55\n",
            "60000/60000 [==============================] - 13s 218us/step - loss: 0.0464 - acc: 0.9859\n",
            "Epoch 13/55\n",
            "60000/60000 [==============================] - 14s 227us/step - loss: 0.0445 - acc: 0.9870\n",
            "Epoch 14/55\n",
            "60000/60000 [==============================] - 14s 227us/step - loss: 0.0422 - acc: 0.9869\n",
            "Epoch 15/55\n",
            "60000/60000 [==============================] - 13s 218us/step - loss: 0.0424 - acc: 0.9870\n",
            "Epoch 16/55\n",
            "60000/60000 [==============================] - 13s 220us/step - loss: 0.0410 - acc: 0.9875\n",
            "Epoch 17/55\n",
            "60000/60000 [==============================] - 14s 226us/step - loss: 0.0396 - acc: 0.9878\n",
            "Epoch 18/55\n",
            "60000/60000 [==============================] - 13s 218us/step - loss: 0.0388 - acc: 0.9881\n",
            "Epoch 19/55\n",
            "60000/60000 [==============================] - 14s 225us/step - loss: 0.0372 - acc: 0.9887\n",
            "Epoch 20/55\n",
            "60000/60000 [==============================] - 14s 228us/step - loss: 0.0374 - acc: 0.9885\n",
            "Epoch 21/55\n",
            "60000/60000 [==============================] - 13s 218us/step - loss: 0.0366 - acc: 0.9891\n",
            "Epoch 22/55\n",
            "60000/60000 [==============================] - 13s 218us/step - loss: 0.0362 - acc: 0.9889\n",
            "Epoch 23/55\n",
            "60000/60000 [==============================] - 13s 218us/step - loss: 0.0362 - acc: 0.9886\n",
            "Epoch 24/55\n",
            "60000/60000 [==============================] - 13s 219us/step - loss: 0.0355 - acc: 0.9898\n",
            "Epoch 25/55\n",
            "60000/60000 [==============================] - 13s 224us/step - loss: 0.0342 - acc: 0.9894\n",
            "Epoch 26/55\n",
            "60000/60000 [==============================] - 14s 231us/step - loss: 0.0338 - acc: 0.9896\n",
            "Epoch 27/55\n",
            "60000/60000 [==============================] - 13s 218us/step - loss: 0.0335 - acc: 0.9896\n",
            "Epoch 28/55\n",
            "60000/60000 [==============================] - 13s 218us/step - loss: 0.0328 - acc: 0.9898\n",
            "Epoch 29/55\n",
            "60000/60000 [==============================] - 13s 218us/step - loss: 0.0327 - acc: 0.9897\n",
            "Epoch 30/55\n",
            "60000/60000 [==============================] - 13s 218us/step - loss: 0.0308 - acc: 0.9903\n",
            "Epoch 31/55\n",
            "60000/60000 [==============================] - 13s 224us/step - loss: 0.0312 - acc: 0.9902\n",
            "Epoch 32/55\n",
            "60000/60000 [==============================] - 14s 236us/step - loss: 0.0299 - acc: 0.9904\n",
            "Epoch 33/55\n",
            "60000/60000 [==============================] - 14s 239us/step - loss: 0.0314 - acc: 0.9903\n",
            "Epoch 34/55\n",
            "60000/60000 [==============================] - 13s 218us/step - loss: 0.0274 - acc: 0.9915\n",
            "Epoch 35/55\n",
            "60000/60000 [==============================] - 13s 219us/step - loss: 0.0302 - acc: 0.9909\n",
            "Epoch 36/55\n",
            "60000/60000 [==============================] - 13s 219us/step - loss: 0.0303 - acc: 0.9909\n",
            "Epoch 37/55\n",
            "60000/60000 [==============================] - 14s 226us/step - loss: 0.0293 - acc: 0.9910\n",
            "Epoch 38/55\n",
            "60000/60000 [==============================] - 14s 231us/step - loss: 0.0273 - acc: 0.9917\n",
            "Epoch 39/55\n",
            "60000/60000 [==============================] - 14s 226us/step - loss: 0.0272 - acc: 0.9914\n",
            "Epoch 40/55\n",
            "60000/60000 [==============================] - 13s 221us/step - loss: 0.0297 - acc: 0.9910\n",
            "Epoch 41/55\n",
            "60000/60000 [==============================] - 13s 219us/step - loss: 0.0276 - acc: 0.9916\n",
            "Epoch 42/55\n",
            "60000/60000 [==============================] - 13s 219us/step - loss: 0.0282 - acc: 0.9912\n",
            "Epoch 43/55\n",
            "60000/60000 [==============================] - 13s 224us/step - loss: 0.0279 - acc: 0.9913\n",
            "Epoch 44/55\n",
            "60000/60000 [==============================] - 14s 231us/step - loss: 0.0265 - acc: 0.9916\n",
            "Epoch 45/55\n",
            "60000/60000 [==============================] - 13s 220us/step - loss: 0.0263 - acc: 0.9916\n",
            "Epoch 46/55\n",
            "60000/60000 [==============================] - 13s 219us/step - loss: 0.0271 - acc: 0.9912\n",
            "Epoch 47/55\n",
            "60000/60000 [==============================] - 13s 219us/step - loss: 0.0257 - acc: 0.9921\n",
            "Epoch 48/55\n",
            "60000/60000 [==============================] - 13s 219us/step - loss: 0.0250 - acc: 0.9922\n",
            "Epoch 49/55\n",
            "60000/60000 [==============================] - 13s 223us/step - loss: 0.0263 - acc: 0.9918\n",
            "Epoch 50/55\n",
            "60000/60000 [==============================] - 14s 232us/step - loss: 0.0269 - acc: 0.9917\n",
            "Epoch 51/55\n",
            "60000/60000 [==============================] - 13s 219us/step - loss: 0.0262 - acc: 0.9917\n",
            "Epoch 52/55\n",
            "60000/60000 [==============================] - 13s 221us/step - loss: 0.0253 - acc: 0.9919\n",
            "Epoch 53/55\n",
            "60000/60000 [==============================] - 13s 219us/step - loss: 0.0258 - acc: 0.9922\n",
            "Epoch 54/55\n",
            "60000/60000 [==============================] - 13s 219us/step - loss: 0.0261 - acc: 0.9920\n",
            "Epoch 55/55\n",
            "60000/60000 [==============================] - 13s 222us/step - loss: 0.0252 - acc: 0.9924\n"
          ],
          "name": "stdout"
        },
        {
          "output_type": "execute_result",
          "data": {
            "text/plain": [
              "<keras.callbacks.History at 0x7f0df93f91d0>"
            ]
          },
          "metadata": {
            "tags": []
          },
          "execution_count": 24
        }
      ]
    },
    {
      "cell_type": "markdown",
      "metadata": {
        "id": "Ridl1YCs1evU",
        "colab_type": "text"
      },
      "source": [
        "### As, we can see we have got training accuracy as 99.24% which is pretty less than 99.4. May be caused due to adding dropout in each layer. Though it does not imply that our test accuracy gonna be less than that. So now let's apply the model on test data to check test accuracy:"
      ]
    },
    {
      "cell_type": "code",
      "metadata": {
        "id": "AtsH-lLk-eLb",
        "colab_type": "code",
        "colab": {
          "base_uri": "https://localhost:8080/",
          "height": 34
        },
        "outputId": "06eb14aa-9d1d-4b92-c47f-782dc02d2c50"
      },
      "source": [
        "score = model.evaluate(X_test, Y_test, verbose=0)\n",
        "print(score)"
      ],
      "execution_count": 25,
      "outputs": [
        {
          "output_type": "stream",
          "text": [
            "[0.019006871725752716, 0.9943]\n"
          ],
          "name": "stdout"
        }
      ]
    },
    {
      "cell_type": "markdown",
      "metadata": {
        "id": "wo3Hj9DG2T3Q",
        "colab_type": "text"
      },
      "source": [
        "### Voila, we can see in the abobe that we have achieve the 99.43% test accuracy. \n",
        "\n",
        "### Now, if we predict output class Y in test data we will get the prediction result which we can compare with test result. Let's compare test and train result:"
      ]
    },
    {
      "cell_type": "code",
      "metadata": {
        "id": "OCWoJkwE9suh",
        "colab_type": "code",
        "colab": {}
      },
      "source": [
        "y_pred = model.predict(X_test)"
      ],
      "execution_count": 0,
      "outputs": []
    },
    {
      "cell_type": "code",
      "metadata": {
        "id": "Ym7iCFBm9uBs",
        "colab_type": "code",
        "outputId": "eb685f4c-d2f3-4e0f-875e-e733583e72ae",
        "colab": {
          "base_uri": "https://localhost:8080/",
          "height": 340
        }
      },
      "source": [
        "print(y_pred[:9])\n",
        "print(y_test[:9])"
      ],
      "execution_count": 27,
      "outputs": [
        {
          "output_type": "stream",
          "text": [
            "[[8.5192062e-07 2.5031509e-06 1.9050015e-06 8.5192062e-07 8.5192062e-07\n",
            "  8.5192062e-07 8.5192062e-07 9.9998701e-01 8.5192062e-07 3.5159776e-06]\n",
            " [2.5809288e-05 2.0641276e-04 9.9911660e-01 2.5809288e-05 4.8442100e-05\n",
            "  2.5809288e-05 4.7361836e-04 2.5809288e-05 2.5809288e-05 2.5809288e-05]\n",
            " [2.8357351e-07 9.9999511e-01 2.8357351e-07 2.8357351e-07 6.2929740e-07\n",
            "  2.8357351e-07 2.8357351e-07 2.2092556e-06 2.8357351e-07 2.8357351e-07]\n",
            " [9.9890828e-01 5.5261385e-06 5.5261385e-06 5.5261385e-06 5.5261385e-06\n",
            "  5.5261385e-06 1.0451635e-03 5.5261385e-06 7.9327401e-06 5.5261385e-06]\n",
            " [1.2437558e-06 1.0801189e-06 1.0801189e-06 1.0801189e-06 9.9996388e-01\n",
            "  1.4412295e-06 5.3634903e-06 1.0801189e-06 1.0801189e-06 2.2691125e-05]\n",
            " [2.8196823e-07 9.9999249e-01 2.8196823e-07 2.8196823e-07 1.4735750e-06\n",
            "  2.8196823e-07 2.8196823e-07 4.0617274e-06 2.8196823e-07 2.8196823e-07]\n",
            " [9.7196344e-06 9.7196344e-06 9.7196344e-06 9.7196344e-06 9.9830794e-01\n",
            "  9.7196344e-06 9.7196344e-06 4.7037544e-04 9.8005858e-06 1.1535018e-03]\n",
            " [3.8553006e-07 3.8553006e-07 3.8553006e-07 3.8553006e-07 2.7195129e-03\n",
            "  2.0676923e-06 3.8553006e-07 3.8553006e-07 3.8553006e-07 9.9727577e-01]\n",
            " [8.1666738e-05 1.4952992e-04 8.1666738e-05 8.1666738e-05 8.1666738e-05\n",
            "  7.9669636e-01 2.0079033e-01 8.1666738e-05 1.8695280e-03 8.5859130e-05]]\n",
            "[7 2 1 0 4 1 4 9 5]\n"
          ],
          "name": "stdout"
        }
      ]
    },
    {
      "cell_type": "markdown",
      "metadata": {
        "id": "ax4SXAAJ289y",
        "colab_type": "text"
      },
      "source": [
        "### In the above y_pred we can see that in 1st row 8th positional value is 9.9998701e-01 which is grater than all other values in that row. So, we can say for the 1st test image output is 8th positional value i.e. 7. And in the y_test we can actually validate that we have predicted correctly for the 1st image.\n",
        "\n",
        "### Now lets see at the time of training our model what kind of kernals we have used in different layers to extract different features like texture, pattern, parts of object and object."
      ]
    },
    {
      "cell_type": "code",
      "metadata": {
        "id": "CT--y98_dr2T",
        "colab_type": "code",
        "colab": {}
      },
      "source": [
        "layer_dict = dict([(layer.name, layer) for layer in model.layers])"
      ],
      "execution_count": 0,
      "outputs": []
    },
    {
      "cell_type": "code",
      "metadata": {
        "id": "2GY4Upv4dsUR",
        "colab_type": "code",
        "outputId": "92fca340-1e6c-491d-9e0e-e60d0cd4f978",
        "colab": {
          "base_uri": "https://localhost:8080/",
          "height": 741
        }
      },
      "source": [
        "import numpy as np\n",
        "from matplotlib import pyplot as plt\n",
        "from keras import backend as K\n",
        "%matplotlib inline\n",
        "# util function to convert a tensor into a valid image\n",
        "def deprocess_image(x):\n",
        "    # normalize tensor: center on 0., ensure std is 0.1\n",
        "    x -= x.mean()\n",
        "    x /= (x.std() + 1e-5)\n",
        "    x *= 0.1\n",
        "\n",
        "    # clip to [0, 1]\n",
        "    x += 0.5\n",
        "    x = np.clip(x, 0, 1)\n",
        "\n",
        "    # convert to RGB array\n",
        "    x *= 255\n",
        "    #x = x.transpose((1, 2, 0))\n",
        "    x = np.clip(x, 0, 255).astype('uint8')\n",
        "    return x\n",
        "\n",
        "def vis_img_in_filter(img = np.array(X_train[2]).reshape((1, 28, 28, 1)).astype(np.float64), \n",
        "                      layer_name = 'conv2d_14'):\n",
        "    layer_output = layer_dict[layer_name].output\n",
        "    img_ascs = list()\n",
        "    for filter_index in range(layer_output.shape[3]):\n",
        "        # build a loss function that maximizes the activation\n",
        "        # of the nth filter of the layer considered\n",
        "        loss = K.mean(layer_output[:, :, :, filter_index])\n",
        "\n",
        "        # compute the gradient of the input picture wrt this loss\n",
        "        grads = K.gradients(loss, model.input)[0]\n",
        "\n",
        "        # normalization trick: we normalize the gradient\n",
        "        grads /= (K.sqrt(K.mean(K.square(grads))) + 1e-5)\n",
        "\n",
        "        # this function returns the loss and grads given the input picture\n",
        "        iterate = K.function([model.input], [loss, grads])\n",
        "\n",
        "        # step size for gradient ascent\n",
        "        step = 5.\n",
        "\n",
        "        img_asc = np.array(img)\n",
        "        # run gradient ascent for 20 steps\n",
        "        for i in range(20):\n",
        "            loss_value, grads_value = iterate([img_asc])\n",
        "            img_asc += grads_value * step\n",
        "\n",
        "        img_asc = img_asc[0]\n",
        "        img_ascs.append(deprocess_image(img_asc).reshape((28, 28)))\n",
        "        \n",
        "    if layer_output.shape[3] >= 35:\n",
        "        plot_x, plot_y = 6, 6\n",
        "    elif layer_output.shape[3] >= 23:\n",
        "        plot_x, plot_y = 4, 6\n",
        "    elif layer_output.shape[3] >= 11:\n",
        "        plot_x, plot_y = 2, 6\n",
        "    else:\n",
        "        plot_x, plot_y = 1, 2\n",
        "    fig, ax = plt.subplots(plot_x, plot_y, figsize = (12, 12))\n",
        "    ax[0, 0].imshow(img.reshape((28, 28)), cmap = 'gray')\n",
        "    ax[0, 0].set_title('Input image')\n",
        "    fig.suptitle('Input image and %s filters' % (layer_name,))\n",
        "    fig.tight_layout(pad = 0.3, rect = [0, 0, 0.9, 0.9])\n",
        "    for (x, y) in [(i, j) for i in range(plot_x) for j in range(plot_y)]:\n",
        "        if x == 0 and y == 0:\n",
        "            continue\n",
        "        ax[x, y].imshow(img_ascs[x * plot_y + y - 1], cmap = 'gray')\n",
        "        ax[x, y].set_title('filter %d' % (x * plot_y + y - 1))\n",
        "\n",
        "vis_img_in_filter()"
      ],
      "execution_count": 29,
      "outputs": [
        {
          "output_type": "display_data",
          "data": {
            "image/png": "[encoded data removed]",
            "text/plain": [
              "<Figure size 864x864 with 12 Axes>"
            ]
          },
          "metadata": {
            "tags": []
          }
        }
      ]
    },
    {
      "cell_type": "markdown",
      "metadata": {
        "id": "FX_wa1hF4ayh",
        "colab_type": "text"
      },
      "source": [
        "### So, In the above we can see all 10 filter used in different layers to extract features of our hand written digit 4."
      ]
    }
  ]
}
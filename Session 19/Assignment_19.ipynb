{
  "nbformat": 4,
  "nbformat_minor": 0,
  "metadata": {
    "colab": {
      "name": "Assignment 6.ipynb",
      "provenance": []
    },
    "kernelspec": {
      "name": "python3",
      "display_name": "Python 3"
    },
    "accelerator": "GPU"
  },
  "cells": [
    {
      "cell_type": "markdown",
      "metadata": {
        "id": "gWDUoPYMZpO-",
        "colab_type": "text"
      },
      "source": [
        "#Assignment 19"
      ]
    },
    {
      "cell_type": "markdown",
      "metadata": {
        "id": "SCnTHZ5lZuVy",
        "colab_type": "text"
      },
      "source": [
        "### Here in this assignemnt we are going to preprocess face images and will create 4 clusters from all face object.\n",
        "\n",
        "### To achieve this let's first download the data from google drive."
      ]
    },
    {
      "cell_type": "code",
      "metadata": {
        "id": "pg6F__k2ZoX3",
        "colab_type": "code",
        "colab": {
          "base_uri": "https://localhost:8080/",
          "height": 85
        },
        "outputId": "7018531d-c796-476e-dcb6-3ffed210b5a5"
      },
      "source": [
        "!pip install -U -q PyDrive\n",
        "!git clone https://gist.github.com/dc7e60aa487430ea704a8cb3f2c5d6a6.git /tmp/colab_util_repo\n",
        "!mv /tmp/colab_util_repo/colab_util.py colab_util.py \n",
        "!rm -r /tmp/colab_util_repo\n",
        "from colab_util import *\n",
        "drive_handler = GoogleDriveHandler()"
      ],
      "execution_count": 2,
      "outputs": [
        {
          "output_type": "stream",
          "text": [
            "Cloning into '/tmp/colab_util_repo'...\n",
            "remote: Enumerating objects: 40, done.\u001b[K\n",
            "remote: Total 40 (delta 0), reused 0 (delta 0), pack-reused 40\u001b[K\n",
            "Unpacking objects:   2% (1/40)   \rUnpacking objects:   5% (2/40)   \rUnpacking objects:   7% (3/40)   \rUnpacking objects:  10% (4/40)   \rUnpacking objects:  12% (5/40)   \rUnpacking objects:  15% (6/40)   \rUnpacking objects:  17% (7/40)   \rUnpacking objects:  20% (8/40)   \rUnpacking objects:  22% (9/40)   \rUnpacking objects:  25% (10/40)   \rUnpacking objects:  27% (11/40)   \rUnpacking objects:  30% (12/40)   \rUnpacking objects:  32% (13/40)   \rUnpacking objects:  35% (14/40)   \rUnpacking objects:  37% (15/40)   \rUnpacking objects:  40% (16/40)   \rUnpacking objects:  42% (17/40)   \rUnpacking objects:  45% (18/40)   \rUnpacking objects:  47% (19/40)   \rUnpacking objects:  50% (20/40)   \rUnpacking objects:  52% (21/40)   \rUnpacking objects:  55% (22/40)   \rUnpacking objects:  57% (23/40)   \rUnpacking objects:  60% (24/40)   \rUnpacking objects:  62% (25/40)   \rUnpacking objects:  65% (26/40)   \rUnpacking objects:  67% (27/40)   \rUnpacking objects:  70% (28/40)   \rUnpacking objects:  72% (29/40)   \rUnpacking objects:  75% (30/40)   \rUnpacking objects:  77% (31/40)   \rUnpacking objects:  80% (32/40)   \rUnpacking objects:  82% (33/40)   \rUnpacking objects:  85% (34/40)   \rUnpacking objects:  87% (35/40)   \rUnpacking objects:  90% (36/40)   \rUnpacking objects:  92% (37/40)   \rUnpacking objects:  95% (38/40)   \rUnpacking objects:  97% (39/40)   \rUnpacking objects: 100% (40/40)   \rUnpacking objects: 100% (40/40), done.\n"
          ],
          "name": "stdout"
        }
      ]
    },
    {
      "cell_type": "code",
      "metadata": {
        "id": "2nopFnUxaswR",
        "colab_type": "code",
        "colab": {}
      },
      "source": [
        "drive_handler.download('RAW_Image.zip', target_path='EVA_Phase_1/Session 19/RAW_Image.zip')"
      ],
      "execution_count": 0,
      "outputs": []
    },
    {
      "cell_type": "markdown",
      "metadata": {
        "id": "akUi1PcejPNM",
        "colab_type": "text"
      },
      "source": [
        "### Let's Unzip the zip file and extract all images in the directory"
      ]
    },
    {
      "cell_type": "code",
      "metadata": {
        "id": "lZy6IaGAbrcR",
        "colab_type": "code",
        "colab": {}
      },
      "source": [
        "# !rm -rf 'RAW Image'\n",
        "# !rm RAW_Image.zip\n",
        "import zipfile\n",
        "from google.colab import drive\n",
        "\n",
        "zip_ref = zipfile.ZipFile(\"RAW_Image.zip\", 'r')\n",
        "zip_ref.extractall(\"RAW_Image\")\n",
        "zip_ref.close()"
      ],
      "execution_count": 0,
      "outputs": []
    },
    {
      "cell_type": "markdown",
      "metadata": {
        "id": "oBSSI2ghlPAu",
        "colab_type": "text"
      },
      "source": [
        "### Now,let's rename the images as img1,img2,... etc."
      ]
    },
    {
      "cell_type": "code",
      "metadata": {
        "id": "IBuSplKBhyFu",
        "colab_type": "code",
        "colab": {}
      },
      "source": [
        "def ReName_Multiple_Images(Imagepath,imgStartingName):\n",
        "  import os\n",
        "  # Function to rename multiple files \n",
        "  def main(): \n",
        "      i = 1\n",
        "\n",
        "      for filename in os.listdir(Imagepath): \n",
        "          dst =imgStartingName + str(i) + \".jpg\"\n",
        "          src =Imagepath+ filename \n",
        "          dst =Imagepath+ dst \n",
        "\n",
        "          # rename() function will \n",
        "          # rename all the files \n",
        "          os.rename(src, dst) \n",
        "          i += 1\n",
        "\n",
        "  # Driver Code \n",
        "  if __name__ == '__main__':       \n",
        "      # Calling main() function \n",
        "      main() "
      ],
      "execution_count": 0,
      "outputs": []
    },
    {
      "cell_type": "code",
      "metadata": {
        "id": "O3_MXf5plgXe",
        "colab_type": "code",
        "colab": {}
      },
      "source": [
        "ReName_Multiple_Images('RAW_Image/RAW Image/','img')"
      ],
      "execution_count": 0,
      "outputs": []
    },
    {
      "cell_type": "markdown",
      "metadata": {
        "id": "jcv8le5RlxrO",
        "colab_type": "text"
      },
      "source": [
        "### Now, Let's resize all images to 400 x 400"
      ]
    },
    {
      "cell_type": "code",
      "metadata": {
        "id": "mrp6G_i9vtTS",
        "colab_type": "code",
        "colab": {}
      },
      "source": [
        "#import the library opencv\n",
        "import cv2\n",
        "#globbing utility.\n",
        "import glob\n",
        "from skimage import io\n",
        "%matplotlib inline\n",
        "from matplotlib import pyplot as plt\n",
        "\n",
        "!mkdir 'RAW_Image_Resized'\n",
        "\n",
        "#select the path\n",
        "path = 'RAW_Image/RAW Image/*.*'\n",
        "for bb,file in enumerate (glob.glob(path)):\n",
        "    img = io.imread(file)\n",
        "    #img = cv2.cvtColor(img, cv2.COLOR_BGR2RGB)\n",
        "    img = cv2.resize(img, dsize=(400, 400), interpolation=cv2.INTER_CUBIC)\n",
        "    #writing the images in a folder output_images\n",
        "    cv2.imwrite('RAW_Image_Resized/img{}.jpg'.format(bb+1), cv2.cvtColor(img, cv2.COLOR_RGB2BGR))\n",
        "    #wait for 1 second\n",
        "    k = cv2.waitKey(1000)\n",
        "    #destroy the window\n",
        "    cv2.destroyAllWindows()"
      ],
      "execution_count": 0,
      "outputs": []
    },
    {
      "cell_type": "markdown",
      "metadata": {
        "id": "tLK7CTD36aDZ",
        "colab_type": "text"
      },
      "source": [
        "### Now let's zip those resized and upload in google drive to create annotation of objects"
      ]
    },
    {
      "cell_type": "code",
      "metadata": {
        "id": "HxzsUNUi6ZlP",
        "colab_type": "code",
        "colab": {}
      },
      "source": [
        "!zip -r RAW_Image_Resized.zip RAW_Image_Resized"
      ],
      "execution_count": 0,
      "outputs": []
    },
    {
      "cell_type": "code",
      "metadata": {
        "id": "LWftQuR43hEh",
        "colab_type": "code",
        "colab": {
          "base_uri": "https://localhost:8080/",
          "height": 34
        },
        "outputId": "bbae3f81-ded0-4995-b229-5fe38cfb7a5e"
      },
      "source": [
        "drive_handler.upload('RAW_Image_Resized.zip', parent_path='EVA_Phase_1/Session 19/')"
      ],
      "execution_count": 11,
      "outputs": [
        {
          "output_type": "execute_result",
          "data": {
            "text/plain": [
              "'1VWzttxMuKNFeHQwfis06blWGneizvoxf'"
            ]
          },
          "metadata": {
            "tags": []
          },
          "execution_count": 11
        }
      ]
    },
    {
      "cell_type": "markdown",
      "metadata": {
        "id": "zRWPN9IKYu-0",
        "colab_type": "text"
      },
      "source": [
        "### Now let's download resized data again:"
      ]
    },
    {
      "cell_type": "code",
      "metadata": {
        "id": "qFtV8j3gYs4v",
        "colab_type": "code",
        "colab": {}
      },
      "source": [
        "drive_handler.download('RAW_Image_Resized.zip', target_path='EVA_Phase_1/Session 19/RAW_Image_Resized.zip')"
      ],
      "execution_count": 0,
      "outputs": []
    },
    {
      "cell_type": "code",
      "metadata": {
        "id": "OCrvf1KAY9tv",
        "colab_type": "code",
        "colab": {}
      },
      "source": [
        "import zipfile\n",
        "from google.colab import drive\n",
        "\n",
        "zip_ref = zipfile.ZipFile(\"RAW_Image_Resized.zip\", 'r')\n",
        "zip_ref.extractall(\"RAW_Image_Resized\")\n",
        "zip_ref.close()"
      ],
      "execution_count": 0,
      "outputs": []
    },
    {
      "cell_type": "markdown",
      "metadata": {
        "id": "huYRHr7x7IyX",
        "colab_type": "text"
      },
      "source": [
        "### Now let's download the annotation json file of all images"
      ]
    },
    {
      "cell_type": "code",
      "metadata": {
        "id": "kVMKRBgy5YDe",
        "colab_type": "code",
        "colab": {}
      },
      "source": [
        "drive_handler.download('Annotation_File.zip', target_path='EVA_Phase_1/Session 19/Annotation_File.zip')"
      ],
      "execution_count": 0,
      "outputs": []
    },
    {
      "cell_type": "code",
      "metadata": {
        "id": "xZIXimJw74pH",
        "colab_type": "code",
        "colab": {}
      },
      "source": [
        "zip_ref = zipfile.ZipFile(\"Annotation_File.zip\", 'r')\n",
        "zip_ref.extractall(\"Annotation_File\")\n",
        "zip_ref.close()"
      ],
      "execution_count": 0,
      "outputs": []
    },
    {
      "cell_type": "code",
      "metadata": {
        "id": "yX727doUZWDA",
        "colab_type": "code",
        "colab": {}
      },
      "source": [
        "import pandas as pd\n",
        "import numpy as np"
      ],
      "execution_count": 0,
      "outputs": []
    },
    {
      "cell_type": "code",
      "metadata": {
        "id": "7ZM7-z2kZisY",
        "colab_type": "code",
        "colab": {}
      },
      "source": [
        "annotation_data = pd.read_json('Annotation_File/Annotation File/via_export_json.json')\n",
        "annotation_data = annotation_data.transpose().reset_index()[['filename','regions']]"
      ],
      "execution_count": 0,
      "outputs": []
    },
    {
      "cell_type": "markdown",
      "metadata": {
        "id": "ShwTT34CoiFG",
        "colab_type": "text"
      },
      "source": [
        "### We are going to create a dataframe containing all face object details"
      ]
    },
    {
      "cell_type": "code",
      "metadata": {
        "id": "ulC3ETKua3H8",
        "colab_type": "code",
        "colab": {}
      },
      "source": [
        "img_obj_list=pd.DataFrame(columns=['file_name', 'object_name', 'object_class', 'height', 'width', 'X', 'Y'])\n",
        "for img in range(annotation_data.shape[0]):\n",
        "  file_name = annotation_data['filename'][img]\n",
        "  for img_obj in range(len(annotation_data['regions'][img])):\n",
        "    obj_height = annotation_data['regions'][img][img_obj]['shape_attributes']['height']\n",
        "    obj_width = annotation_data['regions'][img][img_obj]['shape_attributes']['width']\n",
        "    obj_x = annotation_data['regions'][img][img_obj]['shape_attributes']['x']\n",
        "    obj_y = annotation_data['regions'][img][img_obj]['shape_attributes']['y']\n",
        "    obj_class = annotation_data['regions'][img][img_obj]['region_attributes']['Face']\n",
        "    obj_name =  annotation_data['regions'][img][img_obj]['region_attributes']['Name']\n",
        "    img_obj_list = img_obj_list.append({'file_name': file_name,'object_name': obj_name, 'object_class': obj_class, 'height': obj_height,'width': obj_width, 'X': obj_x, 'Y': obj_y}, ignore_index=True)\n",
        "  \n"
      ],
      "execution_count": 0,
      "outputs": []
    },
    {
      "cell_type": "code",
      "metadata": {
        "id": "pCwOZ8pGovEF",
        "colab_type": "code",
        "colab": {
          "base_uri": "https://localhost:8080/",
          "height": 204
        },
        "outputId": "9275fccc-2fb8-47df-90d9-a8b88de8c9d4"
      },
      "source": [
        "img_obj_list.head()"
      ],
      "execution_count": 64,
      "outputs": [
        {
          "output_type": "execute_result",
          "data": {
            "text/html": [
              "<div>\n",
              "<style scoped>\n",
              "    .dataframe tbody tr th:only-of-type {\n",
              "        vertical-align: middle;\n",
              "    }\n",
              "\n",
              "    .dataframe tbody tr th {\n",
              "        vertical-align: top;\n",
              "    }\n",
              "\n",
              "    .dataframe thead th {\n",
              "        text-align: right;\n",
              "    }\n",
              "</style>\n",
              "<table border=\"1\" class=\"dataframe\">\n",
              "  <thead>\n",
              "    <tr style=\"text-align: right;\">\n",
              "      <th></th>\n",
              "      <th>file_name</th>\n",
              "      <th>object_name</th>\n",
              "      <th>object_class</th>\n",
              "      <th>height</th>\n",
              "      <th>width</th>\n",
              "      <th>X</th>\n",
              "      <th>Y</th>\n",
              "    </tr>\n",
              "  </thead>\n",
              "  <tbody>\n",
              "    <tr>\n",
              "      <th>0</th>\n",
              "      <td>img1.jpg</td>\n",
              "      <td>face1</td>\n",
              "      <td>DownRight</td>\n",
              "      <td>57</td>\n",
              "      <td>33</td>\n",
              "      <td>132</td>\n",
              "      <td>120</td>\n",
              "    </tr>\n",
              "    <tr>\n",
              "      <th>1</th>\n",
              "      <td>img1.jpg</td>\n",
              "      <td>face2</td>\n",
              "      <td>DownLeft</td>\n",
              "      <td>63</td>\n",
              "      <td>43</td>\n",
              "      <td>230</td>\n",
              "      <td>51</td>\n",
              "    </tr>\n",
              "    <tr>\n",
              "      <th>2</th>\n",
              "      <td>img1.jpg</td>\n",
              "      <td>face3</td>\n",
              "      <td>Right</td>\n",
              "      <td>47</td>\n",
              "      <td>37</td>\n",
              "      <td>174</td>\n",
              "      <td>169</td>\n",
              "    </tr>\n",
              "    <tr>\n",
              "      <th>3</th>\n",
              "      <td>img2.jpg</td>\n",
              "      <td>face1</td>\n",
              "      <td>Back</td>\n",
              "      <td>161</td>\n",
              "      <td>84</td>\n",
              "      <td>53</td>\n",
              "      <td>27</td>\n",
              "    </tr>\n",
              "    <tr>\n",
              "      <th>4</th>\n",
              "      <td>img2.jpg</td>\n",
              "      <td>face2</td>\n",
              "      <td>Front</td>\n",
              "      <td>68</td>\n",
              "      <td>35</td>\n",
              "      <td>300</td>\n",
              "      <td>274</td>\n",
              "    </tr>\n",
              "  </tbody>\n",
              "</table>\n",
              "</div>"
            ],
            "text/plain": [
              "  file_name object_name object_class height width    X    Y\n",
              "0  img1.jpg       face1    DownRight     57    33  132  120\n",
              "1  img1.jpg       face2     DownLeft     63    43  230   51\n",
              "2  img1.jpg       face3        Right     47    37  174  169\n",
              "3  img2.jpg       face1         Back    161    84   53   27\n",
              "4  img2.jpg       face2        Front     68    35  300  274"
            ]
          },
          "metadata": {
            "tags": []
          },
          "execution_count": 64
        }
      ]
    },
    {
      "cell_type": "markdown",
      "metadata": {
        "id": "Bzl0w5bjpMJM",
        "colab_type": "text"
      },
      "source": [
        "### Now, let's download the file and save it in our local"
      ]
    },
    {
      "cell_type": "code",
      "metadata": {
        "id": "Ze_LjkDWlKnR",
        "colab_type": "code",
        "colab": {}
      },
      "source": [
        "img_obj_list.to_csv('img_obj_list.csv', index=False)\n",
        "from google.colab import files\n",
        "files.download('img_obj_list.csv') "
      ],
      "execution_count": 0,
      "outputs": []
    },
    {
      "cell_type": "markdown",
      "metadata": {
        "id": "zNlTNiZ6pStW",
        "colab_type": "text"
      },
      "source": [
        "### As our data preprossing is done. Now we are going to perform k-means clustering on top of this data to extract top 4 cluster details:"
      ]
    },
    {
      "cell_type": "code",
      "metadata": {
        "id": "e34pfxMTpnMV",
        "colab_type": "code",
        "colab": {
          "base_uri": "https://localhost:8080/",
          "height": 300
        },
        "outputId": "f90e3c93-f69c-4a00-e3dd-8847fc81b5f0"
      },
      "source": [
        "from matplotlib import pyplot as plt\n",
        "import seaborn as sns\n",
        "%matplotlib inline\n",
        "#JointPlots\n",
        "\n",
        "img_obj_list.plot(x='height', y='width', style='o')"
      ],
      "execution_count": 69,
      "outputs": [
        {
          "output_type": "execute_result",
          "data": {
            "text/plain": [
              "<matplotlib.axes._subplots.AxesSubplot at 0x7f8276647e10>"
            ]
          },
          "metadata": {
            "tags": []
          },
          "execution_count": 69
        },
        {
          "output_type": "display_data",
          "data": {
            "image/png": "[encoded data removed]",
            "text/plain": [
              "<Figure size 432x288 with 1 Axes>"
            ]
          },
          "metadata": {
            "tags": []
          }
        }
      ]
    },
    {
      "cell_type": "code",
      "metadata": {
        "id": "_E0lvvwB0v2L",
        "colab_type": "code",
        "colab": {
          "base_uri": "https://localhost:8080/",
          "height": 295
        },
        "outputId": "e110c335-3d07-4349-d209-8be11c89c3c7"
      },
      "source": [
        "# Using the elbow method to find the optimal number of clusters\n",
        "from sklearn.cluster import KMeans\n",
        "wcss = []\n",
        "for i in range(1, 11):\n",
        "    kmeans = KMeans(n_clusters = i, init = 'k-means++', random_state = 42)\n",
        "    kmeans.fit(img_obj_list[['width','height']])\n",
        "    wcss.append(kmeans.inertia_)\n",
        "plt.plot(range(1, 11), wcss)\n",
        "plt.title('The Elbow Method')\n",
        "plt.xlabel('Number of clusters')\n",
        "plt.ylabel('WCSS')\n",
        "plt.show()\n",
        "\n",
        "# Fitting K-Means to the dataset\n",
        "kmeans = KMeans(n_clusters = 4, init = 'k-means++', random_state = 42)\n",
        "y_kmeans = kmeans.fit_predict(img_obj_list[['width','height']])"
      ],
      "execution_count": 90,
      "outputs": [
        {
          "output_type": "display_data",
          "data": {
            "image/png": "[encoded data removed]",
            "text/plain": [
              "<Figure size 432x288 with 1 Axes>"
            ]
          },
          "metadata": {
            "tags": []
          }
        }
      ]
    },
    {
      "cell_type": "code",
      "metadata": {
        "id": "rpMblIYK3Nl5",
        "colab_type": "code",
        "colab": {
          "base_uri": "https://localhost:8080/",
          "height": 119
        },
        "outputId": "77655561-089d-4b2f-9f36-4ca280e99361"
      },
      "source": [
        "X = img_obj_list[['height','width']]\n",
        "X['y_kmeans'] = kmeans.fit_predict(X)"
      ],
      "execution_count": 93,
      "outputs": [
        {
          "output_type": "stream",
          "text": [
            "/usr/local/lib/python3.6/dist-packages/ipykernel_launcher.py:2: SettingWithCopyWarning: \n",
            "A value is trying to be set on a copy of a slice from a DataFrame.\n",
            "Try using .loc[row_indexer,col_indexer] = value instead\n",
            "\n",
            "See the caveats in the documentation: http://pandas.pydata.org/pandas-docs/stable/indexing.html#indexing-view-versus-copy\n",
            "  \n"
          ],
          "name": "stderr"
        }
      ]
    },
    {
      "cell_type": "code",
      "metadata": {
        "id": "lpnrixLD11gI",
        "colab_type": "code",
        "colab": {
          "base_uri": "https://localhost:8080/",
          "height": 295
        },
        "outputId": "a0e9f7e3-5894-4a46-a6ab-dd5e13c8aba0"
      },
      "source": [
        "# Visualising the clusters\n",
        "plt.scatter(X[y_kmeans == 0]['height'],X[y_kmeans == 0]['width'], s = 25, c = 'red', label = 'Cluster 1')\n",
        "plt.scatter(X[y_kmeans == 1]['height'], X[y_kmeans == 1]['width'], s = 25, c = 'lightblue', label = 'Cluster 2')\n",
        "plt.scatter(X[y_kmeans == 2]['height'], X[y_kmeans == 2]['width'], s = 25, c = 'green', label = 'Cluster 3')\n",
        "plt.scatter(X[y_kmeans == 3]['height'], X[y_kmeans == 3]['width'], s = 25, c = 'cyan', label = 'Cluster 4')\n",
        "plt.scatter(kmeans.cluster_centers_[:, 0], kmeans.cluster_centers_[:, 1], s = 100, c = 'black', label = 'Centroids')\n",
        "plt.title('Clusters of Bounding Boxes')\n",
        "plt.xlabel('Object Width')\n",
        "plt.ylabel('Object Height')\n",
        "plt.legend()\n",
        "plt.show()"
      ],
      "execution_count": 103,
      "outputs": [
        {
          "output_type": "display_data",
          "data": {
            "image/png": "[encoded data removed]",
            "text/plain": [
              "<Figure size 432x288 with 1 Axes>"
            ]
          },
          "metadata": {
            "tags": []
          }
        }
      ]
    },
    {
      "cell_type": "code",
      "metadata": {
        "id": "9SaJVyVD5PtV",
        "colab_type": "code",
        "colab": {
          "base_uri": "https://localhost:8080/",
          "height": 85
        },
        "outputId": "2c3ce6d6-e6a4-4e26-b72f-8a59ba20482c"
      },
      "source": [
        "#### 4 clusters centroid value\n",
        "centroid_height = kmeans.cluster_centers_[:, 0]\n",
        "centroid_width = kmeans.cluster_centers_[:, 1]\n",
        "for i in range(4):\n",
        "  print(\"(\" + str(centroid_height[i]) + \" , \" + str(centroid_width[i]) + \")\")"
      ],
      "execution_count": 99,
      "outputs": [
        {
          "output_type": "stream",
          "text": [
            "(151.8166666666667 , 75.45)\n",
            "(56.47142857142853 , 34.07142857142853)\n",
            "(208.69565217391303 , 118.43478260869563)\n",
            "(97.25287356321839 , 55.298850574712645)\n"
          ],
          "name": "stdout"
        }
      ]
    },
    {
      "cell_type": "markdown",
      "metadata": {
        "id": "h7wQomow7jdL",
        "colab_type": "text"
      },
      "source": [
        "### So, from the above we can conclude 4 cluster dimensions are: (151.8166666666667 , 75.45),       (56.47142857142853 , 34.07142857142853), (208.69565217391303 , 118.43478260869563), (97.25287356321839 , 55.298850574712645)"
      ]
    }
  ]
}
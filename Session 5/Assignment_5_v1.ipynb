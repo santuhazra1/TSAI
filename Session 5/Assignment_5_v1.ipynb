{
  "nbformat": 4,
  "nbformat_minor": 0,
  "metadata": {
    "colab": {
      "name": "Assignment_5_v1.ipynb",
      "version": "0.3.2",
      "provenance": [],
      "collapsed_sections": []
    },
    "kernelspec": {
      "name": "python3",
      "display_name": "Python 3"
    },
    "accelerator": "GPU"
  },
  "cells": [
    {
      "cell_type": "markdown",
      "metadata": {
        "id": "zIbdcpR9apmy",
        "colab_type": "text"
      },
      "source": [
        "# Assignment 5\n",
        "----------------------------------------------------------------------------------------------------------------------------------------------------------------------------------------------------------------------------------\n"
      ]
    },
    {
      "cell_type": "markdown",
      "metadata": {
        "id": "Cs7Q12eNavP2",
        "colab_type": "text"
      },
      "source": [
        "### In This assignment we are going to achieve below mentioned goals:\n",
        "* #### Introducing Image normalization\n",
        "* #### Use of L2 regularization\n",
        "* #### Using ReLU after Batch Normalization\n",
        "* #### Running the new code for 40 epochs and save the model with highest validation accuracy\n",
        "* #### Finding out 25 misclassified images from the validation dataset and create an image gallery\n",
        "\n",
        "### So to achieve the goal lets first install keras library with which we are going to build the model and  import all pakages from keras with which we are going to build the CNN model"
      ]
    },
    {
      "cell_type": "code",
      "metadata": {
        "id": "0SJyVpgSxHt4",
        "colab_type": "code",
        "colab": {}
      },
      "source": [
        "# https://keras.io/\n",
        "!pip install -q keras\n",
        "import keras\n",
        "\n",
        "import numpy as np\n",
        "\n",
        "from keras.models import Sequential\n",
        "from keras.layers import Dense, Dropout, Activation, Flatten, Add, BatchNormalization\n",
        "from keras.layers import Convolution2D, MaxPooling2D\n",
        "from keras.utils import np_utils\n",
        "from keras.regularizers import l2\n",
        "\n",
        "from keras.datasets import mnist"
      ],
      "execution_count": 0,
      "outputs": []
    },
    {
      "cell_type": "markdown",
      "metadata": {
        "id": "alV77CfsdfTo",
        "colab_type": "text"
      },
      "source": [
        "### Now we are going to load the pre-shuffled MNIST data. Out of total 70k data we have 60k hand written image as train data and 10k hand written image as test data which is autometically predefined in mnist dataset."
      ]
    },
    {
      "cell_type": "code",
      "metadata": {
        "id": "YlEUplvoxKAT",
        "colab_type": "code",
        "outputId": "4e21590e-e3f6-4c97-a8b5-cc57a198cc32",
        "colab": {
          "base_uri": "https://localhost:8080/",
          "height": 51
        }
      },
      "source": [
        "(X_train, y_train), (X_test, y_test) = mnist.load_data()\n"
      ],
      "execution_count": 0,
      "outputs": [
        {
          "output_type": "stream",
          "text": [
            "Downloading data from https://s3.amazonaws.com/img-datasets/mnist.npz\n",
            "11493376/11490434 [==============================] - 0s 0us/step\n"
          ],
          "name": "stdout"
        }
      ]
    },
    {
      "cell_type": "markdown",
      "metadata": {
        "id": "z06QclzqdjGE",
        "colab_type": "text"
      },
      "source": [
        "### Let's see how our MNIST data looks like in below. Here we can see the 5th hand written digit in X_train as 2 in the displayed image."
      ]
    },
    {
      "cell_type": "code",
      "metadata": {
        "id": "I6Y9Va-xxMXG",
        "colab_type": "code",
        "outputId": "bcf1d0eb-a192-4820-e0c0-ee98a6baa4be",
        "colab": {
          "base_uri": "https://localhost:8080/",
          "height": 303
        }
      },
      "source": [
        "print (X_train.shape)\n",
        "from matplotlib import pyplot as plt\n",
        "%matplotlib inline\n",
        "plt.imshow(X_train[8])"
      ],
      "execution_count": 0,
      "outputs": [
        {
          "output_type": "stream",
          "text": [
            "(60000, 28, 28)\n"
          ],
          "name": "stdout"
        },
        {
          "output_type": "execute_result",
          "data": {
            "text/plain": [
              "<matplotlib.image.AxesImage at 0x7fba7d0c0860>"
            ]
          },
          "metadata": {
            "tags": []
          },
          "execution_count": 3
        },
        {
          "output_type": "display_data",
          "data": {
            "image/png": "[encoded data removed]",
            "text/plain": [
              "<Figure size 432x288 with 1 Axes>"
            ]
          },
          "metadata": {
            "tags": []
          }
        }
      ]
    },
    {
      "cell_type": "markdown",
      "metadata": {
        "id": "SzALZ_ZHds5Q",
        "colab_type": "text"
      },
      "source": [
        "### Now we have to shape all the image size in test and train so that we can apply out CNN model based on the input image shape and we will not have any problem while testing with test images with same shape. Let's shape train and test data to (28 , 28 , 1) which is going to be the input dimension of our model."
      ]
    },
    {
      "cell_type": "code",
      "metadata": {
        "id": "lxDZxPhhxOgO",
        "colab_type": "code",
        "colab": {}
      },
      "source": [
        "X_train = X_train.reshape(X_train.shape[0], 28, 28,1)\n",
        "X_test = X_test.reshape(X_test.shape[0], 28, 28,1)"
      ],
      "execution_count": 0,
      "outputs": []
    },
    {
      "cell_type": "markdown",
      "metadata": {
        "id": "aW0zPtcNPy9a",
        "colab_type": "text"
      },
      "source": [
        "### Here in the below section we are going to scale our pixel values to 0-1. So to train a robust we must scale the pixcel values."
      ]
    },
    {
      "cell_type": "code",
      "metadata": {
        "id": "wRJ3MnfUPzcl",
        "colab_type": "code",
        "colab": {}
      },
      "source": [
        "X_train = X_train.astype('float32')\n",
        "X_test = X_test.astype('float32')\n",
        "X_train /= 255\n",
        "X_test /= 255"
      ],
      "execution_count": 0,
      "outputs": []
    },
    {
      "cell_type": "markdown",
      "metadata": {
        "id": "KQfxM5l52kaY",
        "colab_type": "text"
      },
      "source": [
        "### Now lets normalize the image set as we have mention to achieve this in the begining:"
      ]
    },
    {
      "cell_type": "code",
      "metadata": {
        "id": "tXbXDGRr2lNy",
        "colab_type": "code",
        "outputId": "b48ff79b-ca2f-4afc-9117-58c965c362b7",
        "colab": {
          "base_uri": "https://localhost:8080/",
          "height": 105
        }
      },
      "source": [
        "from keras.preprocessing.image import ImageDataGenerator\n",
        "# create generator that centers pixel values\n",
        "datagen = ImageDataGenerator(featurewise_center=True, featurewise_std_normalization=True)\n",
        "iterator = datagen.flow(X_train, y_train, batch_size=len(X_train), shuffle=False)\n",
        "trainX, trainy = iterator.next()"
      ],
      "execution_count": 0,
      "outputs": [
        {
          "output_type": "stream",
          "text": [
            "/usr/local/lib/python3.6/dist-packages/keras_preprocessing/image/image_data_generator.py:699: UserWarning: This ImageDataGenerator specifies `featurewise_center`, but it hasn't been fit on any training data. Fit it first by calling `.fit(numpy_data)`.\n",
            "  warnings.warn('This ImageDataGenerator specifies '\n",
            "/usr/local/lib/python3.6/dist-packages/keras_preprocessing/image/image_data_generator.py:707: UserWarning: This ImageDataGenerator specifies `featurewise_std_normalization`, but it hasn't been fit on any training data. Fit it first by calling `.fit(numpy_data)`.\n",
            "  warnings.warn('This ImageDataGenerator specifies '\n"
          ],
          "name": "stderr"
        }
      ]
    },
    {
      "cell_type": "markdown",
      "metadata": {
        "id": "uiG0Hw6ad0E0",
        "colab_type": "text"
      },
      "source": [
        "### Let's see how Y looks like as Y values are the actual no corrosponding to an hand written image."
      ]
    },
    {
      "cell_type": "code",
      "metadata": {
        "id": "7LdYiW6ixR9e",
        "colab_type": "code",
        "outputId": "c1c871c6-5b86-471a-dbb4-4f04d07fc8c5",
        "colab": {
          "base_uri": "https://localhost:8080/",
          "height": 34
        }
      },
      "source": [
        "trainy[:10]"
      ],
      "execution_count": 0,
      "outputs": [
        {
          "output_type": "execute_result",
          "data": {
            "text/plain": [
              "array([5, 0, 4, 1, 9, 2, 1, 3, 1, 4], dtype=uint8)"
            ]
          },
          "metadata": {
            "tags": []
          },
          "execution_count": 7
        }
      ]
    },
    {
      "cell_type": "markdown",
      "metadata": {
        "id": "UhsP8e_Dd7Tm",
        "colab_type": "text"
      },
      "source": [
        "### Now we have to convert Y values from 1-dimentional class matrix to 10 dimentional class matrix so that we can predict out of 10 class which class it is predicting."
      ]
    },
    {
      "cell_type": "code",
      "metadata": {
        "id": "rFR0F9j0xVp2",
        "colab_type": "code",
        "outputId": "f7445e49-d0a5-47c5-bea5-7e5897c1f8a8",
        "colab": {
          "base_uri": "https://localhost:8080/",
          "height": 187
        }
      },
      "source": [
        "trainy = np_utils.to_categorical(trainy, 10)\n",
        "Y_test = np_utils.to_categorical(y_test, 10)\n",
        "trainy[:10]"
      ],
      "execution_count": 0,
      "outputs": [
        {
          "output_type": "execute_result",
          "data": {
            "text/plain": [
              "array([[0., 0., 0., 0., 0., 1., 0., 0., 0., 0.],\n",
              "       [1., 0., 0., 0., 0., 0., 0., 0., 0., 0.],\n",
              "       [0., 0., 0., 0., 1., 0., 0., 0., 0., 0.],\n",
              "       [0., 1., 0., 0., 0., 0., 0., 0., 0., 0.],\n",
              "       [0., 0., 0., 0., 0., 0., 0., 0., 0., 1.],\n",
              "       [0., 0., 1., 0., 0., 0., 0., 0., 0., 0.],\n",
              "       [0., 1., 0., 0., 0., 0., 0., 0., 0., 0.],\n",
              "       [0., 0., 0., 1., 0., 0., 0., 0., 0., 0.],\n",
              "       [0., 1., 0., 0., 0., 0., 0., 0., 0., 0.],\n",
              "       [0., 0., 0., 0., 1., 0., 0., 0., 0., 0.]], dtype=float32)"
            ]
          },
          "metadata": {
            "tags": []
          },
          "execution_count": 8
        }
      ]
    },
    {
      "cell_type": "markdown",
      "metadata": {
        "id": "2cBWhKcPd_0p",
        "colab_type": "text"
      },
      "source": [
        "### Now let's build our CNN model which we are going to apply on our train data for training the model later. Here we are going to use 2-D convolution, maxpooling, dropout, batch normalization and softmax activation function to get output."
      ]
    },
    {
      "cell_type": "code",
      "metadata": {
        "id": "mDpXf4YQxXRm",
        "colab_type": "code",
        "outputId": "3b31cf39-fbe8-4853-9500-f1a25935c2af",
        "colab": {
          "base_uri": "https://localhost:8080/",
          "height": 221
        }
      },
      "source": [
        "from keras.layers import Activation\n",
        "model = Sequential()\n",
        "\n",
        " \n",
        "model.add(Convolution2D(12, 3, 3, input_shape=(28,28,1), kernel_regularizer=l2(0.001)))#26\n",
        "model.add(BatchNormalization())\n",
        "model.add(Activation('relu'))\n",
        "model.add(Dropout(0.1))\n",
        "model.add(Convolution2D(15, 3, 3, kernel_regularizer=l2(0.001)))#24\n",
        "model.add(BatchNormalization())\n",
        "model.add(Activation('relu'))\n",
        "model.add(Dropout(0.1))\n",
        "\n",
        "model.add(Convolution2D(20, 3, 3, kernel_regularizer=l2(0.001)))#22\n",
        "model.add(BatchNormalization())\n",
        "model.add(Activation('relu'))\n",
        "model.add(Dropout(0.1))\n",
        "\n",
        "model.add(Convolution2D(12, 1, 1, kernel_regularizer=l2(0.001)))\n",
        "model.add(Activation('relu'))\n",
        "model.add(MaxPooling2D(pool_size=(2, 2)))#11\n",
        "\n",
        "model.add(Convolution2D(12, 3, 3, kernel_regularizer=l2(0.001)))#9\n",
        "model.add(BatchNormalization())\n",
        "model.add(Activation('relu'))\n",
        "model.add(Dropout(0.1))\n",
        "\n",
        "model.add(Convolution2D(15, 3, 3, kernel_regularizer=l2(0.001)))#7\n",
        "model.add(BatchNormalization())\n",
        "model.add(Activation('relu'))\n",
        "model.add(Dropout(0.1))\n",
        "\n",
        "model.add(Convolution2D(20, 3, 3, kernel_regularizer=l2(0.001)))#5\n",
        "model.add(BatchNormalization())\n",
        "model.add(Activation('relu'))\n",
        "model.add(Dropout(0.1))\n",
        "\n",
        "model.add(Convolution2D(10, 1, 1, kernel_regularizer=l2(0.001)))#5\n",
        "model.add(Activation('relu'))\n",
        "model.add(Convolution2D(10, 5, 5))\n",
        "\n",
        "model.add(Flatten())\n",
        "model.add(Activation('softmax'))"
      ],
      "execution_count": 0,
      "outputs": [
        {
          "output_type": "stream",
          "text": [
            "/usr/local/lib/python3.6/dist-packages/ipykernel_launcher.py:5: UserWarning: Update your `Conv2D` call to the Keras 2 API: `Conv2D(12, (3, 3), input_shape=(28, 28, 1..., kernel_regularizer=<keras.reg...)`\n",
            "  \"\"\"\n",
            "/usr/local/lib/python3.6/dist-packages/ipykernel_launcher.py:9: UserWarning: Update your `Conv2D` call to the Keras 2 API: `Conv2D(15, (3, 3), kernel_regularizer=<keras.reg...)`\n",
            "  if __name__ == '__main__':\n",
            "/usr/local/lib/python3.6/dist-packages/ipykernel_launcher.py:14: UserWarning: Update your `Conv2D` call to the Keras 2 API: `Conv2D(20, (3, 3), kernel_regularizer=<keras.reg...)`\n",
            "  \n",
            "/usr/local/lib/python3.6/dist-packages/ipykernel_launcher.py:19: UserWarning: Update your `Conv2D` call to the Keras 2 API: `Conv2D(12, (1, 1), kernel_regularizer=<keras.reg...)`\n",
            "/usr/local/lib/python3.6/dist-packages/ipykernel_launcher.py:23: UserWarning: Update your `Conv2D` call to the Keras 2 API: `Conv2D(12, (3, 3), kernel_regularizer=<keras.reg...)`\n",
            "/usr/local/lib/python3.6/dist-packages/ipykernel_launcher.py:28: UserWarning: Update your `Conv2D` call to the Keras 2 API: `Conv2D(15, (3, 3), kernel_regularizer=<keras.reg...)`\n",
            "/usr/local/lib/python3.6/dist-packages/ipykernel_launcher.py:33: UserWarning: Update your `Conv2D` call to the Keras 2 API: `Conv2D(20, (3, 3), kernel_regularizer=<keras.reg...)`\n",
            "/usr/local/lib/python3.6/dist-packages/ipykernel_launcher.py:38: UserWarning: Update your `Conv2D` call to the Keras 2 API: `Conv2D(10, (1, 1), kernel_regularizer=<keras.reg...)`\n",
            "/usr/local/lib/python3.6/dist-packages/ipykernel_launcher.py:40: UserWarning: Update your `Conv2D` call to the Keras 2 API: `Conv2D(10, (5, 5))`\n"
          ],
          "name": "stderr"
        }
      ]
    },
    {
      "cell_type": "markdown",
      "metadata": {
        "id": "S1olbXm4eKHs",
        "colab_type": "text"
      },
      "source": [
        "### Lets's compile the model with adam optimizer ,loss as cross entropy and accuracy as validation matrix. After compiling the model we are going to train it with training data and let's see how much training accuracy we get after training completion. Here we have used batch size as 128 and total no of epoch 40 to train the model."
      ]
    },
    {
      "cell_type": "code",
      "metadata": {
        "id": "L2IicGJ4x3Be",
        "colab_type": "code",
        "colab": {}
      },
      "source": [
        "from keras.optimizers import Adam\n",
        "from keras.callbacks import LearningRateScheduler\n",
        "from keras.callbacks import ModelCheckpoint\n",
        "\n",
        "def scheduler(epoch, lr):\n",
        "  return round(0.003 * 1/(1 + 0.319 * epoch), 10)\n",
        "\n",
        "model.compile(loss='categorical_crossentropy', optimizer=Adam(lr=0.003), metrics=['accuracy'])\n"
      ],
      "execution_count": 0,
      "outputs": []
    },
    {
      "cell_type": "code",
      "metadata": {
        "id": "QAl0i8F9Iypy",
        "colab_type": "code",
        "outputId": "62753ddd-7218-4b0f-ed0d-58a8a0a30807",
        "colab": {
          "base_uri": "https://localhost:8080/",
          "height": 4131
        }
      },
      "source": [
        "# checkpoint\n",
        "filepath=\"best_model.hdf5\"\n",
        "checkpoint = ModelCheckpoint(filepath, monitor='val_acc', verbose=1, save_best_only=True, mode='max')\n",
        "#callbacks_list = [checkpoint]\n",
        "\n",
        "\n",
        "model.fit(trainX, trainy, batch_size=128, epochs=40, verbose=1, validation_data=(X_test, Y_test), callbacks=[checkpoint,LearningRateScheduler(scheduler, verbose=1)])"
      ],
      "execution_count": 0,
      "outputs": [
        {
          "output_type": "stream",
          "text": [
            "Train on 60000 samples, validate on 10000 samples\n",
            "Epoch 1/40\n",
            "\n",
            "Epoch 00001: LearningRateScheduler setting learning rate to 0.003.\n",
            "60000/60000 [==============================] - 10s 168us/step - loss: 0.3688 - acc: 0.9136 - val_loss: 0.3027 - val_acc: 0.9276\n",
            "\n",
            "Epoch 00001: val_acc improved from -inf to 0.92760, saving model to best_model.hdf5\n",
            "Epoch 2/40\n",
            "\n",
            "Epoch 00002: LearningRateScheduler setting learning rate to 0.0022744503.\n",
            "60000/60000 [==============================] - 7s 121us/step - loss: 0.1399 - acc: 0.9776 - val_loss: 0.1434 - val_acc: 0.9766\n",
            "\n",
            "Epoch 00002: val_acc improved from 0.92760 to 0.97660, saving model to best_model.hdf5\n",
            "Epoch 3/40\n",
            "\n",
            "Epoch 00003: LearningRateScheduler setting learning rate to 0.0018315018.\n",
            "60000/60000 [==============================] - 8s 128us/step - loss: 0.1103 - acc: 0.9817 - val_loss: 0.1179 - val_acc: 0.9769\n",
            "\n",
            "Epoch 00003: val_acc improved from 0.97660 to 0.97690, saving model to best_model.hdf5\n",
            "Epoch 4/40\n",
            "\n",
            "Epoch 00004: LearningRateScheduler setting learning rate to 0.0015329586.\n",
            "60000/60000 [==============================] - 8s 126us/step - loss: 0.0954 - acc: 0.9836 - val_loss: 0.0742 - val_acc: 0.9891\n",
            "\n",
            "Epoch 00004: val_acc improved from 0.97690 to 0.98910, saving model to best_model.hdf5\n",
            "Epoch 5/40\n",
            "\n",
            "Epoch 00005: LearningRateScheduler setting learning rate to 0.0013181019.\n",
            "60000/60000 [==============================] - 7s 120us/step - loss: 0.0841 - acc: 0.9854 - val_loss: 0.0715 - val_acc: 0.9898\n",
            "\n",
            "Epoch 00005: val_acc improved from 0.98910 to 0.98980, saving model to best_model.hdf5\n",
            "Epoch 6/40\n",
            "\n",
            "Epoch 00006: LearningRateScheduler setting learning rate to 0.0011560694.\n",
            "60000/60000 [==============================] - 8s 130us/step - loss: 0.0761 - acc: 0.9861 - val_loss: 0.0727 - val_acc: 0.9881\n",
            "\n",
            "Epoch 00006: val_acc did not improve from 0.98980\n",
            "Epoch 7/40\n",
            "\n",
            "Epoch 00007: LearningRateScheduler setting learning rate to 0.0010295127.\n",
            "60000/60000 [==============================] - 8s 126us/step - loss: 0.0695 - acc: 0.9875 - val_loss: 0.0643 - val_acc: 0.9883\n",
            "\n",
            "Epoch 00007: val_acc did not improve from 0.98980\n",
            "Epoch 8/40\n",
            "\n",
            "Epoch 00008: LearningRateScheduler setting learning rate to 0.0009279307.\n",
            "60000/60000 [==============================] - 7s 120us/step - loss: 0.0655 - acc: 0.9884 - val_loss: 0.0676 - val_acc: 0.9877\n",
            "\n",
            "Epoch 00008: val_acc did not improve from 0.98980\n",
            "Epoch 9/40\n",
            "\n",
            "Epoch 00009: LearningRateScheduler setting learning rate to 0.0008445946.\n",
            "60000/60000 [==============================] - 7s 120us/step - loss: 0.0617 - acc: 0.9891 - val_loss: 0.0506 - val_acc: 0.9925\n",
            "\n",
            "Epoch 00009: val_acc improved from 0.98980 to 0.99250, saving model to best_model.hdf5\n",
            "Epoch 10/40\n",
            "\n",
            "Epoch 00010: LearningRateScheduler setting learning rate to 0.0007749935.\n",
            "60000/60000 [==============================] - 8s 128us/step - loss: 0.0571 - acc: 0.9899 - val_loss: 0.0715 - val_acc: 0.9863\n",
            "\n",
            "Epoch 00010: val_acc did not improve from 0.99250\n",
            "Epoch 11/40\n",
            "\n",
            "Epoch 00011: LearningRateScheduler setting learning rate to 0.0007159905.\n",
            "60000/60000 [==============================] - 8s 125us/step - loss: 0.0543 - acc: 0.9902 - val_loss: 0.0500 - val_acc: 0.9916\n",
            "\n",
            "Epoch 00011: val_acc did not improve from 0.99250\n",
            "Epoch 12/40\n",
            "\n",
            "Epoch 00012: LearningRateScheduler setting learning rate to 0.000665336.\n",
            "60000/60000 [==============================] - 7s 120us/step - loss: 0.0527 - acc: 0.9902 - val_loss: 0.0588 - val_acc: 0.9876\n",
            "\n",
            "Epoch 00012: val_acc did not improve from 0.99250\n",
            "Epoch 13/40\n",
            "\n",
            "Epoch 00013: LearningRateScheduler setting learning rate to 0.0006213753.\n",
            "60000/60000 [==============================] - 7s 120us/step - loss: 0.0512 - acc: 0.9910 - val_loss: 0.0509 - val_acc: 0.9910\n",
            "\n",
            "Epoch 00013: val_acc did not improve from 0.99250\n",
            "Epoch 14/40\n",
            "\n",
            "Epoch 00014: LearningRateScheduler setting learning rate to 0.0005828638.\n",
            "60000/60000 [==============================] - 7s 120us/step - loss: 0.0486 - acc: 0.9909 - val_loss: 0.0415 - val_acc: 0.9931\n",
            "\n",
            "Epoch 00014: val_acc improved from 0.99250 to 0.99310, saving model to best_model.hdf5\n",
            "Epoch 15/40\n",
            "\n",
            "Epoch 00015: LearningRateScheduler setting learning rate to 0.0005488474.\n",
            "60000/60000 [==============================] - 7s 120us/step - loss: 0.0460 - acc: 0.9918 - val_loss: 0.0438 - val_acc: 0.9923\n",
            "\n",
            "Epoch 00015: val_acc did not improve from 0.99310\n",
            "Epoch 16/40\n",
            "\n",
            "Epoch 00016: LearningRateScheduler setting learning rate to 0.0005185825.\n",
            "60000/60000 [==============================] - 7s 121us/step - loss: 0.0450 - acc: 0.9914 - val_loss: 0.0392 - val_acc: 0.9934\n",
            "\n",
            "Epoch 00016: val_acc improved from 0.99310 to 0.99340, saving model to best_model.hdf5\n",
            "Epoch 17/40\n",
            "\n",
            "Epoch 00017: LearningRateScheduler setting learning rate to 0.000491481.\n",
            "60000/60000 [==============================] - 8s 139us/step - loss: 0.0443 - acc: 0.9917 - val_loss: 0.0418 - val_acc: 0.9931\n",
            "\n",
            "Epoch 00017: val_acc did not improve from 0.99340\n",
            "Epoch 18/40\n",
            "\n",
            "Epoch 00018: LearningRateScheduler setting learning rate to 0.0004670715.\n",
            "60000/60000 [==============================] - 8s 130us/step - loss: 0.0428 - acc: 0.9920 - val_loss: 0.0369 - val_acc: 0.9941\n",
            "\n",
            "Epoch 00018: val_acc improved from 0.99340 to 0.99410, saving model to best_model.hdf5\n",
            "Epoch 19/40\n",
            "\n",
            "Epoch 00019: LearningRateScheduler setting learning rate to 0.0004449718.\n",
            "60000/60000 [==============================] - 7s 120us/step - loss: 0.0415 - acc: 0.9927 - val_loss: 0.0375 - val_acc: 0.9940\n",
            "\n",
            "Epoch 00019: val_acc did not improve from 0.99410\n",
            "Epoch 20/40\n",
            "\n",
            "Epoch 00020: LearningRateScheduler setting learning rate to 0.000424869.\n",
            "60000/60000 [==============================] - 7s 120us/step - loss: 0.0406 - acc: 0.9921 - val_loss: 0.0402 - val_acc: 0.9928\n",
            "\n",
            "Epoch 00020: val_acc did not improve from 0.99410\n",
            "Epoch 21/40\n",
            "\n",
            "Epoch 00021: LearningRateScheduler setting learning rate to 0.0004065041.\n",
            "60000/60000 [==============================] - 7s 120us/step - loss: 0.0398 - acc: 0.9923 - val_loss: 0.0403 - val_acc: 0.9928\n",
            "\n",
            "Epoch 00021: val_acc did not improve from 0.99410\n",
            "Epoch 22/40\n",
            "\n",
            "Epoch 00022: LearningRateScheduler setting learning rate to 0.000389661.\n",
            "60000/60000 [==============================] - 7s 120us/step - loss: 0.0381 - acc: 0.9930 - val_loss: 0.0372 - val_acc: 0.9934\n",
            "\n",
            "Epoch 00022: val_acc did not improve from 0.99410\n",
            "Epoch 23/40\n",
            "\n",
            "Epoch 00023: LearningRateScheduler setting learning rate to 0.0003741581.\n",
            "60000/60000 [==============================] - 7s 120us/step - loss: 0.0377 - acc: 0.9929 - val_loss: 0.0361 - val_acc: 0.9926\n",
            "\n",
            "Epoch 00023: val_acc did not improve from 0.99410\n",
            "Epoch 24/40\n",
            "\n",
            "Epoch 00024: LearningRateScheduler setting learning rate to 0.0003598417.\n",
            "60000/60000 [==============================] - 8s 127us/step - loss: 0.0373 - acc: 0.9928 - val_loss: 0.0332 - val_acc: 0.9937\n",
            "\n",
            "Epoch 00024: val_acc did not improve from 0.99410\n",
            "Epoch 25/40\n",
            "\n",
            "Epoch 00025: LearningRateScheduler setting learning rate to 0.0003465804.\n",
            "60000/60000 [==============================] - 8s 138us/step - loss: 0.0359 - acc: 0.9932 - val_loss: 0.0364 - val_acc: 0.9931\n",
            "\n",
            "Epoch 00025: val_acc did not improve from 0.99410\n",
            "Epoch 26/40\n",
            "\n",
            "Epoch 00026: LearningRateScheduler setting learning rate to 0.0003342618.\n",
            "60000/60000 [==============================] - 8s 134us/step - loss: 0.0359 - acc: 0.9935 - val_loss: 0.0337 - val_acc: 0.9940\n",
            "\n",
            "Epoch 00026: val_acc did not improve from 0.99410\n",
            "Epoch 27/40\n",
            "\n",
            "Epoch 00027: LearningRateScheduler setting learning rate to 0.0003227889.\n",
            "60000/60000 [==============================] - 8s 130us/step - loss: 0.0341 - acc: 0.9939 - val_loss: 0.0327 - val_acc: 0.9946\n",
            "\n",
            "Epoch 00027: val_acc improved from 0.99410 to 0.99460, saving model to best_model.hdf5\n",
            "Epoch 28/40\n",
            "\n",
            "Epoch 00028: LearningRateScheduler setting learning rate to 0.0003120774.\n",
            "60000/60000 [==============================] - 8s 130us/step - loss: 0.0330 - acc: 0.9939 - val_loss: 0.0329 - val_acc: 0.9941\n",
            "\n",
            "Epoch 00028: val_acc did not improve from 0.99460\n",
            "Epoch 29/40\n",
            "\n",
            "Epoch 00029: LearningRateScheduler setting learning rate to 0.000302054.\n",
            "60000/60000 [==============================] - 7s 121us/step - loss: 0.0330 - acc: 0.9939 - val_loss: 0.0374 - val_acc: 0.9926\n",
            "\n",
            "Epoch 00029: val_acc did not improve from 0.99460\n",
            "Epoch 30/40\n",
            "\n",
            "Epoch 00030: LearningRateScheduler setting learning rate to 0.0002926544.\n",
            "60000/60000 [==============================] - 7s 120us/step - loss: 0.0328 - acc: 0.9940 - val_loss: 0.0315 - val_acc: 0.9944\n",
            "\n",
            "Epoch 00030: val_acc did not improve from 0.99460\n",
            "Epoch 31/40\n",
            "\n",
            "Epoch 00031: LearningRateScheduler setting learning rate to 0.0002838221.\n",
            "60000/60000 [==============================] - 8s 128us/step - loss: 0.0317 - acc: 0.9944 - val_loss: 0.0349 - val_acc: 0.9938\n",
            "\n",
            "Epoch 00031: val_acc did not improve from 0.99460\n",
            "Epoch 32/40\n",
            "\n",
            "Epoch 00032: LearningRateScheduler setting learning rate to 0.0002755074.\n",
            "60000/60000 [==============================] - 8s 127us/step - loss: 0.0323 - acc: 0.9941 - val_loss: 0.0333 - val_acc: 0.9933\n",
            "\n",
            "Epoch 00032: val_acc did not improve from 0.99460\n",
            "Epoch 33/40\n",
            "\n",
            "Epoch 00033: LearningRateScheduler setting learning rate to 0.000267666.\n",
            "60000/60000 [==============================] - 7s 121us/step - loss: 0.0314 - acc: 0.9943 - val_loss: 0.0290 - val_acc: 0.9951\n",
            "\n",
            "Epoch 00033: val_acc improved from 0.99460 to 0.99510, saving model to best_model.hdf5\n",
            "Epoch 34/40\n",
            "\n",
            "Epoch 00034: LearningRateScheduler setting learning rate to 0.0002602585.\n",
            "60000/60000 [==============================] - 7s 121us/step - loss: 0.0316 - acc: 0.9938 - val_loss: 0.0299 - val_acc: 0.9946\n",
            "\n",
            "Epoch 00034: val_acc did not improve from 0.99510\n",
            "Epoch 35/40\n",
            "\n",
            "Epoch 00035: LearningRateScheduler setting learning rate to 0.00025325.\n",
            "60000/60000 [==============================] - 7s 120us/step - loss: 0.0317 - acc: 0.9941 - val_loss: 0.0338 - val_acc: 0.9936\n",
            "\n",
            "Epoch 00035: val_acc did not improve from 0.99510\n",
            "Epoch 36/40\n",
            "\n",
            "Epoch 00036: LearningRateScheduler setting learning rate to 0.0002466091.\n",
            "60000/60000 [==============================] - 7s 120us/step - loss: 0.0303 - acc: 0.9943 - val_loss: 0.0324 - val_acc: 0.9941\n",
            "\n",
            "Epoch 00036: val_acc did not improve from 0.99510\n",
            "Epoch 37/40\n",
            "\n",
            "Epoch 00037: LearningRateScheduler setting learning rate to 0.0002403076.\n",
            "60000/60000 [==============================] - 7s 120us/step - loss: 0.0293 - acc: 0.9949 - val_loss: 0.0326 - val_acc: 0.9936\n",
            "\n",
            "Epoch 00037: val_acc did not improve from 0.99510\n",
            "Epoch 38/40\n",
            "\n",
            "Epoch 00038: LearningRateScheduler setting learning rate to 0.0002343201.\n",
            "60000/60000 [==============================] - 8s 133us/step - loss: 0.0292 - acc: 0.9946 - val_loss: 0.0355 - val_acc: 0.9936\n",
            "\n",
            "Epoch 00038: val_acc did not improve from 0.99510\n",
            "Epoch 39/40\n",
            "\n",
            "Epoch 00039: LearningRateScheduler setting learning rate to 0.0002286237.\n",
            "60000/60000 [==============================] - 8s 135us/step - loss: 0.0288 - acc: 0.9947 - val_loss: 0.0284 - val_acc: 0.9946\n",
            "\n",
            "Epoch 00039: val_acc did not improve from 0.99510\n",
            "Epoch 40/40\n",
            "\n",
            "Epoch 00040: LearningRateScheduler setting learning rate to 0.0002231977.\n",
            "60000/60000 [==============================] - 7s 121us/step - loss: 0.0286 - acc: 0.9944 - val_loss: 0.0280 - val_acc: 0.9948\n",
            "\n",
            "Epoch 00040: val_acc did not improve from 0.99510\n"
          ],
          "name": "stdout"
        },
        {
          "output_type": "execute_result",
          "data": {
            "text/plain": [
              "<keras.callbacks.History at 0x7fba2825b828>"
            ]
          },
          "metadata": {
            "tags": []
          },
          "execution_count": 25
        }
      ]
    },
    {
      "cell_type": "markdown",
      "metadata": {
        "id": "SV1hwLVofVay",
        "colab_type": "text"
      },
      "source": [
        "### Now Let's load the best model and let's check the validation accuracy:"
      ]
    },
    {
      "cell_type": "code",
      "metadata": {
        "id": "WLxlW9ufyQiO",
        "colab_type": "code",
        "outputId": "5b206879-f8d2-4c24-ada9-1ef131614b3c",
        "colab": {
          "base_uri": "https://localhost:8080/",
          "height": 34
        }
      },
      "source": [
        "model.load_weights('best_model.hdf5')\n",
        "score = model.evaluate(X_test, Y_test, verbose=0)\n",
        "y_pred = model.predict(X_test)\n",
        "print(score)"
      ],
      "execution_count": 0,
      "outputs": [
        {
          "output_type": "stream",
          "text": [
            "[0.02902609195113182, 0.9951]\n"
          ],
          "name": "stdout"
        }
      ]
    },
    {
      "cell_type": "markdown",
      "metadata": {
        "id": "we2v9iMrfgfo",
        "colab_type": "text"
      },
      "source": [
        "### As we can see we have already achieved 99.51% accuracy in validation set. Now lets see the missclassified images and lets find out 25 such images and let's see actually what they look like:"
      ]
    },
    {
      "cell_type": "code",
      "metadata": {
        "id": "HtYmhXKj6ki3",
        "colab_type": "code",
        "outputId": "596b1e37-64e4-4940-feca-ab8f8ad0c4a2",
        "colab": {
          "base_uri": "https://localhost:8080/",
          "height": 866
        }
      },
      "source": [
        "# getting index of all misclasified images\n",
        "img_index = []\n",
        "for i in range(1,X_test.shape[0]):\n",
        "  if np.argmax(y_pred[i])!=y_test[i]:\n",
        "    img_index.append(i)\n",
        "\n",
        "    # function to reconvert image array to an 0-255 scale    \n",
        "def image_reconstract(x):\n",
        "    # normalize tensor: center on 0., ensure std is 0.1\n",
        "    x -= x.mean()\n",
        "    x /= (x.std() + 1e-5)\n",
        "    x *= 0.1\n",
        "\n",
        "    # clip to [0, 1]\n",
        "    x += 0.5\n",
        "    x = np.clip(x, 0, 1)\n",
        "\n",
        "    # convert to RGB array\n",
        "    x *= 255\n",
        "    #x = x.transpose((1, 2, 0))\n",
        "    x = np.clip(x, 0, 255).astype('uint8')\n",
        "    return x\n",
        "\n",
        "# Storing 25 misclassified images into a variable after converting them  into 0-255 scale. Also, storing actual and predicted output values for those images\n",
        "img_actual = [] \n",
        "img_actual_value = []\n",
        "img_pred_value = []\n",
        "for i in range(1,26):\n",
        "    img_req = np.array(X_test[img_index[i-1]]).reshape((28, 28)).astype(np.float64)\n",
        "    img_req = image_reconstract(img_req).reshape((28, 28))\n",
        "    img_actual.append(img_req)\n",
        "    img_actual_value.append(y_test[img_index[i-1]])\n",
        "    img_pred_value.append(np.argmax(y_pred[img_index[i-1]]))\n",
        "\n",
        "# Plotting all 25 images    \n",
        "row = 5\n",
        "col = 5\n",
        "fig=plt.figure(figsize=(15, 15))\n",
        "for i in range(0,row*col):\n",
        "  fig.add_subplot(row,col,i+1)\n",
        "  plt.imshow(img_actual[i],cmap='gray') \n",
        "  plt.title('Actual: '+str(img_actual_value[i])+' & Predicted: '+str(img_pred_value[i]))\n",
        "  plt.xticks([])\n",
        "  plt.yticks([])\n",
        "plt.show() "
      ],
      "execution_count": 0,
      "outputs": [
        {
          "output_type": "display_data",
          "data": {
            "image/png": "[encoded data removed]",
            "text/plain": [
              "<Figure size 1080x1080 with 25 Axes>"
            ]
          },
          "metadata": {
            "tags": []
          }
        }
      ]
    },
    {
      "cell_type": "markdown",
      "metadata": {
        "id": "xuaN9O8zq8vs",
        "colab_type": "text"
      },
      "source": [
        "### So, above cell we can see such 25 images for which our model wrongly classified them. Also, we can see the acutual and predicted values of these 25 images to get some idea of maybe how our model wrongly classified them. We can see that these 25 images though they are actually different but at some extent they look like predicted value. We can even introduce some image augmentation strategy by looking at these images so that out model performs even better."
      ]
    }
  ]
}
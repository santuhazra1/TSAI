{
  "nbformat": 4,
  "nbformat_minor": 0,
  "metadata": {
    "colab": {
      "name": "Assignment_23.ipynb",
      "provenance": [],
      "collapsed_sections": []
    },
    "kernelspec": {
      "name": "python3",
      "display_name": "Python 3"
    },
    "accelerator": "GPU"
  },
  "cells": [
    {
      "cell_type": "markdown",
      "metadata": {
        "id": "zIB-zwXm-425",
        "colab_type": "text"
      },
      "source": [
        "# Assignment 23\n",
        "--------------------------------------------------------------------------------"
      ]
    },
    {
      "cell_type": "markdown",
      "metadata": {
        "id": "Yq5NfTnk-8tP",
        "colab_type": "text"
      },
      "source": [
        "### In this assignment we are going to Align face from a video and detect stabilized landmarks in that video\n",
        "\n"
      ]
    },
    {
      "cell_type": "markdown",
      "metadata": {
        "id": "TGsWzLIYOOBK",
        "colab_type": "text"
      },
      "source": [
        "### Let's first connect to drive to dwonload required data"
      ]
    },
    {
      "cell_type": "code",
      "metadata": {
        "id": "zv1XHE-BLOLB",
        "colab_type": "code",
        "outputId": "822bbcb3-0730-421f-cc21-2db88719dfaa",
        "colab": {
          "base_uri": "https://localhost:8080/",
          "height": 85
        }
      },
      "source": [
        "!pip install -U -q PyDrive\n",
        "!git clone https://gist.github.com/dc7e60aa487430ea704a8cb3f2c5d6a6.git /tmp/colab_util_repo\n",
        "!mv /tmp/colab_util_repo/colab_util.py colab_util.py \n",
        "!rm -r /tmp/colab_util_repo\n",
        "from colab_util import *\n",
        "drive_handler = GoogleDriveHandler()"
      ],
      "execution_count": 1,
      "outputs": [
        {
          "output_type": "stream",
          "text": [
            "Cloning into '/tmp/colab_util_repo'...\n",
            "remote: Enumerating objects: 40, done.\u001b[K\n",
            "Unpacking objects:   2% (1/40)   \rUnpacking objects:   5% (2/40)   \rUnpacking objects:   7% (3/40)   \rUnpacking objects:  10% (4/40)   \rUnpacking objects:  12% (5/40)   \rUnpacking objects:  15% (6/40)   \rUnpacking objects:  17% (7/40)   \rUnpacking objects:  20% (8/40)   \rUnpacking objects:  22% (9/40)   \rUnpacking objects:  25% (10/40)   \rUnpacking objects:  27% (11/40)   \rUnpacking objects:  30% (12/40)   \rUnpacking objects:  32% (13/40)   \rUnpacking objects:  35% (14/40)   \rUnpacking objects:  37% (15/40)   \rUnpacking objects:  40% (16/40)   \rUnpacking objects:  42% (17/40)   \rUnpacking objects:  45% (18/40)   \rremote: Total 40 (delta 0), reused 0 (delta 0), pack-reused 40\u001b[K\n",
            "Unpacking objects:  47% (19/40)   \rUnpacking objects:  50% (20/40)   \rUnpacking objects:  52% (21/40)   \rUnpacking objects:  55% (22/40)   \rUnpacking objects:  57% (23/40)   \rUnpacking objects:  60% (24/40)   \rUnpacking objects:  62% (25/40)   \rUnpacking objects:  65% (26/40)   \rUnpacking objects:  67% (27/40)   \rUnpacking objects:  70% (28/40)   \rUnpacking objects:  72% (29/40)   \rUnpacking objects:  75% (30/40)   \rUnpacking objects:  77% (31/40)   \rUnpacking objects:  80% (32/40)   \rUnpacking objects:  82% (33/40)   \rUnpacking objects:  85% (34/40)   \rUnpacking objects:  87% (35/40)   \rUnpacking objects:  90% (36/40)   \rUnpacking objects:  92% (37/40)   \rUnpacking objects:  95% (38/40)   \rUnpacking objects:  97% (39/40)   \rUnpacking objects: 100% (40/40)   \rUnpacking objects: 100% (40/40), done.\n"
          ],
          "name": "stdout"
        }
      ]
    },
    {
      "cell_type": "code",
      "metadata": {
        "id": "hCHpDvlPLQzA",
        "colab_type": "code",
        "colab": {}
      },
      "source": [
        "from google.colab import drive\n",
        "import cv2\n",
        "import glob\n",
        "from skimage import io\n",
        "%matplotlib inline\n",
        "from matplotlib import pyplot as plt\n",
        "import numpy as np\n",
        "import os\n",
        "import dlib"
      ],
      "execution_count": 0,
      "outputs": []
    },
    {
      "cell_type": "code",
      "metadata": {
        "id": "PomCIKjvLTgA",
        "colab_type": "code",
        "colab": {}
      },
      "source": [
        "def Download_files_from_Drive(FileName,DriveFilepath):\n",
        "  drive_handler.download(FileName, target_path=DriveFilepath)\n",
        "\n",
        "def Upload_files_to_Drive(FileName,TargetDrivePath):\n",
        "  drive_handler.upload(FileName, parent_path=TargetDrivePath)\n"
      ],
      "execution_count": 0,
      "outputs": []
    },
    {
      "cell_type": "code",
      "metadata": {
        "id": "P1pxb5pYLeeI",
        "colab_type": "code",
        "colab": {}
      },
      "source": [
        "Download_files_from_Drive('shape_predictor_68_face_landmarks.dat','EVA_Phase_1/Session_26/shape_predictor_68_face_landmarks.dat')\n",
        "Download_files_from_Drive('shape_predictor_5_face_landmarks.dat','EVA_Phase_1/Session_26/shape_predictor_5_face_landmarks.dat')\n",
        "Download_files_from_Drive('faceBlendCommon.py','EVA_Phase_1/Session_26/faceBlendCommon.py')"
      ],
      "execution_count": 0,
      "outputs": []
    },
    {
      "cell_type": "code",
      "metadata": {
        "id": "usUA-O9H2l1B",
        "colab_type": "code",
        "colab": {}
      },
      "source": [
        "Download_files_from_Drive('VID_2.mp4','EVA_Phase_1/Session_26/VID_2.mp4')"
      ],
      "execution_count": 0,
      "outputs": []
    },
    {
      "cell_type": "code",
      "metadata": {
        "id": "0-_SZKbZN7GZ",
        "colab_type": "code",
        "colab": {}
      },
      "source": [
        "import cv2, dlib\n",
        "import numpy as np\n",
        "import math, sys\n",
        "import faceBlendCommon as fbc\n",
        "from google.colab.patches import cv2_imshow\n",
        "import matplotlib.pyplot as plt\n",
        "%matplotlib inline"
      ],
      "execution_count": 0,
      "outputs": []
    },
    {
      "cell_type": "code",
      "metadata": {
        "id": "q-FazxiAMWe1",
        "colab_type": "code",
        "colab": {}
      },
      "source": [
        "import matplotlib\n",
        "matplotlib.rcParams['figure.figsize'] = (6.0,6.0)\n",
        "matplotlib.rcParams['image.cmap'] = 'gray'"
      ],
      "execution_count": 0,
      "outputs": []
    },
    {
      "cell_type": "code",
      "metadata": {
        "id": "wWxgLNtDMX8E",
        "colab_type": "code",
        "colab": {}
      },
      "source": [
        "PREDICTOR_PATH = \"shape_predictor_68_face_landmarks.dat\"\n",
        "RESIZE_HEIGHT = 480\n",
        "NUM_FRAMES_FOR_FPS = 100\n",
        "SKIP_FRAMES = 1"
      ],
      "execution_count": 0,
      "outputs": []
    },
    {
      "cell_type": "code",
      "metadata": {
        "id": "TIRKPrcsMb2t",
        "colab_type": "code",
        "colab": {}
      },
      "source": [
        "# Function to calculate the intereye distance.\n",
        "def interEyeDistance(predict):\n",
        "  leftEyeLeftCorner = (predict[36].x, predict[36].y)\n",
        "  rightEyeRightCorner = (predict[45].x, predict[45].y)\n",
        "  distance = cv2.norm(np.array(rightEyeRightCorner) - np.array(leftEyeLeftCorner))\n",
        "  distance = int(distance)\n",
        "  return distance"
      ],
      "execution_count": 0,
      "outputs": []
    },
    {
      "cell_type": "code",
      "metadata": {
        "id": "4Kr6TD3TMfwz",
        "colab_type": "code",
        "colab": {}
      },
      "source": [
        "winName = \"Stabilized facial landmark detector\""
      ],
      "execution_count": 0,
      "outputs": []
    },
    {
      "cell_type": "code",
      "metadata": {
        "id": "dPrc3WmiMiWy",
        "colab_type": "code",
        "colab": {}
      },
      "source": [
        "videoFileName = \"VID_2.mp4\"\n",
        "\n",
        "# Initializing video capture object.\n",
        "cap = cv2.VideoCapture(videoFileName)\n",
        "\n",
        "if(cap.isOpened()==False):\n",
        "  print(\"Unable to load video\")"
      ],
      "execution_count": 0,
      "outputs": []
    },
    {
      "cell_type": "code",
      "metadata": {
        "id": "XOTUH02fMo3v",
        "colab_type": "code",
        "colab": {}
      },
      "source": [
        "winSize = 101\n",
        "maxLevel = 10\n",
        "fps = 30.0\n",
        "# Grab a frame\n",
        "ret,imPrev = cap.read()"
      ],
      "execution_count": 0,
      "outputs": []
    },
    {
      "cell_type": "code",
      "metadata": {
        "id": "uOqBiHABMsix",
        "colab_type": "code",
        "outputId": "b5232394-e42a-4830-a76f-6de0460610cf",
        "colab": {
          "base_uri": "https://localhost:8080/",
          "height": 34
        }
      },
      "source": [
        "# Finding the size of the image.\n",
        "size = imPrev.shape\n",
        "print(size)"
      ],
      "execution_count": 13,
      "outputs": [
        {
          "output_type": "stream",
          "text": [
            "(1080, 1920, 3)\n"
          ],
          "name": "stdout"
        }
      ]
    },
    {
      "cell_type": "code",
      "metadata": {
        "id": "4Zp_UhyXM0cq",
        "colab_type": "code",
        "colab": {
          "base_uri": "https://localhost:8080/",
          "height": 395
        },
        "outputId": "6ee6f843-4452-466e-b0ca-02a7da6b6173"
      },
      "source": [
        "imPrev = cv2.rotate(imPrev, cv2.ROTATE_90_COUNTERCLOCKWISE)\n",
        "imPrev = cv2.resize(imPrev, (640,1080), interpolation=cv2.INTER_CUBIC)\n",
        "imPrev = cv2.cvtColor(imPrev, cv2.COLOR_BGR2RGB)\n",
        "plt.imshow(np.asarray(imPrev))"
      ],
      "execution_count": 14,
      "outputs": [
        {
          "output_type": "execute_result",
          "data": {
            "text/plain": [
              "<matplotlib.image.AxesImage at 0x7efc03a59b00>"
            ]
          },
          "metadata": {
            "tags": []
          },
          "execution_count": 14
        },
        {
          "output_type": "display_data",
          "data": {
            "image/png": "[encoded data removed]",
            "text/plain": [
              "<Figure size 432x432 with 1 Axes>"
            ]
          },
          "metadata": {
            "tags": []
          }
        }
      ]
    },
    {
      "cell_type": "code",
      "metadata": {
        "id": "AnAagsAAThWL",
        "colab_type": "code",
        "colab": {}
      },
      "source": [
        "detector = dlib.get_frontal_face_detector()\n",
        "landmarkDetector = dlib.shape_predictor(PREDICTOR_PATH)"
      ],
      "execution_count": 0,
      "outputs": []
    },
    {
      "cell_type": "code",
      "metadata": {
        "id": "4j1y7OzfWb2H",
        "colab_type": "code",
        "colab": {}
      },
      "source": [
        "def get_68_pt_detector(frame, fd= detector, lmd=landmarkDetector):\n",
        "\t\tpoints_68 = fbc.getLandmarks(landmarkDetector= lmd, faceDetector=fd, im=frame)\n",
        "\t\treturn np.array(points_68)\n",
        "  \n",
        "def drow_circle_points(img, pointsOut):\n",
        "\t\timgs  = np.copy(img)\n",
        "\t\tfor (x, y) in pointsOut:\n",
        "\t\t\t\timgs = cv2.circle(imgs, (x, y), 2, (0, 255, 0), -1)\n",
        "\t\treturn imgs  "
      ],
      "execution_count": 0,
      "outputs": []
    },
    {
      "cell_type": "code",
      "metadata": {
        "id": "MsWzZOrWTmvD",
        "colab_type": "code",
        "colab": {}
      },
      "source": [
        "# Initializing the parameters\n",
        "points=[]\n",
        "pointsPrev=[]\n",
        "pointsDetectedCur=[]\n",
        "pointsDetectedPrev=[]"
      ],
      "execution_count": 0,
      "outputs": []
    },
    {
      "cell_type": "code",
      "metadata": {
        "id": "Ndakde7wTrWR",
        "colab_type": "code",
        "colab": {}
      },
      "source": [
        "eyeDistanceNotCalculated = True\n",
        "eyeDistance = 0\n",
        "isFirstFrame = True\n",
        "# Initial value, actual value calculated after 100 frames\n",
        "fps = 10\n",
        "showStabilized = False\n",
        "count =0"
      ],
      "execution_count": 0,
      "outputs": []
    },
    {
      "cell_type": "code",
      "metadata": {
        "id": "X72BTNcMTtaY",
        "colab_type": "code",
        "colab": {}
      },
      "source": [
        "fourcc = cv2.VideoWriter_fourcc(*'XVID')\n",
        "out = cv2.VideoWriter('./stabilize_vdo_v2.avi', fourcc, 15.0, (640,480))\n",
        "h = 600\n",
        "w = 400"
      ],
      "execution_count": 0,
      "outputs": []
    },
    {
      "cell_type": "code",
      "metadata": {
        "id": "ohzK1HcqiGEg",
        "colab_type": "code",
        "outputId": "ed9f26eb-5069-4ad6-e64c-85cce074a32a",
        "colab": {
          "base_uri": "https://localhost:8080/",
          "height": 34
        }
      },
      "source": [
        "cap.isOpened()"
      ],
      "execution_count": 0,
      "outputs": [
        {
          "output_type": "execute_result",
          "data": {
            "text/plain": [
              "True"
            ]
          },
          "metadata": {
            "tags": []
          },
          "execution_count": 23
        }
      ]
    },
    {
      "cell_type": "code",
      "metadata": {
        "id": "CUSjjaRDmESd",
        "colab_type": "code",
        "colab": {
          "base_uri": "https://localhost:8080/",
          "height": 1000
        },
        "outputId": "20c07830-d574-4552-a54c-cfd2d5c34fdc"
      },
      "source": [
        "while(cap.isOpened()):\n",
        "    if (count==0):\n",
        "        t=cv2.getTickCount()\n",
        "\n",
        "    #Grabaframe\n",
        "    ret,im=cap.read()\n",
        "\n",
        "    if ret==True:\n",
        "        im = cv2.rotate(im, cv2.ROTATE_90_COUNTERCLOCKWISE)\n",
        "        points = get_68_pt_detector(frame=im)\n",
        "        if len(points)==5 or len(points)==68:\n",
        "            imNorm, points = fbc.normalizeImagesAndLandmarks((h, w), np.float32(im)/255.0, points)\n",
        "            imNorm = np.uint8(imNorm*255)\n",
        "            kk = drow_circle_points(imNorm, points)\n",
        "            cam = np.copy(im)\n",
        "            im = np.copy(imNorm)\n",
        "        imDlib = cv2.cvtColor(im, cv2.COLOR_BGR2RGB)\n",
        "        print(ret)\n",
        "        # COnverting to grayscale\n",
        "        imGray = cv2.cvtColor(im, cv2.COLOR_BGR2GRAY)\n",
        "        height = im.shape[0]\n",
        "        IMAGE_RESIZE = float(height)/RESIZE_HEIGHT\n",
        "        # Resize image for faster face detection\n",
        "        imSmall = cv2.resize(im, None, fx=1.0/IMAGE_RESIZE, fy=1.0/IMAGE_RESIZE,interpolation = cv2.INTER_LINEAR)\n",
        "        imSmallDlib = cv2.cvtColor(imSmall, cv2.COLOR_BGR2RGB)\n",
        "        # Skipping the frames for faster processing\n",
        "        if (count % SKIP_FRAMES == 0):\n",
        "            faces = detector(imSmallDlib,0)\n",
        "        # If no face was detected\n",
        "        \n",
        "        if len(faces)==0:\n",
        "            print(\"No face detected\")\n",
        "        # If faces are detected, iterate through each image and detect landmark points\n",
        "        else:\n",
        "            print(\"Face detected\")\n",
        "            for i in range(0,len(faces)):\n",
        "    #       print(\"face detected\")\n",
        "                # Face detector was found over a smaller image.\n",
        "                # So, we scale face rectangle to correct size.\n",
        "                newRect = dlib.rectangle(int(faces[i].left() * IMAGE_RESIZE),\n",
        "                    int(faces[i].top() * IMAGE_RESIZE),\n",
        "                    int(faces[i].right() * IMAGE_RESIZE),\n",
        "                    int(faces[i].bottom() * IMAGE_RESIZE))\n",
        "\n",
        "                # Detect landmarks in current frame\n",
        "                landmarks = landmarkDetector(imDlib, newRect).parts()\n",
        "\n",
        "                # Handling the first frame of video differently,for the first frame copy the current frame points\n",
        "                \n",
        "                if (isFirstFrame==True):\n",
        "                    pointsPrev=[]\n",
        "                    pointsDetectedPrev = []\n",
        "                    [pointsPrev.append((p.x, p.y)) for p in landmarks]\n",
        "                    [pointsDetectedPrev.append((p.x, p.y)) for p in landmarks]\n",
        "\n",
        "                # If not the first frame, copy points from previous frame.\n",
        "                \n",
        "                else:\n",
        "                    pointsPrev=[]\n",
        "                    pointsDetectedPrev = []\n",
        "                    pointsPrev = points\n",
        "                    pointsDetectedPrev = pointsDetectedCur\n",
        "\n",
        "                # pointsDetectedCur stores results returned by the facial landmark detector\n",
        "                # points stores the stabilized landmark points\n",
        "                points = []\n",
        "                pointsDetectedCur = []\n",
        "                [points.append((p.x, p.y)) for p in landmarks]\n",
        "                [pointsDetectedCur.append((p.x, p.y)) for p in landmarks]\n",
        "\n",
        "                # Convert to numpy float array\n",
        "                pointsArr = np.array(points,np.float32)\n",
        "                pointsPrevArr = np.array(pointsPrev,np.float32)\n",
        "\n",
        "                # If eye distance is not calculated before\n",
        "                if eyeDistanceNotCalculated:\n",
        "                    eyeDistance = interEyeDistance(landmarks)\n",
        "    #         print(eyeDistance)\n",
        "                    eyeDistanceNotCalculated = False\n",
        "                \n",
        "                if eyeDistance > 100:\n",
        "                    dotRadius = 3\n",
        "                else:\n",
        "                    dotRadius = 2\n",
        "\n",
        "    #       print(eyeDistance)\n",
        "                sigma = eyeDistance * eyeDistance / 400\n",
        "                s = 2*int(eyeDistance/4)+1\n",
        "\n",
        "                #  Set up optical flow params\n",
        "                lk_params = dict(winSize  = (s, s), maxLevel = 5, criteria = (cv2.TERM_CRITERIA_COUNT | cv2.TERM_CRITERIA_EPS, 20, 0.03))\n",
        "                # Python Bug. Calculating pyramids and then calculating optical flow results in an error. So directly images are used.\n",
        "    #       ret, imGrayPrev= cv2.buildOpticalFlowPyramid(imGray, (winSize,winSize), maxLevel)\n",
        "    #       print(imDlib.shape,imGray.shape)\n",
        "                pointsArr,status, err = cv2.calcOpticalFlowPyrLK(im,imDlib,pointsPrevArr,pointsArr,**lk_params)\n",
        "\n",
        "\n",
        "                # Converting to float\n",
        "                pointsArrFloat = np.array(pointsArr,np.float32)\n",
        "\n",
        "                # Converting back to list\n",
        "                points = pointsArrFloat.tolist()\n",
        "\n",
        "                # Final landmark points are a weighted average of\n",
        "                # detected landmarks and tracked landmarks\n",
        "                for k in range(0,len(landmarks)):\n",
        "                    d = cv2.norm(np.array(pointsDetectedPrev[k]) - np.array(pointsDetectedCur[k]))\n",
        "                    alpha = math.exp(-d*d/sigma)\n",
        "                    points[k] = (1 - alpha) * np.array(pointsDetectedCur[k]) + alpha * np.array(points[k])\n",
        "\n",
        "                # Drawing over the stabilized landmark points\n",
        "                if showStabilized is True:\n",
        "                    for p in points:\n",
        "                        cv2.circle(im,(int(p[0]),int(p[1])),dotRadius, (255,0,0),-1)\n",
        "                else:\n",
        "                    for p in pointsDetectedCur:\n",
        "                        cv2.circle(im,(int(p[0]),int(p[1])),dotRadius, (0,0,255),-1)\n",
        "                        \n",
        "                isFirstFrame = False\n",
        "                count = count+1\n",
        "\n",
        "                # Calculating the fps value\n",
        "                if ( count == NUM_FRAMES_FOR_FPS):\n",
        "                    t = (cv2.getTickCount()-t)/cv2.getTickFrequency()\n",
        "                    fps = NUM_FRAMES_FOR_FPS/t\n",
        "                    count = 0\n",
        "                    isFirstFrame = True\n",
        "\n",
        "                # Display the landmarks points\n",
        "                cv2.putText(im, \"{:.1f}-fps Stabilization\".format(fps), (50, size[0]-50), cv2.FONT_HERSHEY_COMPLEX, 0.8, (0, 0, 255), 3,cv2.LINE_AA)\n",
        "                cv2.putText(kk, \"Without Stabilization\", (50, size[0]-50), cv2.FONT_HERSHEY_COMPLEX, 0.9, (0, 255, 0), 3,cv2.LINE_AA)\n",
        "                cv2.putText(cam, \"   Original\", (50, size[0]-50), cv2.FONT_HERSHEY_COMPLEX, 1.5, (255, 255, 255), 3,cv2.LINE_AA)\n",
        "            #   cv2.imshow(winName, im)\n",
        "                cam = cv2.resize(cam, (400,600))\n",
        "    #             print(cam.shape)\n",
        "                im = np.concatenate([cam, kk,im], axis=1)\n",
        "                final_out = cv2.resize(im, (640, 480))\n",
        "                #cv2_imshow(final_out)\n",
        "                out.write(final_out)\n",
        "            #   frame = cv2.flip(frame,0)\n",
        "            # write the flipped frame\n",
        "                # if frame.shape == (480, 640, 3) and final_out.shape == (480, 640, 3):\n",
        "                # \tout.write(final_out)\n",
        "                if cv2.waitKey(1) & 0xFF == ord('q'):\n",
        "                    showStabilized = not showStabilized\n",
        "                imPrev = im\n",
        "                imGrayPrev = imGray\n",
        "                # Use spacebar to toggle between Stabilized and Unstabilized version.\n",
        "\n",
        "                # Stop the program.\n",
        "        if cv2.waitKey(1) & 0xFF == ord(' '):\n",
        "            break\n",
        "                # Getting ready for next frame\n",
        "    else:\n",
        "        cap.release()\n",
        "        out.release()\n",
        "        # cv2.destroyAllwindows()\n",
        "\t\t\t\t\t\t\n"
      ],
      "execution_count": 45,
      "outputs": [
        {
          "output_type": "stream",
          "text": [
            "True\n",
            "Face detected\n",
            "True\n",
            "Face detected\n",
            "True\n",
            "Face detected\n",
            "True\n",
            "Face detected\n",
            "True\n",
            "Face detected\n",
            "True\n",
            "Face detected\n",
            "True\n",
            "Face detected\n",
            "True\n",
            "Face detected\n",
            "True\n",
            "Face detected\n",
            "True\n",
            "Face detected\n",
            "True\n",
            "Face detected\n",
            "True\n",
            "Face detected\n",
            "True\n",
            "Face detected\n",
            "True\n",
            "Face detected\n",
            "True\n",
            "Face detected\n",
            "True\n",
            "Face detected\n",
            "True\n",
            "Face detected\n",
            "True\n",
            "Face detected\n",
            "True\n",
            "Face detected\n",
            "True\n",
            "Face detected\n",
            "True\n",
            "Face detected\n",
            "True\n",
            "Face detected\n",
            "True\n",
            "Face detected\n",
            "True\n",
            "Face detected\n",
            "True\n",
            "Face detected\n",
            "True\n",
            "Face detected\n",
            "True\n",
            "Face detected\n",
            "True\n",
            "Face detected\n",
            "True\n",
            "Face detected\n",
            "True\n",
            "Face detected\n",
            "True\n",
            "Face detected\n",
            "True\n",
            "Face detected\n",
            "True\n",
            "Face detected\n",
            "True\n",
            "Face detected\n",
            "True\n",
            "Face detected\n",
            "True\n",
            "Face detected\n",
            "True\n",
            "Face detected\n",
            "True\n",
            "Face detected\n",
            "True\n",
            "Face detected\n",
            "True\n",
            "Face detected\n",
            "True\n",
            "Face detected\n",
            "True\n",
            "Face detected\n",
            "True\n",
            "Face detected\n",
            "True\n",
            "Face detected\n",
            "True\n",
            "Face detected\n",
            "True\n",
            "Face detected\n",
            "True\n",
            "Face detected\n",
            "True\n",
            "Face detected\n",
            "True\n",
            "Face detected\n",
            "True\n",
            "Face detected\n",
            "True\n",
            "Face detected\n",
            "True\n",
            "Face detected\n",
            "True\n",
            "Face detected\n",
            "True\n",
            "Face detected\n",
            "True\n",
            "Face detected\n",
            "True\n",
            "Face detected\n",
            "True\n",
            "Face detected\n",
            "True\n",
            "Face detected\n",
            "True\n",
            "Face detected\n",
            "True\n",
            "Face detected\n",
            "True\n",
            "Face detected\n",
            "True\n",
            "Face detected\n",
            "True\n",
            "Face detected\n",
            "True\n",
            "Face detected\n",
            "True\n",
            "Face detected\n",
            "True\n",
            "Face detected\n",
            "True\n",
            "Face detected\n",
            "True\n",
            "Face detected\n",
            "True\n",
            "Face detected\n",
            "True\n",
            "Face detected\n",
            "True\n",
            "Face detected\n",
            "True\n",
            "Face detected\n",
            "True\n",
            "Face detected\n",
            "True\n",
            "Face detected\n",
            "True\n",
            "Face detected\n",
            "True\n",
            "Face detected\n",
            "True\n",
            "Face detected\n",
            "True\n",
            "Face detected\n",
            "True\n",
            "Face detected\n",
            "True\n",
            "Face detected\n",
            "True\n",
            "Face detected\n",
            "True\n",
            "Face detected\n",
            "True\n",
            "Face detected\n",
            "True\n",
            "Face detected\n",
            "True\n",
            "Face detected\n",
            "True\n",
            "Face detected\n",
            "True\n",
            "Face detected\n",
            "True\n",
            "Face detected\n",
            "True\n",
            "Face detected\n",
            "True\n",
            "Face detected\n",
            "True\n",
            "Face detected\n",
            "True\n",
            "Face detected\n",
            "True\n",
            "Face detected\n",
            "True\n",
            "Face detected\n",
            "True\n",
            "Face detected\n",
            "True\n",
            "Face detected\n",
            "True\n",
            "Face detected\n",
            "True\n",
            "Face detected\n",
            "True\n",
            "Face detected\n",
            "True\n",
            "Face detected\n",
            "True\n",
            "Face detected\n",
            "True\n",
            "Face detected\n",
            "True\n",
            "Face detected\n",
            "True\n",
            "Face detected\n",
            "True\n",
            "Face detected\n",
            "True\n",
            "Face detected\n",
            "True\n",
            "Face detected\n",
            "True\n",
            "Face detected\n",
            "True\n",
            "Face detected\n",
            "True\n",
            "Face detected\n",
            "True\n",
            "Face detected\n",
            "True\n",
            "Face detected\n",
            "True\n",
            "Face detected\n",
            "True\n",
            "Face detected\n",
            "True\n",
            "Face detected\n",
            "True\n",
            "Face detected\n",
            "True\n",
            "Face detected\n",
            "True\n",
            "Face detected\n",
            "True\n",
            "Face detected\n",
            "True\n",
            "Face detected\n",
            "True\n",
            "Face detected\n",
            "True\n",
            "Face detected\n",
            "True\n",
            "Face detected\n",
            "True\n",
            "Face detected\n",
            "True\n",
            "Face detected\n",
            "True\n",
            "Face detected\n",
            "True\n",
            "Face detected\n",
            "True\n",
            "Face detected\n",
            "True\n",
            "Face detected\n",
            "True\n",
            "Face detected\n",
            "True\n",
            "Face detected\n",
            "True\n",
            "Face detected\n",
            "True\n",
            "Face detected\n",
            "True\n",
            "Face detected\n",
            "True\n",
            "Face detected\n",
            "True\n",
            "Face detected\n",
            "True\n",
            "Face detected\n",
            "True\n",
            "Face detected\n",
            "True\n",
            "Face detected\n",
            "True\n",
            "Face detected\n",
            "True\n",
            "Face detected\n",
            "True\n",
            "Face detected\n",
            "True\n",
            "Face detected\n",
            "True\n",
            "Face detected\n",
            "True\n",
            "Face detected\n",
            "True\n",
            "Face detected\n",
            "True\n",
            "Face detected\n",
            "True\n",
            "Face detected\n",
            "True\n",
            "Face detected\n",
            "True\n",
            "Face detected\n",
            "True\n",
            "Face detected\n",
            "True\n",
            "Face detected\n",
            "True\n",
            "Face detected\n",
            "True\n",
            "Face detected\n",
            "True\n",
            "Face detected\n",
            "True\n",
            "Face detected\n",
            "True\n",
            "Face detected\n",
            "True\n",
            "Face detected\n",
            "True\n",
            "Face detected\n",
            "True\n",
            "Face detected\n",
            "True\n",
            "Face detected\n"
          ],
          "name": "stdout"
        }
      ]
    },
    {
      "cell_type": "code",
      "metadata": {
        "id": "J-jAJj-mmBr2",
        "colab_type": "code",
        "colab": {}
      },
      "source": [
        "# cap.release()\n",
        "# out.release()\n",
        "#cv2.destroyAllwindows()"
      ],
      "execution_count": 0,
      "outputs": []
    }
  ]
}
{
  "nbformat": 4,
  "nbformat_minor": 0,
  "metadata": {
    "accelerator": "GPU",
    "colab": {
      "name": "Assignment_14.ipynb",
      "version": "0.3.2",
      "provenance": [],
      "collapsed_sections": []
    },
    "kernelspec": {
      "display_name": "Python 3",
      "language": "python",
      "name": "python3"
    },
    "language_info": {
      "codemirror_mode": {
        "name": "ipython",
        "version": 3
      },
      "file_extension": ".py",
      "mimetype": "text/x-python",
      "name": "python",
      "nbconvert_exporter": "python",
      "pygments_lexer": "ipython3",
      "version": "3.5.2"
    }
  },
  "cells": [
    {
      "cell_type": "markdown",
      "metadata": {
        "colab_type": "text",
        "id": "XuCXoD3TNvB5"
      },
      "source": [
        "# Assignment 14\n",
        "### Group:Hardesh, Jyoti, Narahari and Santu (alphabetize)"
      ]
    },
    {
      "cell_type": "markdown",
      "metadata": {
        "id": "W3yAZkfqgQ5s",
        "colab_type": "text"
      },
      "source": [
        "## Tesla V100 "
      ]
    },
    {
      "cell_type": "code",
      "metadata": {
        "id": "37maj7VZgJ8z",
        "colab_type": "code",
        "outputId": "f50bb4c8-73a1-4567-83f7-ec2435f5cd23",
        "colab": {}
      },
      "source": [
        "!nvidia-smi"
      ],
      "execution_count": 0,
      "outputs": [
        {
          "output_type": "stream",
          "text": [
            "Mon Aug 26 18:50:45 2019       \r\n",
            "+-----------------------------------------------------------------------------+\r\n",
            "| NVIDIA-SMI 418.67       Driver Version: 418.67       CUDA Version: 10.1     |\r\n",
            "|-------------------------------+----------------------+----------------------+\r\n",
            "| GPU  Name        Persistence-M| Bus-Id        Disp.A | Volatile Uncorr. ECC |\r\n",
            "| Fan  Temp  Perf  Pwr:Usage/Cap|         Memory-Usage | GPU-Util  Compute M. |\r\n",
            "|===============================+======================+======================|\r\n",
            "|   0  Tesla V100-SXM2...  Off  | 00000000:00:04.0 Off |                    0 |\r\n",
            "| N/A   32C    P0    23W / 300W |     80MiB / 16130MiB |      0%      Default |\r\n",
            "+-------------------------------+----------------------+----------------------+\r\n",
            "                                                                               \r\n",
            "+-----------------------------------------------------------------------------+\r\n",
            "| Processes:                                                       GPU Memory |\r\n",
            "|  GPU       PID   Type   Process name                             Usage      |\r\n",
            "|=============================================================================|\r\n",
            "|    0      2108      G   /usr/lib/xorg/Xorg                            80MiB |\r\n",
            "+-----------------------------------------------------------------------------+\r\n"
          ],
          "name": "stdout"
        }
      ]
    },
    {
      "cell_type": "markdown",
      "metadata": {
        "id": "jg4zJwoIgZKo",
        "colab_type": "text"
      },
      "source": [
        "## Importing libraries and modules"
      ]
    },
    {
      "cell_type": "code",
      "metadata": {
        "colab_type": "code",
        "id": "kOsYqWHvQBrZ",
        "outputId": "2d9eddab-cb97-4946-971d-a8336d44f948",
        "colab": {
          "base_uri": "https://localhost:8080/",
          "height": 124
        }
      },
      "source": [
        "import numpy as np\n",
        "import time, math\n",
        "from tqdm import tqdm_notebook as tqdm\n",
        "\n",
        "import tensorflow as tf\n",
        "import tensorflow.contrib.eager as tfe\n",
        "import matplotlib.pyplot as plt\n",
        "!git clone https://github.com/santuhazra1/Imp_Lib.git /tmp/Imp_Lib\n",
        "!mv /tmp/Imp_Lib/Auto_Augment/auto_augment.py auto_augment.py \n",
        "!rm -r /tmp/Imp_Lib\n",
        "from auto_augment import AutoAugment"
      ],
      "execution_count": 0,
      "outputs": [
        {
          "output_type": "stream",
          "text": [
            "Cloning into '/tmp/Imp_Lib'...\n",
            "remote: Enumerating objects: 16, done.\u001b[K\n",
            "remote: Counting objects: 100% (16/16), done.\u001b[K\n",
            "remote: Compressing objects: 100% (8/8), done.\u001b[K\n",
            "remote: Total 16 (delta 3), reused 0 (delta 0), pack-reused 0\u001b[K\n",
            "Unpacking objects: 100% (16/16), done.\n",
            "Checking connectivity... done.\n"
          ],
          "name": "stdout"
        }
      ]
    },
    {
      "cell_type": "markdown",
      "metadata": {
        "id": "1-4BuD7yg5Fe",
        "colab_type": "text"
      },
      "source": [
        "## Enabling eager so that operations should be executed as they are defined"
      ]
    },
    {
      "cell_type": "code",
      "metadata": {
        "colab_type": "code",
        "id": "KcVY1UhnQPDO",
        "colab": {}
      },
      "source": [
        "tf.enable_eager_execution()"
      ],
      "execution_count": 0,
      "outputs": []
    },
    {
      "cell_type": "markdown",
      "metadata": {
        "id": "k2_K59HWhImn",
        "colab_type": "text"
      },
      "source": [
        "## Parameters"
      ]
    },
    {
      "cell_type": "code",
      "metadata": {
        "colab_type": "code",
        "id": "4LfLeMAyQU7z",
        "colab": {}
      },
      "source": [
        "MOMENTUM = 0.9 #@param {type:\"number\"}\n",
        "WEIGHT_DECAY = 5e-4 #@param {type:\"number\"}"
      ],
      "execution_count": 0,
      "outputs": []
    },
    {
      "cell_type": "code",
      "metadata": {
        "colab_type": "code",
        "id": "AwS9BRv_QWR0",
        "colab": {}
      },
      "source": [
        "def init_pytorch(shape, dtype=tf.float16, partition_info=None):\n",
        "  fan = np.prod(shape[:-1])\n",
        "  bound = 1 / math.sqrt(fan)\n",
        "  return tf.random.uniform(shape, minval=-bound, maxval=bound, dtype=dtype)"
      ],
      "execution_count": 0,
      "outputs": []
    },
    {
      "cell_type": "markdown",
      "metadata": {
        "id": "9Dxkmog6hXw7",
        "colab_type": "text"
      },
      "source": [
        "## Model layers"
      ]
    },
    {
      "cell_type": "code",
      "metadata": {
        "colab_type": "code",
        "id": "gQdPrpJ8QXvy",
        "colab": {}
      },
      "source": [
        "class ConvBN(tf.keras.Model):\n",
        "  def __init__(self, c_out):\n",
        "    super().__init__()\n",
        "    self.conv = tf.keras.layers.Conv2D(filters=c_out, kernel_size=3, padding=\"SAME\", kernel_initializer=init_pytorch, use_bias=False, dtype=tf.float16)\n",
        "    self.bn = tf.keras.layers.BatchNormalization(momentum=0.9, epsilon=1e-5)\n",
        "\n",
        "  def call(self, inputs):\n",
        "    return tf.nn.relu(self.bn(self.conv(inputs)))"
      ],
      "execution_count": 0,
      "outputs": []
    },
    {
      "cell_type": "markdown",
      "metadata": {
        "id": "siMDX2wnhiu3",
        "colab_type": "text"
      },
      "source": [
        "## Residual Block"
      ]
    },
    {
      "cell_type": "code",
      "metadata": {
        "colab_type": "code",
        "id": "oBuqNlb7QZc9",
        "colab": {}
      },
      "source": [
        "class ResBlk(tf.keras.Model):\n",
        "  def __init__(self, c_out, pool, res = False):\n",
        "    super().__init__()\n",
        "    self.conv_bn = ConvBN(c_out)\n",
        "    self.pool = pool\n",
        "    self.res = res\n",
        "    if self.res:\n",
        "      self.res1 = ConvBN(c_out)\n",
        "      self.res2 = ConvBN(c_out)\n",
        "\n",
        "  def call(self, inputs):\n",
        "    h = self.pool(self.conv_bn(inputs))\n",
        "    if self.res:\n",
        "      h = h + self.res2(self.res1(h))\n",
        "    return h"
      ],
      "execution_count": 0,
      "outputs": []
    },
    {
      "cell_type": "markdown",
      "metadata": {
        "id": "P2Q-vcbRhnMD",
        "colab_type": "text"
      },
      "source": [
        "## Main Model"
      ]
    },
    {
      "cell_type": "code",
      "metadata": {
        "colab_type": "code",
        "id": "uB5ENbbjQa7r",
        "colab": {}
      },
      "source": [
        "class DavidNet(tf.keras.Model):\n",
        "  def __init__(self, c=64, weight=0.125):\n",
        "    super().__init__()\n",
        "    pool = tf.keras.layers.MaxPooling2D()\n",
        "    self.init_conv_bn = ConvBN(c)\n",
        "    self.blk1 = ResBlk(c, pool, res = True)\n",
        "    self.blk2 = ResBlk(c*2, pool)\n",
        "    self.blk3 = ResBlk(c*4, pool, res = True)\n",
        "    self.pool = tf.keras.layers.GlobalMaxPool2D()\n",
        "    self.linear = tf.keras.layers.Dense(10, kernel_initializer=init_pytorch, use_bias=False)\n",
        "    self.weight = weight\n",
        "\n",
        "  def call(self, x, y):\n",
        "    h = self.pool(self.blk3(self.blk2(self.blk1(self.init_conv_bn(x)))))\n",
        "    h = self.linear(h) * self.weight\n",
        "    ce = tf.nn.sparse_softmax_cross_entropy_with_logits(logits=h, labels=y)\n",
        "    loss = tf.reduce_sum(ce)\n",
        "    correct = tf.reduce_sum(tf.cast(tf.math.equal(tf.argmax(h, axis = 1), y), tf.float16))\n",
        "    return loss, correct"
      ],
      "execution_count": 0,
      "outputs": []
    },
    {
      "cell_type": "markdown",
      "metadata": {
        "id": "-kcVPWzjh3Nx",
        "colab_type": "text"
      },
      "source": [
        "## Normalization of Data"
      ]
    },
    {
      "cell_type": "code",
      "metadata": {
        "colab_type": "code",
        "id": "EQC9BguoQcfp",
        "colab": {}
      },
      "source": [
        "(x_train, y_train), (x_test, y_test) = tf.keras.datasets.cifar10.load_data()\n",
        "len_train, len_test = len(x_train), len(x_test)\n",
        "y_train = y_train.astype('int64').reshape(len_train)\n",
        "y_test = y_test.astype('int64').reshape(len_test)\n",
        "\n",
        "train_mean = np.mean(x_train, axis=(0,1,2))\n",
        "train_std = np.std(x_train, axis=(0,1,2))\n",
        "\n",
        "normalize = lambda x: ((x - train_mean) / train_std).astype('float16') # todo: check here\n",
        "pad4 = lambda x: np.pad(x, [(0, 0), (4, 4), (4, 4), (0, 0)], mode='reflect')\n",
        "\n",
        "#x_train = normalize(pad4(x_train))\n",
        "x_test = normalize(x_test)"
      ],
      "execution_count": 0,
      "outputs": []
    },
    {
      "cell_type": "markdown",
      "metadata": {
        "colab_type": "text",
        "id": "Hc_7F-ClvMQ8"
      },
      "source": [
        "## Data Augmentation"
      ]
    },
    {
      "cell_type": "code",
      "metadata": {
        "colab_type": "code",
        "id": "qKvqBUQlvHuC",
        "colab": {}
      },
      "source": [
        "class RandomCrop(object):\n",
        "    def __init__(self, crop_size=32):\n",
        "        self.crop_size = crop_size  \n",
        "        \n",
        "    def __call__(self, img):\n",
        "      crop_im = []\n",
        "      for i in range(img.shape[0]):\n",
        "        im = img[i]\n",
        "        im = np.array(im)\n",
        "        height, width = im.shape[0], im.shape[1]\n",
        "        dy, dx = self.crop_size , self.crop_size\n",
        "        x = np.random.randint(0, width - dx + 1)\n",
        "        y = np.random.randint(0, height - dy + 1)\n",
        "        crop_im.append(im[y:(y+dy), x:(x+dx), :])\n",
        "      \n",
        "      crop_im = np.array(crop_im)\n",
        "      return crop_im  \n",
        "\n",
        "randomcrop = RandomCrop(32)"
      ],
      "execution_count": 0,
      "outputs": []
    },
    {
      "cell_type": "code",
      "metadata": {
        "colab_type": "code",
        "id": "cdQDS2esvQJQ",
        "colab": {}
      },
      "source": [
        "from PIL import Image\n",
        "def AutoAug(img):\n",
        "  autoaug = AutoAugment()\n",
        "  Auto_aug_im = np.zeros_like(img)\n",
        "  for i in range(img.shape[0]):\n",
        "    im = img[i]\n",
        "    im = Image.fromarray(im)\n",
        "    im = autoaug(im)\n",
        "    Auto_aug_im[i] = im\n",
        "  return Auto_aug_im"
      ],
      "execution_count": 0,
      "outputs": []
    },
    {
      "cell_type": "code",
      "metadata": {
        "colab_type": "code",
        "id": "GJQ8vwE_aySf",
        "colab": {}
      },
      "source": [
        "from PIL import Image\n",
        "class Cutout(object):\n",
        "    def __init__(self, length=10):\n",
        "        self.length = length\n",
        "\n",
        "    def __call__(self, p, img):\n",
        "      cutout_im = np.zeros_like(img)\n",
        "      for i in range(img.shape[0]):\n",
        "        p_1 = np.random.rand() \n",
        "        im = img[i]\n",
        "        im = np.array(im)\n",
        "        if p_1 > p:\n",
        "          cutout_im[i] = im\n",
        "        else:\n",
        "          mask_val = im.mean()\n",
        "\n",
        "          top = np.random.randint(0, im.shape[0])\n",
        "          left = np.random.randint(0, im.shape[1])\n",
        "          bottom = top + self.length\n",
        "          right = left + self.length\n",
        "\n",
        "          im[top:bottom, left:right, :] = mask_val\n",
        "\n",
        "          im = Image.fromarray(im)\n",
        "          cutout_im[i] = im\n",
        "      return cutout_im\n",
        "\n",
        "cutout=Cutout()  "
      ],
      "execution_count": 0,
      "outputs": []
    },
    {
      "cell_type": "code",
      "metadata": {
        "colab_type": "code",
        "id": "KunC7z6-2U_b",
        "outputId": "2491611b-8e30-4b97-f684-b54638f672b3",
        "scrolled": true,
        "colab": {
          "base_uri": "https://localhost:8080/",
          "height": 553
        }
      },
      "source": [
        "print(\"Augmentation begin....\")\n",
        "for i in range(32):\n",
        "  aug_img = x_train\n",
        "  aug_img = pad4(aug_img)\n",
        "  aug_img = randomcrop(aug_img)\n",
        "  aug_img = cutout(0.5,aug_img)\n",
        "  aug_img = AutoAug(aug_img)\n",
        "  aug_img = normalize(aug_img)\n",
        "  globals()['x_train%s' % i] = aug_img\n",
        "print(\"Augmentation completed\")  "
      ],
      "execution_count": 0,
      "outputs": [
        {
          "output_type": "stream",
          "text": [
            "Augmentation begin....\n",
            "Augmentation completed\n"
          ],
          "name": "stdout"
        }
      ]
    },
    {
      "cell_type": "markdown",
      "metadata": {
        "id": "fYqPCZqkh_ty",
        "colab_type": "text"
      },
      "source": [
        "## Parameters"
      ]
    },
    {
      "cell_type": "code",
      "metadata": {
        "id": "Vs6LFXy8gJ91",
        "colab_type": "code",
        "colab": {}
      },
      "source": [
        "BATCH_SIZE = 512 #@param {type:\"integer\"}\n",
        "LEARNING_RATE = 0.45 #@param {type:\"number\"}\n",
        "EPOCHS = 26 #@param {type:\"integer\"}"
      ],
      "execution_count": 0,
      "outputs": []
    },
    {
      "cell_type": "code",
      "metadata": {
        "colab_type": "code",
        "id": "2-rBodFhQeNZ",
        "colab": {}
      },
      "source": [
        "model = DavidNet()\n",
        "batches_per_epoch = len_train//BATCH_SIZE + 1\n",
        "\n",
        "lr_schedule = lambda t: np.interp([t], [0, (EPOCHS+1)//5, int((EPOCHS+1)*0.7), EPOCHS], [LEARNING_RATE/5.0, LEARNING_RATE, LEARNING_RATE/5.0, 0.004])[0]\n",
        "#lr_schedule = lambda t: np.interp([t], [0, (EPOCHS+1)//5, int((EPOCHS+1)*0.7), EPOCHS], [LEARNING_RATE/5.0, LEARNING_RATE, LEARNING_RATE/5.0, 0.02])[0]\n",
        "\n",
        "global_step = tf.train.get_or_create_global_step()\n",
        "lr_func = lambda: lr_schedule(global_step/batches_per_epoch)/BATCH_SIZE\n",
        "opt = tf.train.MomentumOptimizer(lr_func, momentum=MOMENTUM, use_nesterov=True)\n",
        "#data_aug = lambda x, y: (tf.image.random_flip_left_right(tf.random_crop(x, [32, 32, 3])), y)"
      ],
      "execution_count": 0,
      "outputs": []
    },
    {
      "cell_type": "code",
      "metadata": {
        "colab_type": "code",
        "id": "Eeqp9zgtQjQN",
        "outputId": "d0f84e88-1a17-464f-bbfd-9122c53e1c3d",
        "colab": {
          "base_uri": "https://localhost:8080/",
          "height": 982
        }
      },
      "source": [
        "t = time.time()\n",
        "test_set = tf.data.Dataset.from_tensor_slices((x_test, y_test)).batch(BATCH_SIZE)\n",
        "\n",
        "for epoch in range(EPOCHS):\n",
        "  train_loss = test_loss = train_acc = test_acc = 0.0\n",
        "  train_set = tf.data.Dataset.from_tensor_slices((globals()['x_train%s' % epoch], y_train)).shuffle(len_train).batch(BATCH_SIZE).prefetch(1)\n",
        "\n",
        "  tf.keras.backend.set_learning_phase(1)\n",
        "  for (x, y) in tqdm(train_set):\n",
        "    with tf.GradientTape() as tape:\n",
        "      loss, correct = model(x, y)\n",
        "\n",
        "    var = model.trainable_variables\n",
        "    grads = tape.gradient(loss, var)\n",
        "#     for g, v in zip(grads, var):\n",
        "#       g += v * WEIGHT_DECAY * BATCH_SIZE\n",
        "    opt.apply_gradients(zip(grads, var), global_step=global_step)\n",
        "\n",
        "    train_loss += loss.numpy()\n",
        "    train_acc += correct.numpy()\n",
        "\n",
        "  tf.keras.backend.set_learning_phase(0)\n",
        "  for (x, y) in test_set:\n",
        "    loss, correct = model(x, y)\n",
        "    test_loss += loss.numpy()\n",
        "    test_acc += correct.numpy()\n",
        "    \n",
        "  print('epoch:', epoch+1, 'lr:', lr_schedule(epoch+1), 'train loss:', train_loss / len_train, 'train acc:', train_acc / len_train, 'val loss:', test_loss / len_test, 'val acc:', test_acc / len_test, 'time:', time.time() - t)"
      ],
      "execution_count": 0,
      "outputs": [
        {
          "output_type": "display_data",
          "data": {
            "application/vnd.jupyter.widget-view+json": {
              "model_id": "6d9f7638761547b1880eb1b94037330e",
              "version_major": 2,
              "version_minor": 0
            },
            "text/plain": [
              "HBox(children=(IntProgress(value=1, bar_style='info', max=1), HTML(value='')))"
            ]
          },
          "metadata": {
            "tags": []
          }
        },
        {
          "output_type": "stream",
          "text": [
            "\n",
            "epoch: 1 lr: 0.16199999999999998 train loss: 1.60712 train acc: 0.41324 val loss: 1.210425 val acc: 0.5646 time: 10.344749927520752\n"
          ],
          "name": "stdout"
        },
        {
          "output_type": "display_data",
          "data": {
            "application/vnd.jupyter.widget-view+json": {
              "model_id": "10f7b73f2e614f23a56b417642523354",
              "version_major": 2,
              "version_minor": 0
            },
            "text/plain": [
              "HBox(children=(IntProgress(value=1, bar_style='info', max=1), HTML(value='')))"
            ]
          },
          "metadata": {
            "tags": []
          }
        },
        {
          "output_type": "stream",
          "text": [
            "\n",
            "epoch: 2 lr: 0.23399999999999999 train loss: 1.056255 train acc: 0.62504 val loss: 0.874525 val acc: 0.6913 time: 16.153656482696533\n"
          ],
          "name": "stdout"
        },
        {
          "output_type": "display_data",
          "data": {
            "application/vnd.jupyter.widget-view+json": {
              "model_id": "96959b948334449fb9e1ea03a613afab",
              "version_major": 2,
              "version_minor": 0
            },
            "text/plain": [
              "HBox(children=(IntProgress(value=1, bar_style='info', max=1), HTML(value='')))"
            ]
          },
          "metadata": {
            "tags": []
          }
        },
        {
          "output_type": "stream",
          "text": [
            "\n",
            "epoch: 3 lr: 0.30599999999999994 train loss: 0.881935 train acc: 0.69084 val loss: 0.966175 val acc: 0.6825 time: 21.889267206192017\n"
          ],
          "name": "stdout"
        },
        {
          "output_type": "display_data",
          "data": {
            "application/vnd.jupyter.widget-view+json": {
              "model_id": "812a2bed2ed24f8ca52e0f235cccd110",
              "version_major": 2,
              "version_minor": 0
            },
            "text/plain": [
              "HBox(children=(IntProgress(value=1, bar_style='info', max=1), HTML(value='')))"
            ]
          },
          "metadata": {
            "tags": []
          }
        },
        {
          "output_type": "stream",
          "text": [
            "\n",
            "epoch: 4 lr: 0.378 train loss: 0.8053775 train acc: 0.71752 val loss: 0.813325 val acc: 0.736 time: 27.562443256378174\n"
          ],
          "name": "stdout"
        },
        {
          "output_type": "display_data",
          "data": {
            "application/vnd.jupyter.widget-view+json": {
              "model_id": "5a5c1246ca5e4008840e1e97adbc1f3d",
              "version_major": 2,
              "version_minor": 0
            },
            "text/plain": [
              "HBox(children=(IntProgress(value=1, bar_style='info', max=1), HTML(value='')))"
            ]
          },
          "metadata": {
            "tags": []
          }
        },
        {
          "output_type": "stream",
          "text": [
            "\n",
            "epoch: 5 lr: 0.45 train loss: 0.7329 train acc: 0.74412 val loss: 0.7316375 val acc: 0.7582 time: 33.272096395492554\n"
          ],
          "name": "stdout"
        },
        {
          "output_type": "display_data",
          "data": {
            "application/vnd.jupyter.widget-view+json": {
              "model_id": "aee9f5fcc3164d6fab54bbd1118e8691",
              "version_major": 2,
              "version_minor": 0
            },
            "text/plain": [
              "HBox(children=(IntProgress(value=1, bar_style='info', max=1), HTML(value='')))"
            ]
          },
          "metadata": {
            "tags": []
          }
        },
        {
          "output_type": "stream",
          "text": [
            "\n",
            "epoch: 6 lr: 0.42230769230769233 train loss: 0.65983 train acc: 0.77044 val loss: 0.5133125 val acc: 0.8258 time: 39.074808835983276\n"
          ],
          "name": "stdout"
        },
        {
          "output_type": "display_data",
          "data": {
            "application/vnd.jupyter.widget-view+json": {
              "model_id": "1c3307aa7b2547f0aaa39b5571a9249b",
              "version_major": 2,
              "version_minor": 0
            },
            "text/plain": [
              "HBox(children=(IntProgress(value=1, bar_style='info', max=1), HTML(value='')))"
            ]
          },
          "metadata": {
            "tags": []
          }
        },
        {
          "output_type": "stream",
          "text": [
            "\n",
            "epoch: 7 lr: 0.39461538461538465 train loss: 0.598995 train acc: 0.7911 val loss: 0.4624625 val acc: 0.8421 time: 44.993884563446045\n"
          ],
          "name": "stdout"
        },
        {
          "output_type": "display_data",
          "data": {
            "application/vnd.jupyter.widget-view+json": {
              "model_id": "74a380a5fd2145c2a167798014235cb6",
              "version_major": 2,
              "version_minor": 0
            },
            "text/plain": [
              "HBox(children=(IntProgress(value=1, bar_style='info', max=1), HTML(value='')))"
            ]
          },
          "metadata": {
            "tags": []
          }
        },
        {
          "output_type": "stream",
          "text": [
            "\n",
            "epoch: 8 lr: 0.3669230769230769 train loss: 0.553205 train acc: 0.80706 val loss: 0.452125 val acc: 0.8464 time: 50.9995174407959\n"
          ],
          "name": "stdout"
        },
        {
          "output_type": "display_data",
          "data": {
            "application/vnd.jupyter.widget-view+json": {
              "model_id": "75c67b78a18f4aaf90bec6a7fae89aab",
              "version_major": 2,
              "version_minor": 0
            },
            "text/plain": [
              "HBox(children=(IntProgress(value=1, bar_style='info', max=1), HTML(value='')))"
            ]
          },
          "metadata": {
            "tags": []
          }
        },
        {
          "output_type": "stream",
          "text": [
            "\n",
            "epoch: 9 lr: 0.3392307692307692 train loss: 0.52336 train acc: 0.81836 val loss: 0.443525 val acc: 0.8486 time: 56.97211694717407\n"
          ],
          "name": "stdout"
        },
        {
          "output_type": "display_data",
          "data": {
            "application/vnd.jupyter.widget-view+json": {
              "model_id": "83274254e3374fc88ef51d7d876e7153",
              "version_major": 2,
              "version_minor": 0
            },
            "text/plain": [
              "HBox(children=(IntProgress(value=1, bar_style='info', max=1), HTML(value='')))"
            ]
          },
          "metadata": {
            "tags": []
          }
        },
        {
          "output_type": "stream",
          "text": [
            "\n",
            "epoch: 10 lr: 0.31153846153846154 train loss: 0.4786075 train acc: 0.83312 val loss: 0.3979125 val acc: 0.8661 time: 62.70196795463562\n"
          ],
          "name": "stdout"
        },
        {
          "output_type": "display_data",
          "data": {
            "application/vnd.jupyter.widget-view+json": {
              "model_id": "211acd3e53864c6b91d546de03fadecb",
              "version_major": 2,
              "version_minor": 0
            },
            "text/plain": [
              "HBox(children=(IntProgress(value=1, bar_style='info', max=1), HTML(value='')))"
            ]
          },
          "metadata": {
            "tags": []
          }
        },
        {
          "output_type": "stream",
          "text": [
            "\n",
            "epoch: 11 lr: 0.28384615384615386 train loss: 0.4533475 train acc: 0.8409 val loss: 0.40330625 val acc: 0.8663 time: 68.61537742614746\n"
          ],
          "name": "stdout"
        },
        {
          "output_type": "display_data",
          "data": {
            "application/vnd.jupyter.widget-view+json": {
              "model_id": "0b90adf3ac874c63bafbf696aafc5ce6",
              "version_major": 2,
              "version_minor": 0
            },
            "text/plain": [
              "HBox(children=(IntProgress(value=1, bar_style='info', max=1), HTML(value='')))"
            ]
          },
          "metadata": {
            "tags": []
          }
        },
        {
          "output_type": "stream",
          "text": [
            "\n",
            "epoch: 12 lr: 0.2561538461538462 train loss: 0.4250125 train acc: 0.85186 val loss: 0.3808 val acc: 0.8738 time: 74.54493379592896\n"
          ],
          "name": "stdout"
        },
        {
          "output_type": "display_data",
          "data": {
            "application/vnd.jupyter.widget-view+json": {
              "model_id": "bb43ca131eb44fe7b8d78401b26bf485",
              "version_major": 2,
              "version_minor": 0
            },
            "text/plain": [
              "HBox(children=(IntProgress(value=1, bar_style='info', max=1), HTML(value='')))"
            ]
          },
          "metadata": {
            "tags": []
          }
        },
        {
          "output_type": "stream",
          "text": [
            "\n",
            "epoch: 13 lr: 0.2284615384615385 train loss: 0.40548 train acc: 0.85878 val loss: 0.4031625 val acc: 0.869 time: 80.47472476959229\n"
          ],
          "name": "stdout"
        },
        {
          "output_type": "display_data",
          "data": {
            "application/vnd.jupyter.widget-view+json": {
              "model_id": "5074ad4f60a74439aa6c9c04a0acd198",
              "version_major": 2,
              "version_minor": 0
            },
            "text/plain": [
              "HBox(children=(IntProgress(value=1, bar_style='info', max=1), HTML(value='')))"
            ]
          },
          "metadata": {
            "tags": []
          }
        },
        {
          "output_type": "stream",
          "text": [
            "\n",
            "epoch: 14 lr: 0.2007692307692308 train loss: 0.3840475 train acc: 0.86608 val loss: 0.35586875 val acc: 0.8808 time: 86.51752805709839\n"
          ],
          "name": "stdout"
        },
        {
          "output_type": "display_data",
          "data": {
            "application/vnd.jupyter.widget-view+json": {
              "model_id": "70b9ffb5e0ef40ee8bad794a32cb3acf",
              "version_major": 2,
              "version_minor": 0
            },
            "text/plain": [
              "HBox(children=(IntProgress(value=1, bar_style='info', max=1), HTML(value='')))"
            ]
          },
          "metadata": {
            "tags": []
          }
        },
        {
          "output_type": "stream",
          "text": [
            "\n",
            "epoch: 15 lr: 0.17307692307692313 train loss: 0.36648375 train acc: 0.8727 val loss: 0.33134375 val acc: 0.8903 time: 92.46221828460693\n"
          ],
          "name": "stdout"
        },
        {
          "output_type": "display_data",
          "data": {
            "application/vnd.jupyter.widget-view+json": {
              "model_id": "a64866c3a49e496f84de11ac646951da",
              "version_major": 2,
              "version_minor": 0
            },
            "text/plain": [
              "HBox(children=(IntProgress(value=1, bar_style='info', max=1), HTML(value='')))"
            ]
          },
          "metadata": {
            "tags": []
          }
        },
        {
          "output_type": "stream",
          "text": [
            "\n",
            "epoch: 16 lr: 0.14538461538461545 train loss: 0.3469125 train acc: 0.87928 val loss: 0.29551875 val acc: 0.9012 time: 98.46751737594604\n"
          ],
          "name": "stdout"
        },
        {
          "output_type": "display_data",
          "data": {
            "application/vnd.jupyter.widget-view+json": {
              "model_id": "3a0b10b4199a4a82ab75abab7f49f35c",
              "version_major": 2,
              "version_minor": 0
            },
            "text/plain": [
              "HBox(children=(IntProgress(value=1, bar_style='info', max=1), HTML(value='')))"
            ]
          },
          "metadata": {
            "tags": []
          }
        },
        {
          "output_type": "stream",
          "text": [
            "\n",
            "epoch: 17 lr: 0.11769230769230771 train loss: 0.3253125 train acc: 0.88596 val loss: 0.29120625 val acc: 0.905 time: 104.62004232406616\n"
          ],
          "name": "stdout"
        },
        {
          "output_type": "display_data",
          "data": {
            "application/vnd.jupyter.widget-view+json": {
              "model_id": "4cb5f81f44944567a59912763fa04246",
              "version_major": 2,
              "version_minor": 0
            },
            "text/plain": [
              "HBox(children=(IntProgress(value=1, bar_style='info', max=1), HTML(value='')))"
            ]
          },
          "metadata": {
            "tags": []
          }
        },
        {
          "output_type": "stream",
          "text": [
            "\n",
            "epoch: 18 lr: 0.09 train loss: 0.31056625 train acc: 0.89122 val loss: 0.298575 val acc: 0.9039 time: 110.59787344932556\n"
          ],
          "name": "stdout"
        },
        {
          "output_type": "display_data",
          "data": {
            "application/vnd.jupyter.widget-view+json": {
              "model_id": "6c04c6895c4a4e5b9b531a4d1051ed32",
              "version_major": 2,
              "version_minor": 0
            },
            "text/plain": [
              "HBox(children=(IntProgress(value=1, bar_style='info', max=1), HTML(value='')))"
            ]
          },
          "metadata": {
            "tags": []
          }
        },
        {
          "output_type": "stream",
          "text": [
            "\n",
            "epoch: 19 lr: 0.07925 train loss: 0.295855 train acc: 0.898 val loss: 0.274475 val acc: 0.9113 time: 116.56584668159485\n"
          ],
          "name": "stdout"
        },
        {
          "output_type": "display_data",
          "data": {
            "application/vnd.jupyter.widget-view+json": {
              "model_id": "ed3a2481025f4e6197afdc9947527400",
              "version_major": 2,
              "version_minor": 0
            },
            "text/plain": [
              "HBox(children=(IntProgress(value=1, bar_style='info', max=1), HTML(value='')))"
            ]
          },
          "metadata": {
            "tags": []
          }
        },
        {
          "output_type": "stream",
          "text": [
            "\n",
            "epoch: 20 lr: 0.0685 train loss: 0.29015375 train acc: 0.90016 val loss: 0.27548125 val acc: 0.9081 time: 122.53467845916748\n"
          ],
          "name": "stdout"
        },
        {
          "output_type": "display_data",
          "data": {
            "application/vnd.jupyter.widget-view+json": {
              "model_id": "1edfdfa24091402b890b0c60d1ac66e4",
              "version_major": 2,
              "version_minor": 0
            },
            "text/plain": [
              "HBox(children=(IntProgress(value=1, bar_style='info', max=1), HTML(value='')))"
            ]
          },
          "metadata": {
            "tags": []
          }
        },
        {
          "output_type": "stream",
          "text": [
            "\n",
            "epoch: 21 lr: 0.057749999999999996 train loss: 0.2825 train acc: 0.90178 val loss: 0.2674875 val acc: 0.9125 time: 128.61970829963684\n"
          ],
          "name": "stdout"
        },
        {
          "output_type": "display_data",
          "data": {
            "application/vnd.jupyter.widget-view+json": {
              "model_id": "be55277b3e8b467891f4f5e3838d15ea",
              "version_major": 2,
              "version_minor": 0
            },
            "text/plain": [
              "HBox(children=(IntProgress(value=1, bar_style='info', max=1), HTML(value='')))"
            ]
          },
          "metadata": {
            "tags": []
          }
        },
        {
          "output_type": "stream",
          "text": [
            "\n",
            "epoch: 22 lr: 0.047 train loss: 0.273785 train acc: 0.90518 val loss: 0.27408125 val acc: 0.9124 time: 134.77852654457092\n"
          ],
          "name": "stdout"
        },
        {
          "output_type": "display_data",
          "data": {
            "application/vnd.jupyter.widget-view+json": {
              "model_id": "91181c395a244a94b3c21c63f04b492d",
              "version_major": 2,
              "version_minor": 0
            },
            "text/plain": [
              "HBox(children=(IntProgress(value=1, bar_style='info', max=1), HTML(value='')))"
            ]
          },
          "metadata": {
            "tags": []
          }
        },
        {
          "output_type": "stream",
          "text": [
            "\n",
            "epoch: 23 lr: 0.036250000000000004 train loss: 0.26356125 train acc: 0.90834 val loss: 0.26581875 val acc: 0.913 time: 140.79869389533997\n"
          ],
          "name": "stdout"
        },
        {
          "output_type": "display_data",
          "data": {
            "application/vnd.jupyter.widget-view+json": {
              "model_id": "71113da19fad4b45a7eb0578e8aeec50",
              "version_major": 2,
              "version_minor": 0
            },
            "text/plain": [
              "HBox(children=(IntProgress(value=1, bar_style='info', max=1), HTML(value='')))"
            ]
          },
          "metadata": {
            "tags": []
          }
        },
        {
          "output_type": "stream",
          "text": [
            "\n",
            "epoch: 24 lr: 0.025499999999999995 train loss: 0.2564625 train acc: 0.91104 val loss: 0.26153125 val acc: 0.9156 time: 146.78879570960999\n"
          ],
          "name": "stdout"
        },
        {
          "output_type": "display_data",
          "data": {
            "application/vnd.jupyter.widget-view+json": {
              "model_id": "20eaa465249f4941b8d492f5368f74ac",
              "version_major": 2,
              "version_minor": 0
            },
            "text/plain": [
              "HBox(children=(IntProgress(value=1, bar_style='info', max=1), HTML(value='')))"
            ]
          },
          "metadata": {
            "tags": []
          }
        },
        {
          "output_type": "stream",
          "text": [
            "\n",
            "epoch: 25 lr: 0.01475 train loss: 0.25056125 train acc: 0.91292 val loss: 0.25875 val acc: 0.9162 time: 152.73997592926025\n"
          ],
          "name": "stdout"
        },
        {
          "output_type": "display_data",
          "data": {
            "application/vnd.jupyter.widget-view+json": {
              "model_id": "b8fe89d350e648e48308f809aed95955",
              "version_major": 2,
              "version_minor": 0
            },
            "text/plain": [
              "HBox(children=(IntProgress(value=1, bar_style='info', max=1), HTML(value='')))"
            ]
          },
          "metadata": {
            "tags": []
          }
        },
        {
          "output_type": "stream",
          "text": [
            "\n",
            "epoch: 26 lr: 0.004 train loss: 0.24575625 train acc: 0.91608 val loss: 0.256925 val acc: 0.9166 time: 158.63901448249817\n"
          ],
          "name": "stdout"
        }
      ]
    },
    {
      "cell_type": "markdown",
      "metadata": {
        "id": "hRNpWPKrEcr6",
        "colab_type": "text"
      },
      "source": [
        "## So, From the above we can conclude in 24th epoch we reached 91.56% validation accuracy within 146s"
      ]
    },
    {
      "cell_type": "code",
      "metadata": {
        "id": "yHM38Cd2gJ-C",
        "colab_type": "code",
        "outputId": "9fd78fc8-e9b3-4adc-a201-94b52f3805a7",
        "colab": {}
      },
      "source": [
        "!nvidia-smi"
      ],
      "execution_count": 0,
      "outputs": [
        {
          "output_type": "stream",
          "text": [
            "Mon Aug 26 19:06:56 2019       \r\n",
            "+-----------------------------------------------------------------------------+\r\n",
            "| NVIDIA-SMI 418.67       Driver Version: 418.67       CUDA Version: 10.1     |\r\n",
            "|-------------------------------+----------------------+----------------------+\r\n",
            "| GPU  Name        Persistence-M| Bus-Id        Disp.A | Volatile Uncorr. ECC |\r\n",
            "| Fan  Temp  Perf  Pwr:Usage/Cap|         Memory-Usage | GPU-Util  Compute M. |\r\n",
            "|===============================+======================+======================|\r\n",
            "|   0  Tesla V100-SXM2...  Off  | 00000000:00:04.0 Off |                    0 |\r\n",
            "| N/A   42C    P0    50W / 300W |  15874MiB / 16130MiB |     10%      Default |\r\n",
            "+-------------------------------+----------------------+----------------------+\r\n",
            "                                                                               \r\n",
            "+-----------------------------------------------------------------------------+\r\n",
            "| Processes:                                                       GPU Memory |\r\n",
            "|  GPU       PID   Type   Process name                             Usage      |\r\n",
            "|=============================================================================|\r\n",
            "|    0      2108      G   /usr/lib/xorg/Xorg                            80MiB |\r\n",
            "|    0      8417      C   /usr/bin/python3                           15783MiB |\r\n",
            "+-----------------------------------------------------------------------------+\r\n"
          ],
          "name": "stdout"
        }
      ]
    }
  ]
}
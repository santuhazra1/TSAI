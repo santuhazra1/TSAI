{
  "nbformat": 4,
  "nbformat_minor": 0,
  "metadata": {
    "colab": {
      "name": "Assignment 7A.ipynb",
      "version": "0.3.2",
      "provenance": []
    },
    "kernelspec": {
      "name": "python3",
      "display_name": "Python 3"
    }
  },
  "cells": [
    {
      "cell_type": "markdown",
      "metadata": {
        "id": "qSN3rDSfIXa1",
        "colab_type": "text"
      },
      "source": [
        "## Assignemnt 7A\n",
        "-----------------------------------------------------------------------------------------------------------------------------------------------------------------------------------------------------------------------------------------\n",
        "\n",
        "### In This Assignment we are going to claculate global receptive field of googleNet network.\n",
        "\n",
        "#### To calculate total receptive field let's look at the googleNET network below:\n",
        "![alt text](https://github.com/santuhazra1/TSAI_EVA_PHASE_1/blob/master/Session%207/Images/googleNetImage.png?raw=true)\n",
        "\n",
        "#### So, in the above network we can see few parallel inception modules are there. So, for calculating receptive field we are going to take the maximum size of convolution layer.\n",
        "\n",
        "\n"
      ]
    },
    {
      "cell_type": "markdown",
      "metadata": {
        "id": "pq6bm3XVKu88",
        "colab_type": "text"
      },
      "source": [
        "#### Now let's calculate the receptive field:\n",
        "\n",
        "#### Now if we cosider the 5x5 convolution in our inception block we will get max receptive field as below:\n",
        "![alt text](https://github.com/santuhazra1/TSAI_EVA_PHASE_1/blob/master/Session%207/Images/5x5.png?raw=true)\n",
        "\n",
        "#### Now if we cosider the 1x1 convolution in our inception block we will get minimum receptive field as below:\n",
        "![alt text](https://github.com/santuhazra1/TSAI_EVA_PHASE_1/blob/master/Session%207/Images/1x1.png?raw=true)\n",
        "\n",
        "#### Now if we cosider the 3x3 convolution in our inception block we will get receptive field as below:\n",
        "![alt text](https://github.com/santuhazra1/TSAI_EVA_PHASE_1/blob/master/Session%207/Images/3x3.png?raw=true)\n",
        "\n",
        "\n",
        "#### So, from the above we can say we have max receptive field of 715 and min receptive field of 75\n",
        "\n"
      ]
    }
  ]
}
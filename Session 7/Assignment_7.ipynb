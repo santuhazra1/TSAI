{
  "nbformat": 4,
  "nbformat_minor": 0,
  "metadata": {
    "colab": {
      "name": "Assignment 6.ipynb",
      "version": "0.3.2",
      "provenance": []
    },
    "kernelspec": {
      "name": "python3",
      "display_name": "Python 3"
    },
    "accelerator": "GPU"
  },
  "cells": [
    {
      "cell_type": "markdown",
      "metadata": {
        "id": "Evxgdjj3zTma",
        "colab_type": "text"
      },
      "source": [
        "### In this assignment we are going to use CIFAR10 dataset where we will have different images e.g. Airplane, Automobile, Bird, Cat etc with resolution of 32 x 32 and we will try to build our model using functional API as till now we were using Sequential API. Also, main objective of this assignment is to get used to different type of convolution.\n",
        "\n",
        "### So we have below objectives in this assignment:\n",
        "*   Use a Normal Convolution layer in our model using Functional API\n",
        "*   Use a Spatially Separable Convolution layer\n",
        "*   Use a Depthwise Separable Convolution\n",
        "*   Use a Depthwise Separable Convolution\n",
        "*   Use a Grouped Convolution (use 3x3, 5x5 only) layer\n",
        "*   Use a Grouped Convolution (use 3x3 only, one with dilation = 1, and another with dilation = 2) layer\n",
        "\n",
        "### So to achieve this goal lets first import keras library and  import all pakages and functions from keras with which we are going to build the CNN model"
      ]
    },
    {
      "cell_type": "code",
      "metadata": {
        "id": "KkwXnw9OfHZl",
        "colab_type": "code",
        "colab": {}
      },
      "source": [
        "from keras import backend as K\n",
        "import time\n",
        "import matplotlib.pyplot as plt\n",
        "import numpy as np\n",
        "% matplotlib inline\n",
        "np.random.seed(2017) \n",
        "from keras.models import Sequential\n",
        "from keras.layers.convolutional import Convolution2D, MaxPooling2D,SeparableConv2D\n",
        "from keras.layers import Activation, Flatten, Dense, Dropout\n",
        "from keras.layers.normalization import BatchNormalization\n",
        "from keras.utils import np_utils\n",
        "from keras.layers import Input\n",
        "from keras.layers.merge import concatenate\n",
        "from keras.models import Model"
      ],
      "execution_count": 0,
      "outputs": []
    },
    {
      "cell_type": "markdown",
      "metadata": {
        "id": "N5afQZRp1qDw",
        "colab_type": "text"
      },
      "source": [
        "### Now we are going to load the pre-shuffled CIFAR10 data from keras. Out of total 60k data we have 50k different class image as train data and 10k image as test data which is autometically predefined in mnist dataset. So here we have total 10 different classes of images as: airplane, automobile, bird, cat, deer, dog, frog, horse, ship, truck."
      ]
    },
    {
      "cell_type": "code",
      "metadata": {
        "id": "NHpnoCHZfO8g",
        "colab_type": "code",
        "outputId": "0b8b9c9c-6952-4560-95f6-64ad3af9de02",
        "colab": {
          "base_uri": "https://localhost:8080/",
          "height": 85
        }
      },
      "source": [
        "from keras.datasets import cifar10\n",
        "(train_features, train_labels), (test_features, test_labels) = cifar10.load_data()\n",
        "num_train, img_rows, img_cols, img_channels =  train_features.shape\n",
        "num_test, _, _, _ =  test_features.shape\n",
        "num_classes = len(np.unique(train_labels))\n",
        "print(train_features.shape)\n",
        "print(test_features.shape)"
      ],
      "execution_count": 0,
      "outputs": [
        {
          "output_type": "stream",
          "text": [
            "Downloading data from https://www.cs.toronto.edu/~kriz/cifar-10-python.tar.gz\n",
            "170500096/170498071 [==============================] - 2s 0us/step\n",
            "(50000, 32, 32, 3)\n",
            "(10000, 32, 32, 3)\n"
          ],
          "name": "stdout"
        }
      ]
    },
    {
      "cell_type": "markdown",
      "metadata": {
        "id": "QSr7c4MW3tRn",
        "colab_type": "text"
      },
      "source": [
        "### Now let's look into some images. Here we are going to pick one image from each class randomly to see how it looks:"
      ]
    },
    {
      "cell_type": "code",
      "metadata": {
        "id": "14HyBUXdfS6G",
        "colab_type": "code",
        "outputId": "af988774-4654-4ec3-d624-7e7dc08587c7",
        "colab": {
          "base_uri": "https://localhost:8080/",
          "height": 268
        }
      },
      "source": [
        "class_names = ['airplane','automobile','bird','cat','deer',\n",
        "               'dog','frog','horse','ship','truck']\n",
        "fig = plt.figure(figsize=(12,4))\n",
        "for i in range(num_classes):\n",
        "    ax = fig.add_subplot(2, 5, 1 + i, xticks=[], yticks=[])\n",
        "    idx = np.where(train_labels[:]==i)[0]\n",
        "    features_idx = train_features[idx,::]\n",
        "    img_num = np.random.randint(features_idx.shape[0])\n",
        "    im = features_idx[img_num]\n",
        "    ax.set_title(class_names[i])\n",
        "    plt.imshow(im)\n",
        "plt.show()"
      ],
      "execution_count": 0,
      "outputs": [
        {
          "output_type": "display_data",
          "data": {
            "image/png": "[encoded data removed]",
            "text/plain": [
              "<Figure size 864x288 with 10 Axes>"
            ]
          },
          "metadata": {
            "tags": []
          }
        }
      ]
    },
    {
      "cell_type": "markdown",
      "metadata": {
        "id": "Ftsh2lBF8LUb",
        "colab_type": "text"
      },
      "source": [
        "### Now here we are going to create a function which is going to plot our train and test model accuracy and losses with respect epochs."
      ]
    },
    {
      "cell_type": "code",
      "metadata": {
        "id": "bmfsk76-fadV",
        "colab_type": "code",
        "colab": {}
      },
      "source": [
        "def plot_model_history(model_history):\n",
        "    fig, axs = plt.subplots(1,2,figsize=(15,5))\n",
        "    # summarize history for accuracy\n",
        "    axs[0].plot(range(1,len(model_history.history['acc'])+1),model_history.history['acc'])\n",
        "    axs[0].plot(range(1,len(model_history.history['val_acc'])+1),model_history.history['val_acc'])\n",
        "    axs[0].set_title('Model Accuracy')\n",
        "    axs[0].set_ylabel('Accuracy')\n",
        "    axs[0].set_xlabel('Epoch')\n",
        "    axs[0].set_xticks(np.arange(1,len(model_history.history['acc'])+1),len(model_history.history['acc'])/10)\n",
        "    axs[0].legend(['train', 'val'], loc='best')\n",
        "    # summarize history for loss\n",
        "    axs[1].plot(range(1,len(model_history.history['loss'])+1),model_history.history['loss'])\n",
        "    axs[1].plot(range(1,len(model_history.history['val_loss'])+1),model_history.history['val_loss'])\n",
        "    axs[1].set_title('Model Loss')\n",
        "    axs[1].set_ylabel('Loss')\n",
        "    axs[1].set_xlabel('Epoch')\n",
        "    axs[1].set_xticks(np.arange(1,len(model_history.history['loss'])+1),len(model_history.history['loss'])/10)\n",
        "    axs[1].legend(['train', 'val'], loc='best')\n",
        "    plt.show()"
      ],
      "execution_count": 0,
      "outputs": []
    },
    {
      "cell_type": "markdown",
      "metadata": {
        "id": "nIdiSwBQ8wTg",
        "colab_type": "text"
      },
      "source": [
        "### Also, here we have created one more function which is going to give us actual  test accuracy from model and test data:"
      ]
    },
    {
      "cell_type": "code",
      "metadata": {
        "id": "YJMT4rjgfdZz",
        "colab_type": "code",
        "colab": {}
      },
      "source": [
        "def accuracy(test_x, test_y, model):\n",
        "    result = model.predict(test_x)\n",
        "    predicted_class = np.argmax(result, axis=1)\n",
        "    true_class = np.argmax(test_y, axis=1)\n",
        "    num_correct = np.sum(predicted_class == true_class) \n",
        "    accuracy = float(num_correct)/result.shape[0]\n",
        "    return (accuracy * 100)"
      ],
      "execution_count": 0,
      "outputs": []
    },
    {
      "cell_type": "markdown",
      "metadata": {
        "id": "ZqjXTo7o9O2a",
        "colab_type": "text"
      },
      "source": [
        "### Now, lets scale the test and train data and change labels from 1-dimentional class matrix to 10 dimentional class matrix so that we can predict out of 10 class."
      ]
    },
    {
      "cell_type": "code",
      "metadata": {
        "id": "T5c5nDvxm6zR",
        "colab_type": "code",
        "colab": {}
      },
      "source": [
        "train_features = train_features.astype('float32')/255\n",
        "test_features = test_features.astype('float32')/255\n",
        "# convert class labels to binary class labels\n",
        "train_labels = np_utils.to_categorical(train_labels, num_classes)\n",
        "test_labels = np_utils.to_categorical(test_labels, num_classes)"
      ],
      "execution_count": 0,
      "outputs": []
    },
    {
      "cell_type": "markdown",
      "metadata": {
        "id": "JcGC80xmACs4",
        "colab_type": "text"
      },
      "source": [
        "### Now let's build our model using functional API and lets use above mentioned different type of convolution:"
      ]
    },
    {
      "cell_type": "code",
      "metadata": {
        "id": "0zFXPO0fqBD-",
        "colab_type": "code",
        "outputId": "cc132b65-d883-495a-d973-89de6f0c39ea",
        "colab": {
          "base_uri": "https://localhost:8080/",
          "height": 306
        }
      },
      "source": [
        "input_layer = Input(shape=(32,32,3))\n",
        "\n",
        "conv1 = Convolution2D(32, 3, 3, border_mode='same', activation='relu')(input_layer)\n",
        "batchnorm1 = BatchNormalization()(conv1)\n",
        "dropout1 = Dropout(0.15)(batchnorm1)\n",
        "\n",
        "conv2_sp_1 = Convolution2D(32, 3, 1, border_mode='same', activation='relu')(dropout1)\n",
        "conv2_sp_2 = Convolution2D(64, 1, 3, border_mode='same', activation='relu')(conv2_sp_1)\n",
        "batchnorm2 = BatchNormalization()(conv2_sp_2)\n",
        "dropout2 = Dropout(0.15)(batchnorm2)\n",
        "\n",
        "conv3 = SeparableConv2D(128, 3, 3, border_mode='same', activation='relu')(dropout2)\n",
        "batchnorm3 = BatchNormalization()(conv3)\n",
        "dropout3 = Dropout(0.15)(batchnorm3)\n",
        "\n",
        "\n",
        "conv4 = Convolution2D(32, 1, 1, activation='relu')(dropout3)\n",
        "batchnorm4 = BatchNormalization()(conv4)\n",
        "maxpool1 = MaxPooling2D(pool_size=(2, 2))(batchnorm4)\n",
        "\n",
        "\n",
        "conv5_1 = Convolution2D(64, 3, 3, border_mode='same', activation='relu')(maxpool1)\n",
        "batchnorm5_1 = BatchNormalization()(conv5_1)\n",
        "dropout4_1 = Dropout(0.15)(batchnorm5_1)\n",
        "\n",
        "conv5_2 = Convolution2D(64, 5, 5, border_mode='same', activation='relu')(maxpool1)\n",
        "batchnorm5_2 = BatchNormalization()(conv5_2)\n",
        "dropout4_2 = Dropout(0.15)(batchnorm5_2)\n",
        "\n",
        "merge1 = concatenate([dropout4_1, dropout4_2])\n",
        "\n",
        "\n",
        "conv6_1 = Convolution2D(128, 3, 3, border_mode='same', dilation_rate = 1, activation='relu')(merge1)\n",
        "batchnorm6_1 = BatchNormalization()(conv6_1)\n",
        "dropout5_1 = Dropout(0.15)(batchnorm6_1)\n",
        "\n",
        "conv6_2 = Convolution2D(128, 3, 3, border_mode='same', dilation_rate = 2, activation='relu')(merge1)\n",
        "batchnorm6_2 = BatchNormalization()(conv6_2)\n",
        "dropout5_2 = Dropout(0.15)(batchnorm6_2)\n",
        "\n",
        "merge2 = concatenate([dropout5_1, dropout5_2])\n",
        "\n",
        "\n",
        "conv7 = Convolution2D(32, 1, 1, activation='relu')(merge2)\n",
        "batchnorm7 = BatchNormalization()(conv7)\n",
        "maxpool2 = MaxPooling2D(pool_size=(2, 2))(batchnorm7)\n",
        "\n",
        "\n",
        "conv8 = Convolution2D(64, 3, 3, border_mode='same', activation='relu')(maxpool2)\n",
        "batchnorm8 = BatchNormalization()(conv8)\n",
        "dropout6 = Dropout(0.15)(batchnorm8)\n",
        "\n",
        "conv9 = Convolution2D(128, 3, 3, border_mode='same', activation='relu')(dropout6)\n",
        "batchnorm9 = BatchNormalization()(conv9)\n",
        "dropout7 = Dropout(0.15)(batchnorm9)\n",
        "\n",
        "conv10 = Convolution2D(10, 1, 1, activation='relu')(dropout7)\n",
        "batchnorm10 = BatchNormalization()(conv10)\n",
        "conv11 = Convolution2D(10, 8)(batchnorm10)\n",
        "\n",
        "flat1 = Flatten()(conv11)\n",
        "output = Activation('softmax')(flat1)\n",
        "model = Model(inputs=input_layer, outputs=output)\n",
        "\n"
      ],
      "execution_count": 0,
      "outputs": [
        {
          "output_type": "stream",
          "text": [
            "/usr/local/lib/python3.6/dist-packages/ipykernel_launcher.py:3: UserWarning: Update your `Conv2D` call to the Keras 2 API: `Conv2D(32, (3, 3), activation=\"relu\", padding=\"same\")`\n",
            "  This is separate from the ipykernel package so we can avoid doing imports until\n",
            "/usr/local/lib/python3.6/dist-packages/ipykernel_launcher.py:7: UserWarning: Update your `Conv2D` call to the Keras 2 API: `Conv2D(32, (3, 1), activation=\"relu\", padding=\"same\")`\n",
            "  import sys\n",
            "/usr/local/lib/python3.6/dist-packages/ipykernel_launcher.py:8: UserWarning: Update your `Conv2D` call to the Keras 2 API: `Conv2D(64, (1, 3), activation=\"relu\", padding=\"same\")`\n",
            "  \n",
            "/usr/local/lib/python3.6/dist-packages/ipykernel_launcher.py:12: UserWarning: Update your `SeparableConv2D` call to the Keras 2 API: `SeparableConv2D(128, (3, 3), activation=\"relu\", padding=\"same\")`\n",
            "  if sys.path[0] == '':\n",
            "/usr/local/lib/python3.6/dist-packages/ipykernel_launcher.py:17: UserWarning: Update your `Conv2D` call to the Keras 2 API: `Conv2D(32, (1, 1), activation=\"relu\")`\n",
            "/usr/local/lib/python3.6/dist-packages/ipykernel_launcher.py:22: UserWarning: Update your `Conv2D` call to the Keras 2 API: `Conv2D(64, (3, 3), activation=\"relu\", padding=\"same\")`\n",
            "/usr/local/lib/python3.6/dist-packages/ipykernel_launcher.py:26: UserWarning: Update your `Conv2D` call to the Keras 2 API: `Conv2D(64, (5, 5), activation=\"relu\", padding=\"same\")`\n",
            "/usr/local/lib/python3.6/dist-packages/ipykernel_launcher.py:33: UserWarning: Update your `Conv2D` call to the Keras 2 API: `Conv2D(128, (3, 3), dilation_rate=1, activation=\"relu\", padding=\"same\")`\n",
            "/usr/local/lib/python3.6/dist-packages/ipykernel_launcher.py:37: UserWarning: Update your `Conv2D` call to the Keras 2 API: `Conv2D(128, (3, 3), dilation_rate=2, activation=\"relu\", padding=\"same\")`\n",
            "/usr/local/lib/python3.6/dist-packages/ipykernel_launcher.py:44: UserWarning: Update your `Conv2D` call to the Keras 2 API: `Conv2D(32, (1, 1), activation=\"relu\")`\n",
            "/usr/local/lib/python3.6/dist-packages/ipykernel_launcher.py:49: UserWarning: Update your `Conv2D` call to the Keras 2 API: `Conv2D(64, (3, 3), activation=\"relu\", padding=\"same\")`\n",
            "/usr/local/lib/python3.6/dist-packages/ipykernel_launcher.py:53: UserWarning: Update your `Conv2D` call to the Keras 2 API: `Conv2D(128, (3, 3), activation=\"relu\", padding=\"same\")`\n",
            "/usr/local/lib/python3.6/dist-packages/ipykernel_launcher.py:57: UserWarning: Update your `Conv2D` call to the Keras 2 API: `Conv2D(10, (1, 1), activation=\"relu\")`\n"
          ],
          "name": "stderr"
        }
      ]
    },
    {
      "cell_type": "markdown",
      "metadata": {
        "id": "jpV_i-XMQ06I",
        "colab_type": "text"
      },
      "source": [
        "### Now let's look at the model summary, Here we can see we have total of 500k parameters to train. Now let's see how this model is going to perform"
      ]
    },
    {
      "cell_type": "code",
      "metadata": {
        "id": "aeImZlv9D-Wk",
        "colab_type": "code",
        "outputId": "d5cc0185-a51a-48ac-cae2-94b7da2ffdf5",
        "colab": {
          "base_uri": "https://localhost:8080/",
          "height": 1598
        }
      },
      "source": [
        "model.summary()"
      ],
      "execution_count": 0,
      "outputs": [
        {
          "output_type": "stream",
          "text": [
            "__________________________________________________________________________________________________\n",
            "Layer (type)                    Output Shape         Param #     Connected to                     \n",
            "==================================================================================================\n",
            "input_9 (InputLayer)            (None, 32, 32, 3)    0                                            \n",
            "__________________________________________________________________________________________________\n",
            "conv2d_88 (Conv2D)              (None, 32, 32, 32)   896         input_9[0][0]                    \n",
            "__________________________________________________________________________________________________\n",
            "batch_normalization_64 (BatchNo (None, 32, 32, 32)   128         conv2d_88[0][0]                  \n",
            "__________________________________________________________________________________________________\n",
            "dropout_47 (Dropout)            (None, 32, 32, 32)   0           batch_normalization_64[0][0]     \n",
            "__________________________________________________________________________________________________\n",
            "conv2d_89 (Conv2D)              (None, 32, 32, 32)   3104        dropout_47[0][0]                 \n",
            "__________________________________________________________________________________________________\n",
            "conv2d_90 (Conv2D)              (None, 32, 32, 64)   6208        conv2d_89[0][0]                  \n",
            "__________________________________________________________________________________________________\n",
            "batch_normalization_65 (BatchNo (None, 32, 32, 64)   256         conv2d_90[0][0]                  \n",
            "__________________________________________________________________________________________________\n",
            "dropout_48 (Dropout)            (None, 32, 32, 64)   0           batch_normalization_65[0][0]     \n",
            "__________________________________________________________________________________________________\n",
            "separable_conv2d_5 (SeparableCo (None, 32, 32, 128)  8896        dropout_48[0][0]                 \n",
            "__________________________________________________________________________________________________\n",
            "batch_normalization_66 (BatchNo (None, 32, 32, 128)  512         separable_conv2d_5[0][0]         \n",
            "__________________________________________________________________________________________________\n",
            "dropout_49 (Dropout)            (None, 32, 32, 128)  0           batch_normalization_66[0][0]     \n",
            "__________________________________________________________________________________________________\n",
            "conv2d_91 (Conv2D)              (None, 32, 32, 32)   4128        dropout_49[0][0]                 \n",
            "__________________________________________________________________________________________________\n",
            "batch_normalization_67 (BatchNo (None, 32, 32, 32)   128         conv2d_91[0][0]                  \n",
            "__________________________________________________________________________________________________\n",
            "max_pooling2d_16 (MaxPooling2D) (None, 16, 16, 32)   0           batch_normalization_67[0][0]     \n",
            "__________________________________________________________________________________________________\n",
            "conv2d_92 (Conv2D)              (None, 16, 16, 64)   18496       max_pooling2d_16[0][0]           \n",
            "__________________________________________________________________________________________________\n",
            "conv2d_93 (Conv2D)              (None, 16, 16, 64)   51264       max_pooling2d_16[0][0]           \n",
            "__________________________________________________________________________________________________\n",
            "batch_normalization_68 (BatchNo (None, 16, 16, 64)   256         conv2d_92[0][0]                  \n",
            "__________________________________________________________________________________________________\n",
            "batch_normalization_69 (BatchNo (None, 16, 16, 64)   256         conv2d_93[0][0]                  \n",
            "__________________________________________________________________________________________________\n",
            "dropout_50 (Dropout)            (None, 16, 16, 64)   0           batch_normalization_68[0][0]     \n",
            "__________________________________________________________________________________________________\n",
            "dropout_51 (Dropout)            (None, 16, 16, 64)   0           batch_normalization_69[0][0]     \n",
            "__________________________________________________________________________________________________\n",
            "concatenate_5 (Concatenate)     (None, 16, 16, 128)  0           dropout_50[0][0]                 \n",
            "                                                                 dropout_51[0][0]                 \n",
            "__________________________________________________________________________________________________\n",
            "conv2d_94 (Conv2D)              (None, 16, 16, 128)  147584      concatenate_5[0][0]              \n",
            "__________________________________________________________________________________________________\n",
            "conv2d_95 (Conv2D)              (None, 16, 16, 128)  147584      concatenate_5[0][0]              \n",
            "__________________________________________________________________________________________________\n",
            "batch_normalization_70 (BatchNo (None, 16, 16, 128)  512         conv2d_94[0][0]                  \n",
            "__________________________________________________________________________________________________\n",
            "batch_normalization_71 (BatchNo (None, 16, 16, 128)  512         conv2d_95[0][0]                  \n",
            "__________________________________________________________________________________________________\n",
            "dropout_52 (Dropout)            (None, 16, 16, 128)  0           batch_normalization_70[0][0]     \n",
            "__________________________________________________________________________________________________\n",
            "dropout_53 (Dropout)            (None, 16, 16, 128)  0           batch_normalization_71[0][0]     \n",
            "__________________________________________________________________________________________________\n",
            "concatenate_6 (Concatenate)     (None, 16, 16, 256)  0           dropout_52[0][0]                 \n",
            "                                                                 dropout_53[0][0]                 \n",
            "__________________________________________________________________________________________________\n",
            "conv2d_96 (Conv2D)              (None, 16, 16, 32)   8224        concatenate_6[0][0]              \n",
            "__________________________________________________________________________________________________\n",
            "batch_normalization_72 (BatchNo (None, 16, 16, 32)   128         conv2d_96[0][0]                  \n",
            "__________________________________________________________________________________________________\n",
            "max_pooling2d_17 (MaxPooling2D) (None, 8, 8, 32)     0           batch_normalization_72[0][0]     \n",
            "__________________________________________________________________________________________________\n",
            "conv2d_97 (Conv2D)              (None, 8, 8, 64)     18496       max_pooling2d_17[0][0]           \n",
            "__________________________________________________________________________________________________\n",
            "batch_normalization_73 (BatchNo (None, 8, 8, 64)     256         conv2d_97[0][0]                  \n",
            "__________________________________________________________________________________________________\n",
            "dropout_54 (Dropout)            (None, 8, 8, 64)     0           batch_normalization_73[0][0]     \n",
            "__________________________________________________________________________________________________\n",
            "conv2d_98 (Conv2D)              (None, 8, 8, 128)    73856       dropout_54[0][0]                 \n",
            "__________________________________________________________________________________________________\n",
            "batch_normalization_74 (BatchNo (None, 8, 8, 128)    512         conv2d_98[0][0]                  \n",
            "__________________________________________________________________________________________________\n",
            "dropout_55 (Dropout)            (None, 8, 8, 128)    0           batch_normalization_74[0][0]     \n",
            "__________________________________________________________________________________________________\n",
            "conv2d_99 (Conv2D)              (None, 8, 8, 10)     1290        dropout_55[0][0]                 \n",
            "__________________________________________________________________________________________________\n",
            "batch_normalization_75 (BatchNo (None, 8, 8, 10)     40          conv2d_99[0][0]                  \n",
            "__________________________________________________________________________________________________\n",
            "conv2d_100 (Conv2D)             (None, 1, 1, 10)     6410        batch_normalization_75[0][0]     \n",
            "__________________________________________________________________________________________________\n",
            "flatten_8 (Flatten)             (None, 10)           0           conv2d_100[0][0]                 \n",
            "__________________________________________________________________________________________________\n",
            "activation_7 (Activation)       (None, 10)           0           flatten_8[0][0]                  \n",
            "==================================================================================================\n",
            "Total params: 499,932\n",
            "Trainable params: 498,184\n",
            "Non-trainable params: 1,748\n",
            "__________________________________________________________________________________________________\n"
          ],
          "name": "stdout"
        }
      ]
    },
    {
      "cell_type": "markdown",
      "metadata": {
        "id": "HYhynNQIRQxI",
        "colab_type": "text"
      },
      "source": [
        "### Now we are going to run this model for 50 epochs and let's check what training accuracy we are going to get:"
      ]
    },
    {
      "cell_type": "code",
      "metadata": {
        "id": "ZnRasb7YEPfd",
        "colab_type": "code",
        "colab": {}
      },
      "source": [
        "from keras.optimizers import Adam\n",
        "from keras.callbacks import LearningRateScheduler\n",
        "from keras.callbacks import ModelCheckpoint\n",
        "\n",
        "def scheduler(epoch, lr):\n",
        "  return round(0.003 * 1/(1 + 0.319 * epoch), 10)\n",
        "\n",
        "model.compile(loss='categorical_crossentropy', optimizer=Adam(lr=0.003), metrics=['accuracy'])"
      ],
      "execution_count": 0,
      "outputs": []
    },
    {
      "cell_type": "code",
      "metadata": {
        "id": "kiv3qnjPEYmx",
        "colab_type": "code",
        "outputId": "89ca5509-c1de-411c-a72d-3847a857015f",
        "colab": {
          "base_uri": "https://localhost:8080/",
          "height": 5606
        }
      },
      "source": [
        "# checkpoint\n",
        "filepath=\"best_model.hdf5\"\n",
        "checkpoint = ModelCheckpoint(filepath, monitor='val_acc', verbose=1, save_best_only=True, mode='max')\n",
        "\n",
        "from keras.preprocessing.image import ImageDataGenerator\n",
        "\n",
        "datagen_train = ImageDataGenerator(zoom_range=0.0,horizontal_flip=False,\n",
        "                             featurewise_center=True, featurewise_std_normalization=True)\n",
        "\n",
        "datagen_test = ImageDataGenerator(featurewise_center=True, featurewise_std_normalization=True)\n",
        "iterator_test = datagen_test.flow(test_features, test_labels, batch_size=len(test_features), shuffle=False)\n",
        "test_features_2, test_labels_2 = iterator_test.next()\n",
        "\n",
        "# train the model\n",
        "start = time.time()\n",
        "# Train the model\n",
        "model_info = model.fit_generator(datagen_train.flow(train_features, train_labels, batch_size = 256),\n",
        "                                 samples_per_epoch = train_features.shape[0], nb_epoch = 50, \n",
        "                                 validation_data = (test_features_2, test_labels_2), verbose=1,\n",
        "                                 callbacks=[checkpoint,LearningRateScheduler(scheduler, verbose=1)])\n",
        "end = time.time()\n",
        "print (\"Model took %0.2f seconds to train\"%(end - start))\n",
        "# plot model history\n",
        "plot_model_history(model_info)\n",
        "# compute test accuracy\n",
        "model.load_weights('best_model.hdf5')\n",
        "print (\"Best Accuracy on test data is: %0.2f\"%accuracy(test_features, test_labels, model))"
      ],
      "execution_count": 0,
      "outputs": [
        {
          "output_type": "stream",
          "text": [
            "/usr/local/lib/python3.6/dist-packages/keras_preprocessing/image/image_data_generator.py:716: UserWarning: This ImageDataGenerator specifies `featurewise_center`, but it hasn't been fit on any training data. Fit it first by calling `.fit(numpy_data)`.\n",
            "  warnings.warn('This ImageDataGenerator specifies '\n",
            "/usr/local/lib/python3.6/dist-packages/keras_preprocessing/image/image_data_generator.py:724: UserWarning: This ImageDataGenerator specifies `featurewise_std_normalization`, but it hasn't been fit on any training data. Fit it first by calling `.fit(numpy_data)`.\n",
            "  warnings.warn('This ImageDataGenerator specifies '\n",
            "/usr/local/lib/python3.6/dist-packages/ipykernel_launcher.py:19: UserWarning: The semantics of the Keras 2 argument `steps_per_epoch` is not the same as the Keras 1 argument `samples_per_epoch`. `steps_per_epoch` is the number of batches to draw from the generator at each epoch. Basically steps_per_epoch = samples_per_epoch/batch_size. Similarly `nb_val_samples`->`validation_steps` and `val_samples`->`steps` arguments have changed. Update your method calls accordingly.\n",
            "/usr/local/lib/python3.6/dist-packages/ipykernel_launcher.py:19: UserWarning: Update your `fit_generator` call to the Keras 2 API: `fit_generator(<keras_pre..., validation_data=(array([[[..., verbose=1, callbacks=[<keras.ca..., steps_per_epoch=195, epochs=50)`\n"
          ],
          "name": "stderr"
        },
        {
          "output_type": "stream",
          "text": [
            "Epoch 1/50\n",
            "\n",
            "Epoch 00001: LearningRateScheduler setting learning rate to 0.003.\n",
            "195/195 [==============================] - 38s 197ms/step - loss: 1.4495 - acc: 0.4785 - val_loss: 2.6545 - val_acc: 0.3457\n",
            "\n",
            "Epoch 00001: val_acc improved from -inf to 0.34570, saving model to best_model.hdf5\n",
            "Epoch 2/50\n",
            "\n",
            "Epoch 00002: LearningRateScheduler setting learning rate to 0.0022744503.\n",
            "195/195 [==============================] - 32s 163ms/step - loss: 0.9645 - acc: 0.6550 - val_loss: 1.0044 - val_acc: 0.6572\n",
            "\n",
            "Epoch 00002: val_acc improved from 0.34570 to 0.65720, saving model to best_model.hdf5\n",
            "Epoch 3/50\n",
            "\n",
            "Epoch 00003: LearningRateScheduler setting learning rate to 0.0018315018.\n",
            "195/195 [==============================] - 32s 163ms/step - loss: 0.7607 - acc: 0.7312 - val_loss: 0.7705 - val_acc: 0.7294\n",
            "\n",
            "Epoch 00003: val_acc improved from 0.65720 to 0.72940, saving model to best_model.hdf5\n",
            "Epoch 4/50\n",
            "\n",
            "Epoch 00004: LearningRateScheduler setting learning rate to 0.0015329586.\n",
            "195/195 [==============================] - 32s 163ms/step - loss: 0.6568 - acc: 0.7692 - val_loss: 0.7804 - val_acc: 0.7383\n",
            "\n",
            "Epoch 00004: val_acc improved from 0.72940 to 0.73830, saving model to best_model.hdf5\n",
            "Epoch 5/50\n",
            "\n",
            "Epoch 00005: LearningRateScheduler setting learning rate to 0.0013181019.\n",
            "195/195 [==============================] - 32s 163ms/step - loss: 0.5698 - acc: 0.8014 - val_loss: 0.7702 - val_acc: 0.7433\n",
            "\n",
            "Epoch 00005: val_acc improved from 0.73830 to 0.74330, saving model to best_model.hdf5\n",
            "Epoch 6/50\n",
            "\n",
            "Epoch 00006: LearningRateScheduler setting learning rate to 0.0011560694.\n",
            "195/195 [==============================] - 32s 163ms/step - loss: 0.5208 - acc: 0.8171 - val_loss: 0.6967 - val_acc: 0.7585\n",
            "\n",
            "Epoch 00006: val_acc improved from 0.74330 to 0.75850, saving model to best_model.hdf5\n",
            "Epoch 7/50\n",
            "\n",
            "Epoch 00007: LearningRateScheduler setting learning rate to 0.0010295127.\n",
            "195/195 [==============================] - 32s 163ms/step - loss: 0.4694 - acc: 0.8365 - val_loss: 0.6322 - val_acc: 0.7862\n",
            "\n",
            "Epoch 00007: val_acc improved from 0.75850 to 0.78620, saving model to best_model.hdf5\n",
            "Epoch 8/50\n",
            "\n",
            "Epoch 00008: LearningRateScheduler setting learning rate to 0.0009279307.\n",
            "195/195 [==============================] - 32s 162ms/step - loss: 0.4248 - acc: 0.8503 - val_loss: 0.6620 - val_acc: 0.7755\n",
            "\n",
            "Epoch 00008: val_acc did not improve from 0.78620\n",
            "Epoch 9/50\n",
            "\n",
            "Epoch 00009: LearningRateScheduler setting learning rate to 0.0008445946.\n",
            "195/195 [==============================] - 32s 162ms/step - loss: 0.3895 - acc: 0.8634 - val_loss: 0.6682 - val_acc: 0.7816\n",
            "\n",
            "Epoch 00009: val_acc did not improve from 0.78620\n",
            "Epoch 10/50\n",
            "\n",
            "Epoch 00010: LearningRateScheduler setting learning rate to 0.0007749935.\n",
            "195/195 [==============================] - 32s 162ms/step - loss: 0.3516 - acc: 0.8770 - val_loss: 0.5836 - val_acc: 0.8063\n",
            "\n",
            "Epoch 00010: val_acc improved from 0.78620 to 0.80630, saving model to best_model.hdf5\n",
            "Epoch 11/50\n",
            "\n",
            "Epoch 00011: LearningRateScheduler setting learning rate to 0.0007159905.\n",
            "195/195 [==============================] - 32s 162ms/step - loss: 0.3265 - acc: 0.8842 - val_loss: 0.6383 - val_acc: 0.7971\n",
            "\n",
            "Epoch 00011: val_acc did not improve from 0.80630\n",
            "Epoch 12/50\n",
            "\n",
            "Epoch 00012: LearningRateScheduler setting learning rate to 0.000665336.\n",
            "195/195 [==============================] - 32s 163ms/step - loss: 0.2985 - acc: 0.8954 - val_loss: 0.6075 - val_acc: 0.8109\n",
            "\n",
            "Epoch 00012: val_acc improved from 0.80630 to 0.81090, saving model to best_model.hdf5\n",
            "Epoch 13/50\n",
            "\n",
            "Epoch 00013: LearningRateScheduler setting learning rate to 0.0006213753.\n",
            "195/195 [==============================] - 32s 163ms/step - loss: 0.2734 - acc: 0.9029 - val_loss: 0.6183 - val_acc: 0.8105\n",
            "\n",
            "Epoch 00013: val_acc did not improve from 0.81090\n",
            "Epoch 14/50\n",
            "\n",
            "Epoch 00014: LearningRateScheduler setting learning rate to 0.0005828638.\n",
            "195/195 [==============================] - 32s 163ms/step - loss: 0.2533 - acc: 0.9101 - val_loss: 0.5957 - val_acc: 0.8170\n",
            "\n",
            "Epoch 00014: val_acc improved from 0.81090 to 0.81700, saving model to best_model.hdf5\n",
            "Epoch 15/50\n",
            "\n",
            "Epoch 00015: LearningRateScheduler setting learning rate to 0.0005488474.\n",
            "195/195 [==============================] - 32s 162ms/step - loss: 0.2330 - acc: 0.9174 - val_loss: 0.6310 - val_acc: 0.8131\n",
            "\n",
            "Epoch 00015: val_acc did not improve from 0.81700\n",
            "Epoch 16/50\n",
            "\n",
            "Epoch 00016: LearningRateScheduler setting learning rate to 0.0005185825.\n",
            "195/195 [==============================] - 32s 162ms/step - loss: 0.2195 - acc: 0.9220 - val_loss: 0.6361 - val_acc: 0.8101\n",
            "\n",
            "Epoch 00016: val_acc did not improve from 0.81700\n",
            "Epoch 17/50\n",
            "\n",
            "Epoch 00017: LearningRateScheduler setting learning rate to 0.000491481.\n",
            "195/195 [==============================] - 32s 163ms/step - loss: 0.2009 - acc: 0.9281 - val_loss: 0.6184 - val_acc: 0.8227\n",
            "\n",
            "Epoch 00017: val_acc improved from 0.81700 to 0.82270, saving model to best_model.hdf5\n",
            "Epoch 18/50\n",
            "\n",
            "Epoch 00018: LearningRateScheduler setting learning rate to 0.0004670715.\n",
            "195/195 [==============================] - 32s 162ms/step - loss: 0.1889 - acc: 0.9328 - val_loss: 0.6175 - val_acc: 0.8242\n",
            "\n",
            "Epoch 00018: val_acc improved from 0.82270 to 0.82420, saving model to best_model.hdf5\n",
            "Epoch 19/50\n",
            "\n",
            "Epoch 00019: LearningRateScheduler setting learning rate to 0.0004449718.\n",
            "195/195 [==============================] - 32s 162ms/step - loss: 0.1774 - acc: 0.9368 - val_loss: 0.6412 - val_acc: 0.8213\n",
            "\n",
            "Epoch 00019: val_acc did not improve from 0.82420\n",
            "Epoch 20/50\n",
            "\n",
            "Epoch 00020: LearningRateScheduler setting learning rate to 0.000424869.\n",
            "195/195 [==============================] - 32s 162ms/step - loss: 0.1583 - acc: 0.9446 - val_loss: 0.6217 - val_acc: 0.8312\n",
            "\n",
            "Epoch 00020: val_acc improved from 0.82420 to 0.83120, saving model to best_model.hdf5\n",
            "Epoch 21/50\n",
            "\n",
            "Epoch 00021: LearningRateScheduler setting learning rate to 0.0004065041.\n",
            "195/195 [==============================] - 32s 162ms/step - loss: 0.1551 - acc: 0.9444 - val_loss: 0.6717 - val_acc: 0.8167\n",
            "\n",
            "Epoch 00021: val_acc did not improve from 0.83120\n",
            "Epoch 22/50\n",
            "\n",
            "Epoch 00022: LearningRateScheduler setting learning rate to 0.000389661.\n",
            "195/195 [==============================] - 32s 162ms/step - loss: 0.1479 - acc: 0.9473 - val_loss: 0.6595 - val_acc: 0.8211\n",
            "\n",
            "Epoch 00022: val_acc did not improve from 0.83120\n",
            "Epoch 23/50\n",
            "\n",
            "Epoch 00023: LearningRateScheduler setting learning rate to 0.0003741581.\n",
            "195/195 [==============================] - 32s 162ms/step - loss: 0.1360 - acc: 0.9524 - val_loss: 0.6780 - val_acc: 0.8235\n",
            "\n",
            "Epoch 00023: val_acc did not improve from 0.83120\n",
            "Epoch 24/50\n",
            "\n",
            "Epoch 00024: LearningRateScheduler setting learning rate to 0.0003598417.\n",
            "195/195 [==============================] - 32s 163ms/step - loss: 0.1304 - acc: 0.9536 - val_loss: 0.6787 - val_acc: 0.8267\n",
            "\n",
            "Epoch 00024: val_acc did not improve from 0.83120\n",
            "Epoch 25/50\n",
            "\n",
            "Epoch 00025: LearningRateScheduler setting learning rate to 0.0003465804.\n",
            "195/195 [==============================] - 32s 162ms/step - loss: 0.1244 - acc: 0.9562 - val_loss: 0.6660 - val_acc: 0.8276\n",
            "\n",
            "Epoch 00025: val_acc did not improve from 0.83120\n",
            "Epoch 26/50\n",
            "\n",
            "Epoch 00026: LearningRateScheduler setting learning rate to 0.0003342618.\n",
            "195/195 [==============================] - 32s 163ms/step - loss: 0.1143 - acc: 0.9588 - val_loss: 0.6722 - val_acc: 0.8296\n",
            "\n",
            "Epoch 00026: val_acc did not improve from 0.83120\n",
            "Epoch 27/50\n",
            "\n",
            "Epoch 00027: LearningRateScheduler setting learning rate to 0.0003227889.\n",
            "195/195 [==============================] - 32s 162ms/step - loss: 0.1117 - acc: 0.9596 - val_loss: 0.7192 - val_acc: 0.8177\n",
            "\n",
            "Epoch 00027: val_acc did not improve from 0.83120\n",
            "Epoch 28/50\n",
            "\n",
            "Epoch 00028: LearningRateScheduler setting learning rate to 0.0003120774.\n",
            "195/195 [==============================] - 32s 162ms/step - loss: 0.1080 - acc: 0.9622 - val_loss: 0.7131 - val_acc: 0.8223\n",
            "\n",
            "Epoch 00028: val_acc did not improve from 0.83120\n",
            "Epoch 29/50\n",
            "\n",
            "Epoch 00029: LearningRateScheduler setting learning rate to 0.000302054.\n",
            "195/195 [==============================] - 32s 162ms/step - loss: 0.1016 - acc: 0.9640 - val_loss: 0.7021 - val_acc: 0.8279\n",
            "\n",
            "Epoch 00029: val_acc did not improve from 0.83120\n",
            "Epoch 30/50\n",
            "\n",
            "Epoch 00030: LearningRateScheduler setting learning rate to 0.0002926544.\n",
            "195/195 [==============================] - 32s 162ms/step - loss: 0.0970 - acc: 0.9655 - val_loss: 0.7333 - val_acc: 0.8280\n",
            "\n",
            "Epoch 00030: val_acc did not improve from 0.83120\n",
            "Epoch 31/50\n",
            "\n",
            "Epoch 00031: LearningRateScheduler setting learning rate to 0.0002838221.\n",
            "195/195 [==============================] - 32s 162ms/step - loss: 0.0946 - acc: 0.9665 - val_loss: 0.7264 - val_acc: 0.8273\n",
            "\n",
            "Epoch 00031: val_acc did not improve from 0.83120\n",
            "Epoch 32/50\n",
            "\n",
            "Epoch 00032: LearningRateScheduler setting learning rate to 0.0002755074.\n",
            "195/195 [==============================] - 32s 162ms/step - loss: 0.0931 - acc: 0.9676 - val_loss: 0.7175 - val_acc: 0.8297\n",
            "\n",
            "Epoch 00032: val_acc did not improve from 0.83120\n",
            "Epoch 33/50\n",
            "\n",
            "Epoch 00033: LearningRateScheduler setting learning rate to 0.000267666.\n",
            "195/195 [==============================] - 32s 163ms/step - loss: 0.0864 - acc: 0.9690 - val_loss: 0.7302 - val_acc: 0.8277\n",
            "\n",
            "Epoch 00033: val_acc did not improve from 0.83120\n",
            "Epoch 34/50\n",
            "\n",
            "Epoch 00034: LearningRateScheduler setting learning rate to 0.0002602585.\n",
            "195/195 [==============================] - 32s 162ms/step - loss: 0.0869 - acc: 0.9687 - val_loss: 0.7310 - val_acc: 0.8299\n",
            "\n",
            "Epoch 00034: val_acc did not improve from 0.83120\n",
            "Epoch 35/50\n",
            "\n",
            "Epoch 00035: LearningRateScheduler setting learning rate to 0.00025325.\n",
            "195/195 [==============================] - 32s 162ms/step - loss: 0.0813 - acc: 0.9717 - val_loss: 0.7272 - val_acc: 0.8336\n",
            "\n",
            "Epoch 00035: val_acc improved from 0.83120 to 0.83360, saving model to best_model.hdf5\n",
            "Epoch 36/50\n",
            "\n",
            "Epoch 00036: LearningRateScheduler setting learning rate to 0.0002466091.\n",
            "195/195 [==============================] - 32s 162ms/step - loss: 0.0809 - acc: 0.9715 - val_loss: 0.7390 - val_acc: 0.8313\n",
            "\n",
            "Epoch 00036: val_acc did not improve from 0.83360\n",
            "Epoch 37/50\n",
            "\n",
            "Epoch 00037: LearningRateScheduler setting learning rate to 0.0002403076.\n",
            "195/195 [==============================] - 32s 162ms/step - loss: 0.0787 - acc: 0.9712 - val_loss: 0.7453 - val_acc: 0.8288\n",
            "\n",
            "Epoch 00037: val_acc did not improve from 0.83360\n",
            "Epoch 38/50\n",
            "\n",
            "Epoch 00038: LearningRateScheduler setting learning rate to 0.0002343201.\n",
            "195/195 [==============================] - 32s 162ms/step - loss: 0.0785 - acc: 0.9719 - val_loss: 0.7542 - val_acc: 0.8310\n",
            "\n",
            "Epoch 00038: val_acc did not improve from 0.83360\n",
            "Epoch 39/50\n",
            "\n",
            "Epoch 00039: LearningRateScheduler setting learning rate to 0.0002286237.\n",
            "195/195 [==============================] - 32s 163ms/step - loss: 0.0731 - acc: 0.9731 - val_loss: 0.7584 - val_acc: 0.8310\n",
            "\n",
            "Epoch 00039: val_acc did not improve from 0.83360\n",
            "Epoch 40/50\n",
            "\n",
            "Epoch 00040: LearningRateScheduler setting learning rate to 0.0002231977.\n",
            "195/195 [==============================] - 32s 163ms/step - loss: 0.0713 - acc: 0.9738 - val_loss: 0.7719 - val_acc: 0.8307\n",
            "\n",
            "Epoch 00040: val_acc did not improve from 0.83360\n",
            "Epoch 41/50\n",
            "\n",
            "Epoch 00041: LearningRateScheduler setting learning rate to 0.0002180233.\n",
            "195/195 [==============================] - 32s 163ms/step - loss: 0.0694 - acc: 0.9744 - val_loss: 0.7544 - val_acc: 0.8321\n",
            "\n",
            "Epoch 00041: val_acc did not improve from 0.83360\n",
            "Epoch 42/50\n",
            "\n",
            "Epoch 00042: LearningRateScheduler setting learning rate to 0.0002130833.\n",
            "195/195 [==============================] - 32s 162ms/step - loss: 0.0666 - acc: 0.9767 - val_loss: 0.7636 - val_acc: 0.8328\n",
            "\n",
            "Epoch 00042: val_acc did not improve from 0.83360\n",
            "Epoch 43/50\n",
            "\n",
            "Epoch 00043: LearningRateScheduler setting learning rate to 0.0002083623.\n",
            "195/195 [==============================] - 32s 163ms/step - loss: 0.0657 - acc: 0.9771 - val_loss: 0.7870 - val_acc: 0.8305\n",
            "\n",
            "Epoch 00043: val_acc did not improve from 0.83360\n",
            "Epoch 44/50\n",
            "\n",
            "Epoch 00044: LearningRateScheduler setting learning rate to 0.0002038459.\n",
            "195/195 [==============================] - 32s 163ms/step - loss: 0.0635 - acc: 0.9779 - val_loss: 0.7783 - val_acc: 0.8294\n",
            "\n",
            "Epoch 00044: val_acc did not improve from 0.83360\n",
            "Epoch 45/50\n",
            "\n",
            "Epoch 00045: LearningRateScheduler setting learning rate to 0.0001995211.\n",
            "195/195 [==============================] - 32s 163ms/step - loss: 0.0618 - acc: 0.9783 - val_loss: 0.7935 - val_acc: 0.8322\n",
            "\n",
            "Epoch 00045: val_acc did not improve from 0.83360\n",
            "Epoch 46/50\n",
            "\n",
            "Epoch 00046: LearningRateScheduler setting learning rate to 0.0001953761.\n",
            "195/195 [==============================] - 32s 163ms/step - loss: 0.0589 - acc: 0.9791 - val_loss: 0.7849 - val_acc: 0.8315\n",
            "\n",
            "Epoch 00046: val_acc did not improve from 0.83360\n",
            "Epoch 47/50\n",
            "\n",
            "Epoch 00047: LearningRateScheduler setting learning rate to 0.0001913998.\n",
            "195/195 [==============================] - 32s 163ms/step - loss: 0.0572 - acc: 0.9792 - val_loss: 0.7808 - val_acc: 0.8323\n",
            "\n",
            "Epoch 00047: val_acc did not improve from 0.83360\n",
            "Epoch 48/50\n",
            "\n",
            "Epoch 00048: LearningRateScheduler setting learning rate to 0.0001875821.\n",
            "195/195 [==============================] - 32s 163ms/step - loss: 0.0573 - acc: 0.9799 - val_loss: 0.7953 - val_acc: 0.8305\n",
            "\n",
            "Epoch 00048: val_acc did not improve from 0.83360\n",
            "Epoch 49/50\n",
            "\n",
            "Epoch 00049: LearningRateScheduler setting learning rate to 0.0001839137.\n",
            "195/195 [==============================] - 32s 163ms/step - loss: 0.0591 - acc: 0.9789 - val_loss: 0.8014 - val_acc: 0.8339\n",
            "\n",
            "Epoch 00049: val_acc improved from 0.83360 to 0.83390, saving model to best_model.hdf5\n",
            "Epoch 50/50\n",
            "\n",
            "Epoch 00050: LearningRateScheduler setting learning rate to 0.000180386.\n",
            "195/195 [==============================] - 32s 163ms/step - loss: 0.0561 - acc: 0.9805 - val_loss: 0.7945 - val_acc: 0.8369\n",
            "\n",
            "Epoch 00050: val_acc improved from 0.83390 to 0.83690, saving model to best_model.hdf5\n",
            "Model took 1606.51 seconds to train\n"
          ],
          "name": "stdout"
        },
        {
          "output_type": "display_data",
          "data": {
            "image/png": "[encoded data removed]",
            "text/plain": [
              "<Figure size 1080x360 with 2 Axes>"
            ]
          },
          "metadata": {
            "tags": []
          }
        },
        {
          "output_type": "stream",
          "text": [
            "Best Accuracy on test data is: 83.69\n"
          ],
          "name": "stdout"
        }
      ]
    },
    {
      "cell_type": "markdown",
      "metadata": {
        "id": "YePjG6WX9RG-",
        "colab_type": "text"
      },
      "source": [
        "### So, in the above model we can see that after introducing separable convolution, group convolution and dialiation convolution we have got best validation accuracy 83.69%"
      ]
    }
  ]
}